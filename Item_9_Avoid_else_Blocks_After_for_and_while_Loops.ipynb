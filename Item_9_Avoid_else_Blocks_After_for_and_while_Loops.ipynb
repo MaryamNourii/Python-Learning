{
  "nbformat": 4,
  "nbformat_minor": 0,
  "metadata": {
    "colab": {
      "provenance": [],
      "authorship_tag": "ABX9TyN8FI9IqWC5mTX+0DEdiX+k",
      "include_colab_link": true
    },
    "kernelspec": {
      "name": "python3",
      "display_name": "Python 3"
    },
    "language_info": {
      "name": "python"
    }
  },
  "cells": [
    {
      "cell_type": "markdown",
      "metadata": {
        "id": "view-in-github",
        "colab_type": "text"
      },
      "source": [
        "<a href=\"https://colab.research.google.com/github/MaryamNourii/Python-Learning/blob/Clean_Code/Item_9_Avoid_else_Blocks_After_for_and_while_Loops.ipynb\" target=\"_parent\"><img src=\"https://colab.research.google.com/assets/colab-badge.svg\" alt=\"Open In Colab\"/></a>"
      ]
    },
    {
      "cell_type": "code",
      "source": [
        "for i in range(3):\n",
        "    print('Loop', i)\n",
        "else:\n",
        "    print('Else block!')\n"
      ],
      "metadata": {
        "colab": {
          "base_uri": "https://localhost:8080/"
        },
        "id": "nyfTwPB1bEwd",
        "outputId": "ec5537c5-8e70-4a15-b505-a47346546284"
      },
      "execution_count": 1,
      "outputs": [
        {
          "output_type": "stream",
          "name": "stdout",
          "text": [
            "Loop 0\n",
            "Loop 1\n",
            "Loop 2\n",
            "Else block!\n"
          ]
        }
      ]
    },
    {
      "cell_type": "code",
      "source": [
        "for i in range(3):\n",
        "    print('Loop', i)\n",
        "    if i == 1:\n",
        "        break\n",
        "else:\n",
        "    print('Else block!')"
      ],
      "metadata": {
        "colab": {
          "base_uri": "https://localhost:8080/"
        },
        "id": "9qW-CTGFbGBN",
        "outputId": "a8ad436b-9c80-4219-c0ea-e31f14d3a2a5"
      },
      "execution_count": 2,
      "outputs": [
        {
          "output_type": "stream",
          "name": "stdout",
          "text": [
            "Loop 0\n",
            "Loop 1\n"
          ]
        }
      ]
    },
    {
      "cell_type": "code",
      "source": [
        "for x in []:\n",
        "    print('Never runs')\n",
        "else:\n",
        "    print('For Else block!')\n"
      ],
      "metadata": {
        "colab": {
          "base_uri": "https://localhost:8080/"
        },
        "id": "Yc0XpF5ZbPbk",
        "outputId": "f57b44d1-11ea-4695-923c-90e0087e1980"
      },
      "execution_count": 3,
      "outputs": [
        {
          "output_type": "stream",
          "name": "stdout",
          "text": [
            "For Else block!\n"
          ]
        }
      ]
    },
    {
      "cell_type": "code",
      "source": [
        "while False:\n",
        "    print('Never runs')\n",
        "else:\n",
        "    print('While Else block!')\n"
      ],
      "metadata": {
        "colab": {
          "base_uri": "https://localhost:8080/"
        },
        "id": "wH6j-IPRbW_A",
        "outputId": "3cc7bb3e-3f55-4511-86f0-ee488f46a377"
      },
      "execution_count": 4,
      "outputs": [
        {
          "output_type": "stream",
          "name": "stdout",
          "text": [
            "While Else block!\n"
          ]
        }
      ]
    },
    {
      "cell_type": "code",
      "source": [
        "a = 4\n",
        "b = 9\n",
        "\n",
        "for i in range(2, min(a, b) + 1):\n",
        "    print('Testing', i)\n",
        "    if a % i == 0 and b % i == 0:\n",
        "        print('Not coprime')\n",
        "        break\n",
        "else:\n",
        "    print('Coprime')"
      ],
      "metadata": {
        "colab": {
          "base_uri": "https://localhost:8080/"
        },
        "id": "bZbmO8hhbfGr",
        "outputId": "114847db-7a28-4e4a-8d3c-1a1edd2368ec"
      },
      "execution_count": 5,
      "outputs": [
        {
          "output_type": "stream",
          "name": "stdout",
          "text": [
            "Testing 2\n",
            "Testing 3\n",
            "Testing 4\n",
            "Coprime\n"
          ]
        }
      ]
    },
    {
      "cell_type": "code",
      "source": [
        "def coprime(a, b):\n",
        "    for i in range(2, min(a, b) + 1):\n",
        "        if a % i == 0 and b % i == 0:\n",
        "            return False\n",
        "    return True\n",
        "\n",
        "assert coprime(4, 9)\n",
        "assert not coprime(3, 6)"
      ],
      "metadata": {
        "id": "9R0F8xDNbpTB"
      },
      "execution_count": 6,
      "outputs": []
    },
    {
      "cell_type": "code",
      "source": [
        "def coprime_alternate(a, b):\n",
        "    is_coprime = True\n",
        "    for i in range(2, min(a, b) + 1):\n",
        "        if a % i == 0 and b % i == 0:\n",
        "            is_coprime = False\n",
        "            break\n",
        "    return is_coprime\n",
        "\n",
        "assert coprime_alternate(4, 9)\n",
        "assert not coprime_alternate(3, 6)"
      ],
      "metadata": {
        "id": "DCWQpYVfbsod"
      },
      "execution_count": 7,
      "outputs": []
    }
  ]
}