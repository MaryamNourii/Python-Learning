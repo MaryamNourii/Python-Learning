{
  "nbformat": 4,
  "nbformat_minor": 0,
  "metadata": {
    "colab": {
      "provenance": [],
      "authorship_tag": "ABX9TyO2dFOtDR74rlaotNpse0rE",
      "include_colab_link": true
    },
    "kernelspec": {
      "name": "python3",
      "display_name": "Python 3"
    },
    "language_info": {
      "name": "python"
    }
  },
  "cells": [
    {
      "cell_type": "markdown",
      "metadata": {
        "id": "view-in-github",
        "colab_type": "text"
      },
      "source": [
        "<a href=\"https://colab.research.google.com/github/MaryamNourii/Python-Learning/blob/Clean_Code/Item_5_Write_helper_function_instead_of_complex_expression.ipynb\" target=\"_parent\"><img src=\"https://colab.research.google.com/assets/colab-badge.svg\" alt=\"Open In Colab\"/></a>"
      ]
    },
    {
      "cell_type": "code",
      "execution_count": null,
      "metadata": {
        "colab": {
          "base_uri": "https://localhost:8080/"
        },
        "id": "PsH4cODP_OGM",
        "outputId": "4d9e6e26-b91b-4b35-c624-33f6c4f3c9cd"
      },
      "outputs": [
        {
          "output_type": "stream",
          "name": "stdout",
          "text": [
            "{'red': ['5'], 'blue': ['0'], 'green': ['']}\n"
          ]
        }
      ],
      "source": [
        "from urllib.parse import parse_qs\n",
        "\n",
        "my_values = parse_qs('red=5&blue=0&green=',\n",
        "                     keep_blank_values=True)\n",
        "print(repr(my_values))"
      ]
    },
    {
      "cell_type": "code",
      "source": [
        "print('Red:     ', my_values.get('red'))\n",
        "print('Green:   ', my_values.get('green'))\n",
        "print('Opacity: ', my_values.get('opacity'))"
      ],
      "metadata": {
        "colab": {
          "base_uri": "https://localhost:8080/"
        },
        "id": "A1jvv5S-JDtD",
        "outputId": "bd0d71fb-6147-450a-ef77-23884689ca56"
      },
      "execution_count": null,
      "outputs": [
        {
          "output_type": "stream",
          "name": "stdout",
          "text": [
            "Red:      ['5']\n",
            "Green:    ['']\n",
            "Opacity:  None\n"
          ]
        }
      ]
    },
    {
      "cell_type": "code",
      "source": [
        "2 or 3"
      ],
      "metadata": {
        "colab": {
          "base_uri": "https://localhost:8080/"
        },
        "id": "JQpSwD1YOrdO",
        "outputId": "bd75c3a7-4e20-4abe-8778-95b44ae82b9a"
      },
      "execution_count": null,
      "outputs": [
        {
          "output_type": "execute_result",
          "data": {
            "text/plain": [
              "2"
            ]
          },
          "metadata": {},
          "execution_count": 13
        }
      ]
    },
    {
      "cell_type": "code",
      "source": [
        "5 or 0.0"
      ],
      "metadata": {
        "colab": {
          "base_uri": "https://localhost:8080/"
        },
        "id": "WxcLBYaLO1_V",
        "outputId": "71183e74-58ac-4d17-fcb3-d165efe6bbd6"
      },
      "execution_count": null,
      "outputs": [
        {
          "output_type": "execute_result",
          "data": {
            "text/plain": [
              "5"
            ]
          },
          "metadata": {},
          "execution_count": 17
        }
      ]
    },
    {
      "cell_type": "code",
      "source": [
        "'' or 0"
      ],
      "metadata": {
        "colab": {
          "base_uri": "https://localhost:8080/"
        },
        "id": "1u1GOC21PFNQ",
        "outputId": "ba438ac0-88e2-4b8f-c0c9-776e89cb25d3"
      },
      "execution_count": null,
      "outputs": [
        {
          "output_type": "execute_result",
          "data": {
            "text/plain": [
              "0"
            ]
          },
          "metadata": {},
          "execution_count": 20
        }
      ]
    },
    {
      "cell_type": "code",
      "source": [
        "0 or {}"
      ],
      "metadata": {
        "colab": {
          "base_uri": "https://localhost:8080/"
        },
        "id": "5nEyXZo6O5XP",
        "outputId": "4145af39-cb40-4a5f-e7ab-deb529a8fe17"
      },
      "execution_count": null,
      "outputs": [
        {
          "output_type": "execute_result",
          "data": {
            "text/plain": [
              "{}"
            ]
          },
          "metadata": {},
          "execution_count": 14
        }
      ]
    },
    {
      "cell_type": "code",
      "source": [
        "[] or 3"
      ],
      "metadata": {
        "colab": {
          "base_uri": "https://localhost:8080/"
        },
        "id": "EtedkjfGO3vb",
        "outputId": "5ec9f3ed-3147-4af7-8377-6a8e14260f95"
      },
      "execution_count": null,
      "outputs": [
        {
          "output_type": "execute_result",
          "data": {
            "text/plain": [
              "3"
            ]
          },
          "metadata": {},
          "execution_count": 15
        }
      ]
    },
    {
      "cell_type": "code",
      "source": [
        "red = my_values.get('red', [''])[0] or 0\n",
        "green = my_values.get('green', [''])[0] or 0\n",
        "opacity = my_values.get('opacity', [''])[0] or 0\n",
        "print(f'Red:     {red!r}')\n",
        "print(f'Green:   {green!r}')\n",
        "print(f'Opacity: {opacity!r}')"
      ],
      "metadata": {
        "colab": {
          "base_uri": "https://localhost:8080/"
        },
        "id": "n95SEigvJYuB",
        "outputId": "8293be18-5be4-4aac-a055-e9b5e46cc550"
      },
      "execution_count": null,
      "outputs": [
        {
          "output_type": "stream",
          "name": "stdout",
          "text": [
            "Red:     '5'\n",
            "Green:   0\n",
            "Opacity: 0\n"
          ]
        }
      ]
    },
    {
      "cell_type": "code",
      "source": [
        "red = int(my_values.get('red', [''])[0] or 0)\n",
        "green = int(my_values.get('green', [''])[0] or 0)\n",
        "opacity = int(my_values.get('opacity', [''])[0] or 0)\n",
        "print(f'Red:     {red!r}')\n",
        "print(f'Green:   {green!r}')\n",
        "print(f'Opacity: {opacity!r}')"
      ],
      "metadata": {
        "colab": {
          "base_uri": "https://localhost:8080/"
        },
        "id": "ppgmK4rKNJJY",
        "outputId": "7dc5e87d-e5d8-4ecc-fe10-fde4357e8515"
      },
      "execution_count": null,
      "outputs": [
        {
          "output_type": "stream",
          "name": "stdout",
          "text": [
            "Red:     5\n",
            "Green:   0\n",
            "Opacity: 0\n"
          ]
        }
      ]
    },
    {
      "cell_type": "code",
      "source": [
        "red_str = my_values.get('red', [''])\n",
        "red = int(red_str[0]) if red_str[0] else 0\n",
        "green_str = my_values.get('green', [''])\n",
        "green = int(green_str[0]) if green_str[0] else 0\n",
        "opacity_str = my_values.get('opacity', [''])\n",
        "opacity = int(opacity_str[0]) if opacity_str[0] else 0\n",
        "print(f'Red:     {red!r}')\n",
        "print(f'Green:   {green!r}')\n",
        "print(f'Opacity: {opacity!r}')"
      ],
      "metadata": {
        "colab": {
          "base_uri": "https://localhost:8080/"
        },
        "id": "_R8BcxFMNM3I",
        "outputId": "d74a042c-37f5-43ae-9fc4-e72f2cef8e12"
      },
      "execution_count": null,
      "outputs": [
        {
          "output_type": "stream",
          "name": "stdout",
          "text": [
            "Red:     5\n",
            "Green:   0\n",
            "Opacity: 0\n"
          ]
        }
      ]
    },
    {
      "cell_type": "code",
      "source": [
        "green_str = my_values.get('green', [''])\n",
        "if green_str[0]:\n",
        "    green = int(green_str[0])\n",
        "else:\n",
        "    green = 0\n",
        "print(f'Green:   {green!r}')"
      ],
      "metadata": {
        "colab": {
          "base_uri": "https://localhost:8080/"
        },
        "id": "CgQqTHIGNP8T",
        "outputId": "bc0a5aba-be64-49aa-ccbc-8770c3a11eb2"
      },
      "execution_count": null,
      "outputs": [
        {
          "output_type": "stream",
          "name": "stdout",
          "text": [
            "Green:   0\n"
          ]
        }
      ]
    },
    {
      "cell_type": "code",
      "source": [
        "def get_first_int(values, key, default=0):\n",
        "    found = values.get(key, [''])\n",
        "    if found[0]:\n",
        "        return int(found[0])\n",
        "    return default\n",
        "\n",
        "green = get_first_int(my_values, 'green')\n",
        "print(f'Green:   {green!r}')"
      ],
      "metadata": {
        "colab": {
          "base_uri": "https://localhost:8080/"
        },
        "id": "xn7tpKabNSBj",
        "outputId": "74ec9a06-b496-4baa-db73-21e3c3f0f541"
      },
      "execution_count": null,
      "outputs": [
        {
          "output_type": "stream",
          "name": "stdout",
          "text": [
            "Green:   0\n"
          ]
        }
      ]
    }
  ]
}