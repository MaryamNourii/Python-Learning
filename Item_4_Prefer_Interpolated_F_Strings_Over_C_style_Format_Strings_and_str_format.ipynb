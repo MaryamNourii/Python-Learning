{
  "nbformat": 4,
  "nbformat_minor": 0,
  "metadata": {
    "colab": {
      "provenance": [],
      "authorship_tag": "ABX9TyM3E1+4+bQpxpK+ZVlWx7M2",
      "include_colab_link": true
    },
    "kernelspec": {
      "name": "python3",
      "display_name": "Python 3"
    },
    "language_info": {
      "name": "python"
    }
  },
  "cells": [
    {
      "cell_type": "markdown",
      "metadata": {
        "id": "view-in-github",
        "colab_type": "text"
      },
      "source": [
        "<a href=\"https://colab.research.google.com/github/MaryamNourii/Python-Learning/blob/Clean_Code/Item_4_Prefer_Interpolated_F_Strings_Over_C_style_Format_Strings_and_str_format.ipynb\" target=\"_parent\"><img src=\"https://colab.research.google.com/assets/colab-badge.svg\" alt=\"Open In Colab\"/></a>"
      ]
    },
    {
      "cell_type": "markdown",
      "source": [
        "Item 4: Prefer Interpolated F-Strings Over C-style Format Strings and str.format"
      ],
      "metadata": {
        "id": "OHKK_-NWsrJi"
      }
    },
    {
      "cell_type": "code",
      "source": [
        "a = 11\n",
        "b = 0b1011\n",
        "c = 0o13\n",
        "d = 0xb\n",
        "\n",
        "\n",
        "\n",
        "dec = 344\n",
        "print(\"The decimal value of\", dec, \"is:\")\n",
        "print(bin(dec), \"in binary.\")\n",
        "print(oct(dec), \"in octal.\")\n",
        "print(hex(dec), \"in hexadecimal.\")\n"
      ],
      "metadata": {
        "colab": {
          "base_uri": "https://localhost:8080/"
        },
        "id": "PmDKLA-eswjM",
        "outputId": "8969dd97-14e3-4846-c43c-f640c715d1f3"
      },
      "execution_count": null,
      "outputs": [
        {
          "output_type": "stream",
          "name": "stdout",
          "text": [
            "The decimal value of 344 is:\n",
            "0b101011000 in binary.\n",
            "0o530 in octal.\n",
            "0x158 in hexadecimal.\n"
          ]
        }
      ]
    },
    {
      "cell_type": "code",
      "source": [
        "#Assert\n",
        "x = 1\n",
        "y = 0\n",
        "assert y != 0\n",
        "print(x / y)"
      ],
      "metadata": {
        "colab": {
          "base_uri": "https://localhost:8080/",
          "height": 228
        },
        "id": "6wO2E5JntETa",
        "outputId": "8172df43-77d1-476e-e72b-b58a371b089b"
      },
      "execution_count": null,
      "outputs": [
        {
          "output_type": "error",
          "ename": "AssertionError",
          "evalue": "",
          "traceback": [
            "\u001b[0;31m---------------------------------------------------------------------------\u001b[0m",
            "\u001b[0;31mAssertionError\u001b[0m                            Traceback (most recent call last)",
            "\u001b[0;32m<ipython-input-5-92bb4edc8788>\u001b[0m in \u001b[0;36m<cell line: 5>\u001b[0;34m()\u001b[0m\n\u001b[1;32m      3\u001b[0m \u001b[0mx\u001b[0m \u001b[0;34m=\u001b[0m \u001b[0;36m1\u001b[0m\u001b[0;34m\u001b[0m\u001b[0;34m\u001b[0m\u001b[0m\n\u001b[1;32m      4\u001b[0m \u001b[0my\u001b[0m \u001b[0;34m=\u001b[0m \u001b[0;36m0\u001b[0m\u001b[0;34m\u001b[0m\u001b[0;34m\u001b[0m\u001b[0m\n\u001b[0;32m----> 5\u001b[0;31m \u001b[0;32massert\u001b[0m \u001b[0my\u001b[0m \u001b[0;34m!=\u001b[0m \u001b[0;36m0\u001b[0m\u001b[0;34m\u001b[0m\u001b[0;34m\u001b[0m\u001b[0m\n\u001b[0m\u001b[1;32m      6\u001b[0m \u001b[0mprint\u001b[0m\u001b[0;34m(\u001b[0m\u001b[0mx\u001b[0m \u001b[0;34m/\u001b[0m \u001b[0my\u001b[0m\u001b[0;34m)\u001b[0m\u001b[0;34m\u001b[0m\u001b[0;34m\u001b[0m\u001b[0m\n",
            "\u001b[0;31mAssertionError\u001b[0m: "
          ]
        }
      ]
    },
    {
      "cell_type": "code",
      "source": [
        "#Assert\n",
        "shoes = {'name': 'Fancy Shoes', 'price': 149}\n",
        "def apply_discount(product, discount):\n",
        "    price = int(product['price'] * (1.0 - discount))\n",
        "    assert 0 <= price <= product['price']\n",
        "    return price\n",
        "\n",
        "print(apply_discount(shoes, 0.25))\n",
        "print(apply_discount(shoes, 2.0))"
      ],
      "metadata": {
        "colab": {
          "base_uri": "https://localhost:8080/",
          "height": 350
        },
        "id": "NZMD4y4Ztite",
        "outputId": "df0f757c-c30d-4608-a7d0-1efd0c290689"
      },
      "execution_count": null,
      "outputs": [
        {
          "output_type": "stream",
          "name": "stdout",
          "text": [
            "111\n"
          ]
        },
        {
          "output_type": "error",
          "ename": "AssertionError",
          "evalue": "",
          "traceback": [
            "\u001b[0;31m---------------------------------------------------------------------------\u001b[0m",
            "\u001b[0;31mAssertionError\u001b[0m                            Traceback (most recent call last)",
            "\u001b[0;32m<ipython-input-6-3cef928762a7>\u001b[0m in \u001b[0;36m<cell line: 8>\u001b[0;34m()\u001b[0m\n\u001b[1;32m      6\u001b[0m \u001b[0;34m\u001b[0m\u001b[0m\n\u001b[1;32m      7\u001b[0m \u001b[0mprint\u001b[0m\u001b[0;34m(\u001b[0m\u001b[0mapply_discount\u001b[0m\u001b[0;34m(\u001b[0m\u001b[0mshoes\u001b[0m\u001b[0;34m,\u001b[0m \u001b[0;36m0.25\u001b[0m\u001b[0;34m)\u001b[0m\u001b[0;34m)\u001b[0m\u001b[0;34m\u001b[0m\u001b[0;34m\u001b[0m\u001b[0m\n\u001b[0;32m----> 8\u001b[0;31m \u001b[0mprint\u001b[0m\u001b[0;34m(\u001b[0m\u001b[0mapply_discount\u001b[0m\u001b[0;34m(\u001b[0m\u001b[0mshoes\u001b[0m\u001b[0;34m,\u001b[0m \u001b[0;36m2.0\u001b[0m\u001b[0;34m)\u001b[0m\u001b[0;34m)\u001b[0m\u001b[0;34m\u001b[0m\u001b[0;34m\u001b[0m\u001b[0m\n\u001b[0m",
            "\u001b[0;32m<ipython-input-6-3cef928762a7>\u001b[0m in \u001b[0;36mapply_discount\u001b[0;34m(product, discount)\u001b[0m\n\u001b[1;32m      2\u001b[0m \u001b[0;32mdef\u001b[0m \u001b[0mapply_discount\u001b[0m\u001b[0;34m(\u001b[0m\u001b[0mproduct\u001b[0m\u001b[0;34m,\u001b[0m \u001b[0mdiscount\u001b[0m\u001b[0;34m)\u001b[0m\u001b[0;34m:\u001b[0m\u001b[0;34m\u001b[0m\u001b[0;34m\u001b[0m\u001b[0m\n\u001b[1;32m      3\u001b[0m     \u001b[0mprice\u001b[0m \u001b[0;34m=\u001b[0m \u001b[0mint\u001b[0m\u001b[0;34m(\u001b[0m\u001b[0mproduct\u001b[0m\u001b[0;34m[\u001b[0m\u001b[0;34m'price'\u001b[0m\u001b[0;34m]\u001b[0m \u001b[0;34m*\u001b[0m \u001b[0;34m(\u001b[0m\u001b[0;36m1.0\u001b[0m \u001b[0;34m-\u001b[0m \u001b[0mdiscount\u001b[0m\u001b[0;34m)\u001b[0m\u001b[0;34m)\u001b[0m\u001b[0;34m\u001b[0m\u001b[0;34m\u001b[0m\u001b[0m\n\u001b[0;32m----> 4\u001b[0;31m     \u001b[0;32massert\u001b[0m \u001b[0;36m0\u001b[0m \u001b[0;34m<=\u001b[0m \u001b[0mprice\u001b[0m \u001b[0;34m<=\u001b[0m \u001b[0mproduct\u001b[0m\u001b[0;34m[\u001b[0m\u001b[0;34m'price'\u001b[0m\u001b[0;34m]\u001b[0m\u001b[0;34m\u001b[0m\u001b[0;34m\u001b[0m\u001b[0m\n\u001b[0m\u001b[1;32m      5\u001b[0m     \u001b[0;32mreturn\u001b[0m \u001b[0mprice\u001b[0m\u001b[0;34m\u001b[0m\u001b[0;34m\u001b[0m\u001b[0m\n\u001b[1;32m      6\u001b[0m \u001b[0;34m\u001b[0m\u001b[0m\n",
            "\u001b[0;31mAssertionError\u001b[0m: "
          ]
        }
      ]
    },
    {
      "cell_type": "markdown",
      "source": [
        "C-Style string formatting %\n",
        "\n",
        "\n",
        "Specifiers review\n",
        "\n",
        "%s – String\n",
        "\n",
        "%d - Integers\n",
        "\n",
        "%f - Floating point numbers\n",
        "\n",
        "%.<number of digits>f - Floating point numbers with a fixed amount of digits to\n",
        "the right of the dot."
      ],
      "metadata": {
        "id": "TEgR8BARu7qA"
      }
    },
    {
      "cell_type": "code",
      "source": [
        "a = 0b10111011\n",
        "b = 0xc5f\n",
        "print('Binary is %d, hex is %d' % (a, b))"
      ],
      "metadata": {
        "colab": {
          "base_uri": "https://localhost:8080/"
        },
        "id": "yiB9aZoRt9SO",
        "outputId": "38185ae4-6028-42fe-a04e-73ce188e2171"
      },
      "execution_count": null,
      "outputs": [
        {
          "output_type": "stream",
          "name": "stdout",
          "text": [
            "Binary is 187, hex is 3167\n"
          ]
        }
      ]
    },
    {
      "cell_type": "code",
      "source": [
        "key = 'my_var'\n",
        "value = 1.234\n",
        "formatted = '%-10s = %.2f' % (key, value)\n",
        "print(formatted)\n",
        "\n",
        "formatted1 = '%10s = %.2f' % (key, value)\n",
        "print(formatted1)"
      ],
      "metadata": {
        "colab": {
          "base_uri": "https://localhost:8080/"
        },
        "id": "WeoPCs3muhjH",
        "outputId": "7e02b96d-afd5-4dbf-ccda-10d707b3837e"
      },
      "execution_count": null,
      "outputs": [
        {
          "output_type": "stream",
          "name": "stdout",
          "text": [
            "my_var     = 1.23\n",
            "    my_var = 1.23\n"
          ]
        }
      ]
    },
    {
      "cell_type": "code",
      "source": [
        "formatted2 = '%.2f = %-10s' % (key, value)\n",
        "print(formatted2)"
      ],
      "metadata": {
        "colab": {
          "base_uri": "https://localhost:8080/",
          "height": 194
        },
        "id": "AU9qSapPu5-z",
        "outputId": "df1dffab-6910-41f5-98ea-eb457b65c666"
      },
      "execution_count": null,
      "outputs": [
        {
          "output_type": "error",
          "ename": "TypeError",
          "evalue": "must be real number, not str",
          "traceback": [
            "\u001b[0;31m---------------------------------------------------------------------------\u001b[0m",
            "\u001b[0;31mTypeError\u001b[0m                                 Traceback (most recent call last)",
            "\u001b[0;32m<ipython-input-15-29af48a3cd81>\u001b[0m in \u001b[0;36m<cell line: 1>\u001b[0;34m()\u001b[0m\n\u001b[0;32m----> 1\u001b[0;31m \u001b[0mformatted2\u001b[0m \u001b[0;34m=\u001b[0m \u001b[0;34m'%.2f = %-10s'\u001b[0m \u001b[0;34m%\u001b[0m \u001b[0;34m(\u001b[0m\u001b[0mkey\u001b[0m\u001b[0;34m,\u001b[0m \u001b[0mvalue\u001b[0m\u001b[0;34m)\u001b[0m\u001b[0;34m\u001b[0m\u001b[0;34m\u001b[0m\u001b[0m\n\u001b[0m\u001b[1;32m      2\u001b[0m \u001b[0mprint\u001b[0m\u001b[0;34m(\u001b[0m\u001b[0mformatted2\u001b[0m\u001b[0;34m)\u001b[0m\u001b[0;34m\u001b[0m\u001b[0;34m\u001b[0m\u001b[0m\n",
            "\u001b[0;31mTypeError\u001b[0m: must be real number, not str"
          ]
        }
      ]
    },
    {
      "cell_type": "code",
      "source": [
        "formatted2 = '%-10s = %.2f' % (value, key)\n",
        "print(formatted2)"
      ],
      "metadata": {
        "colab": {
          "base_uri": "https://localhost:8080/",
          "height": 194
        },
        "id": "LjEcYwnMwhT6",
        "outputId": "65464dd8-04cb-4a27-9831-66f950ac2755"
      },
      "execution_count": null,
      "outputs": [
        {
          "output_type": "error",
          "ename": "TypeError",
          "evalue": "must be real number, not str",
          "traceback": [
            "\u001b[0;31m---------------------------------------------------------------------------\u001b[0m",
            "\u001b[0;31mTypeError\u001b[0m                                 Traceback (most recent call last)",
            "\u001b[0;32m<ipython-input-17-e659d14667eb>\u001b[0m in \u001b[0;36m<cell line: 1>\u001b[0;34m()\u001b[0m\n\u001b[0;32m----> 1\u001b[0;31m \u001b[0mformatted2\u001b[0m \u001b[0;34m=\u001b[0m \u001b[0;34m'%-10s = %.2f'\u001b[0m \u001b[0;34m%\u001b[0m \u001b[0;34m(\u001b[0m\u001b[0mvalue\u001b[0m\u001b[0;34m,\u001b[0m \u001b[0mkey\u001b[0m\u001b[0;34m)\u001b[0m\u001b[0;34m\u001b[0m\u001b[0;34m\u001b[0m\u001b[0m\n\u001b[0m\u001b[1;32m      2\u001b[0m \u001b[0mprint\u001b[0m\u001b[0;34m(\u001b[0m\u001b[0mformatted2\u001b[0m\u001b[0;34m)\u001b[0m\u001b[0;34m\u001b[0m\u001b[0;34m\u001b[0m\u001b[0m\n",
            "\u001b[0;31mTypeError\u001b[0m: must be real number, not str"
          ]
        }
      ]
    },
    {
      "cell_type": "code",
      "source": [
        "pantry = [\n",
        "('avocados', 1.25),\n",
        "('bananas', 2.5),\n",
        "('cherries', 15),\n",
        "]\n",
        "for i, (item, count) in enumerate(pantry):\n",
        "    print('#%d: %-10s = %.2f' % (i, item, count))"
      ],
      "metadata": {
        "colab": {
          "base_uri": "https://localhost:8080/"
        },
        "id": "Be3UuzpOwWSu",
        "outputId": "b6f448d7-064b-400a-a9e8-947b22cf2a32"
      },
      "execution_count": null,
      "outputs": [
        {
          "output_type": "stream",
          "name": "stdout",
          "text": [
            "#0: avocados   = 1.25\n",
            "#1: bananas    = 2.50\n",
            "#2: cherries   = 15.00\n"
          ]
        }
      ]
    },
    {
      "cell_type": "code",
      "source": [
        "for i, (item, count) in enumerate(pantry):\n",
        "    print('#%d: %-10s = %d' % (\n",
        "    i + 1,\n",
        "    item.title(),\n",
        "    round(count)))"
      ],
      "metadata": {
        "colab": {
          "base_uri": "https://localhost:8080/"
        },
        "id": "0jID76UMxAXb",
        "outputId": "57d644df-4e94-4a4d-ea07-a154fbfd5089"
      },
      "execution_count": null,
      "outputs": [
        {
          "output_type": "stream",
          "name": "stdout",
          "text": [
            "#1: Avocados   = 1\n",
            "#2: Bananas    = 2\n",
            "#3: Cherries   = 15\n"
          ]
        }
      ]
    },
    {
      "cell_type": "code",
      "source": [
        "template = '%s loves food. See %s cook.'\n",
        "name = 'Max'\n",
        "formatted = template % (name, name)\n",
        "print(formatted)"
      ],
      "metadata": {
        "colab": {
          "base_uri": "https://localhost:8080/"
        },
        "id": "YKnh2LwGxciO",
        "outputId": "b8261b51-927e-4c77-a39f-864250960a25"
      },
      "execution_count": null,
      "outputs": [
        {
          "output_type": "stream",
          "name": "stdout",
          "text": [
            "Max loves food. See Max cook.\n"
          ]
        }
      ]
    },
    {
      "cell_type": "code",
      "source": [
        "name = 'brad'\n",
        "formatted = template % (name.title(), name.title())\n",
        "print(formatted)"
      ],
      "metadata": {
        "colab": {
          "base_uri": "https://localhost:8080/"
        },
        "id": "nJXWv-XGxlZ_",
        "outputId": "0e79db35-43a1-412d-8de5-75e5d4b707ea"
      },
      "execution_count": null,
      "outputs": [
        {
          "output_type": "stream",
          "name": "stdout",
          "text": [
            "Brad loves food. See Brad cook.\n"
          ]
        }
      ]
    },
    {
      "cell_type": "code",
      "source": [
        "old_way = '%-10s = %.2f' % (key, value)\n",
        "new_way = '%(key)-10s = %(value).2f' % {'key': key, 'value': value} # Original\n",
        "reordered = '%(key)-10s = %(value).2f' % {'value': value, 'key': key} # Swapped\n",
        "assert old_way == new_way == reordered"
      ],
      "metadata": {
        "id": "TWh4K5pixzmf"
      },
      "execution_count": null,
      "outputs": []
    },
    {
      "cell_type": "code",
      "source": [
        "name = 'Max'\n",
        "template = '%s loves food. See %s cook.'\n",
        "before = template % (name, name) # Tuple\n",
        "template = '%(name)s loves food. See %(name)s cook.'\n",
        "after = template % {'name': name} # Dictionary\n",
        "assert before == after"
      ],
      "metadata": {
        "id": "8nT2-Dxn8CYG"
      },
      "execution_count": null,
      "outputs": []
    },
    {
      "cell_type": "code",
      "source": [
        "for i, (item, count) in enumerate(pantry):\n",
        "    before = '#%d: %-10s = %d' % (\n",
        "        i + 1,\n",
        "        item.title(),\n",
        "        round(count))\n",
        "    after = '#%(loop)d: %(item)-10s = %(count)d' % {\n",
        "       'loop': i + 1,\n",
        "       'item': item.title(),\n",
        "       'count': round(count),\n",
        "    }\n",
        "    assert before == after"
      ],
      "metadata": {
        "id": "rM64Sqb98ugq"
      },
      "execution_count": null,
      "outputs": []
    },
    {
      "cell_type": "code",
      "source": [
        "soup = 'lentil'\n",
        "formatted = 'Today\\'s soup is %(soup)s.' % {'soup': soup}\n",
        "print(formatted)"
      ],
      "metadata": {
        "colab": {
          "base_uri": "https://localhost:8080/"
        },
        "id": "RLetkzMu9Jiz",
        "outputId": "8aeebf64-efa1-4a56-fcbb-098638ee9dc2"
      },
      "execution_count": null,
      "outputs": [
        {
          "output_type": "stream",
          "name": "stdout",
          "text": [
            "Today's soup is lentil.\n"
          ]
        }
      ]
    },
    {
      "cell_type": "code",
      "source": [
        "menu = {\n",
        "   'soup': 'lentil',\n",
        "   'oyster': 'kumamoto',\n",
        "   'special': 'schnitzel',\n",
        "}\n",
        "template = ('Today\\'s soup is %(soup)s, '\n",
        "   'buy one get two %(oyster)s oysters, '\n",
        "   'and our special entrée is %(special)s.')\n",
        "formatted = template % menu\n",
        "print(formatted)"
      ],
      "metadata": {
        "colab": {
          "base_uri": "https://localhost:8080/"
        },
        "id": "NNYfXhPt9XCZ",
        "outputId": "e6d058f0-f5c8-4dd0-92db-d9112a2b6d67"
      },
      "execution_count": null,
      "outputs": [
        {
          "output_type": "stream",
          "name": "stdout",
          "text": [
            "Today's soup is lentil, buy one get two kumamoto oysters, and our special entrée is schnitzel.\n"
          ]
        }
      ]
    },
    {
      "cell_type": "markdown",
      "source": [
        "Format Strings"
      ],
      "metadata": {
        "id": "zla5hcfuD1S4"
      }
    },
    {
      "cell_type": "code",
      "source": [
        "key = 'my_var'\n",
        "value = 1.234\n",
        "formatted = '{} = {}'.format(key, value)\n",
        "print(formatted)"
      ],
      "metadata": {
        "colab": {
          "base_uri": "https://localhost:8080/"
        },
        "id": "4s65GESX9gxy",
        "outputId": "5aa1f108-39e4-485f-f157-6b2b0e2c6ac6"
      },
      "execution_count": null,
      "outputs": [
        {
          "output_type": "stream",
          "name": "stdout",
          "text": [
            "my_var = 1.234\n"
          ]
        }
      ]
    },
    {
      "cell_type": "code",
      "source": [
        "key = 'my_var'\n",
        "value = 1.234\n",
        "formatted = '{:<10} = {:.2f}'.format(key, value)\n",
        "print(formatted)"
      ],
      "metadata": {
        "colab": {
          "base_uri": "https://localhost:8080/"
        },
        "id": "pOmB7PkEE2zU",
        "outputId": "f8f39e5c-314f-4397-be27-3a6ea2b48191"
      },
      "execution_count": null,
      "outputs": [
        {
          "output_type": "stream",
          "name": "stdout",
          "text": [
            "my_var     = 1.23\n"
          ]
        }
      ]
    },
    {
      "cell_type": "code",
      "source": [
        "key = 'my_var'\n",
        "value = 1.234\n",
        "formatted = '{1} = {0}'.format(key, value)\n",
        "print(formatted)"
      ],
      "metadata": {
        "colab": {
          "base_uri": "https://localhost:8080/"
        },
        "id": "b22aKTidE_7G",
        "outputId": "4521d9f1-9e2a-41c1-fd55-19deb303f029"
      },
      "execution_count": null,
      "outputs": [
        {
          "output_type": "stream",
          "name": "stdout",
          "text": [
            "1.234 = my_var\n"
          ]
        }
      ]
    },
    {
      "cell_type": "code",
      "source": [
        "print('%.2f%%' % 12.5)\n",
        "print('{} replaces {{}}'.format(1.23))"
      ],
      "metadata": {
        "colab": {
          "base_uri": "https://localhost:8080/"
        },
        "id": "lZuqUhTUFaRr",
        "outputId": "9bac5744-c86e-436c-ef40-128fc4a32096"
      },
      "execution_count": null,
      "outputs": [
        {
          "output_type": "stream",
          "name": "stdout",
          "text": [
            "12.50%\n",
            "1.23 replaces {}\n"
          ]
        }
      ]
    },
    {
      "cell_type": "code",
      "source": [
        "name = 'Max'\n",
        "formatted = '{0} loves food. See {0} cook.'.format(name)\n",
        "print(formatted)"
      ],
      "metadata": {
        "colab": {
          "base_uri": "https://localhost:8080/"
        },
        "id": "s3NsJ6WfFrzt",
        "outputId": "933199e0-d2af-42c6-b22b-e86dd912c351"
      },
      "execution_count": null,
      "outputs": [
        {
          "output_type": "stream",
          "name": "stdout",
          "text": [
            "Max loves food. See Max cook.\n"
          ]
        }
      ]
    },
    {
      "cell_type": "code",
      "source": [
        "for i, (item, count) in enumerate(pantry):\n",
        "  old_style = '#%d: %-10s = %d' % (\n",
        "    i + 1,\n",
        "    item.title(),\n",
        "    round(count))\n",
        "  new_style = '#{}: {:<10s} = {}'.format(\n",
        "    i + 1,\n",
        "    item.title(),\n",
        "    round(count))\n",
        "  assert old_style == new_style"
      ],
      "metadata": {
        "id": "oeDeBCqmGS3l"
      },
      "execution_count": null,
      "outputs": []
    },
    {
      "cell_type": "code",
      "source": [
        "old_template = (\n",
        "  'Today\\'s soup is %(soup)s, '\n",
        "  'buy one get two %(oyster)s oysters, '\n",
        "  'and our special entrée is %(special)s.')\n",
        "old_formatted = old_template % {\n",
        "  'soup': 'lentil',\n",
        "  'oyster': 'kumamoto',\n",
        "  'special': 'schnitzel',\n",
        "}\n",
        "new_template = (\n",
        "  'Today\\'s soup is {soup}, '\n",
        "  'buy one get two {oyster} oysters, '\n",
        "  'and our special entrée is {special}.')\n",
        "new_formatted = new_template.format(\n",
        "  soup='lentil',\n",
        "  oyster='kumamoto',\n",
        "  special='schnitzel',\n",
        ")\n",
        "assert old_formatted == new_formatted"
      ],
      "metadata": {
        "id": "61O6XvLvHKRp"
      },
      "execution_count": null,
      "outputs": []
    },
    {
      "cell_type": "code",
      "source": [
        "key = 'my_var'\n",
        "value = 1.234\n",
        "\n",
        "formatted = f'{key} = {value}'\n",
        "print(formatted)"
      ],
      "metadata": {
        "id": "kc8zvFn8MEUN",
        "colab": {
          "base_uri": "https://localhost:8080/"
        },
        "outputId": "fae42b71-37b0-4301-be44-e3be30889c1c"
      },
      "execution_count": null,
      "outputs": [
        {
          "output_type": "stream",
          "name": "stdout",
          "text": [
            "my_var = 1.234\n"
          ]
        }
      ]
    },
    {
      "cell_type": "code",
      "source": [
        "formatted = f'{key!r:<10} = {value:.2f}'\n",
        "print(formatted)"
      ],
      "metadata": {
        "colab": {
          "base_uri": "https://localhost:8080/"
        },
        "id": "VQmEfBY2-kMh",
        "outputId": "0a03bf31-ad83-4532-cac2-fc1a31c209b7"
      },
      "execution_count": null,
      "outputs": [
        {
          "output_type": "stream",
          "name": "stdout",
          "text": [
            "'my_var'   = 1.23\n"
          ]
        }
      ]
    },
    {
      "cell_type": "code",
      "source": [
        "f_string = f'{key:<10} = {value:.2f}'\n",
        "\n",
        "c_tuple  = '%-10s = %.2f' % (key, value)\n",
        "\n",
        "str_args = '{:<10} = {:.2f}'.format(key, value)\n",
        "\n",
        "str_kw   = '{key:<10} = {value:.2f}'.format(key=key, value=value)\n",
        "\n",
        "c_dict   = '%(key)-10s = %(value).2f' % {'key': key, 'value': value}\n",
        "\n",
        "assert c_tuple == c_dict == f_string\n",
        "assert str_args == str_kw == f_string"
      ],
      "metadata": {
        "id": "9MUApczv-nDb"
      },
      "execution_count": null,
      "outputs": []
    },
    {
      "cell_type": "code",
      "source": [
        "pantry = [\n",
        "    ('avocados', 1.25),\n",
        "    ('bananas', 2.5),\n",
        "    ('cherries', 15),\n",
        "]\n",
        "for i, (item, count) in enumerate(pantry):\n",
        "    old_style = '#%d: %-10s = %d' % (\n",
        "        i + 1,\n",
        "        item.title(),\n",
        "        round(count))\n",
        "\n",
        "    new_style = '#{}: {:<10s} = {}'.format(\n",
        "        i + 1,\n",
        "        item.title(),\n",
        "        round(count))\n",
        "\n",
        "    f_string = f'#{i+1}: {item.title():<10s} = {round(count)}'\n",
        "\n",
        "    assert old_style == new_style == f_string\n"
      ],
      "metadata": {
        "id": "xDU56dHf-pYK"
      },
      "execution_count": null,
      "outputs": []
    },
    {
      "cell_type": "code",
      "source": [
        "for i, (item, count) in enumerate(pantry):\n",
        "    print(f'#{i+1}: '\n",
        "          f'{item.title():<10s} = '\n",
        "          f'{round(count)}')"
      ],
      "metadata": {
        "id": "9E_E-j7L-tvj"
      },
      "execution_count": null,
      "outputs": []
    },
    {
      "cell_type": "code",
      "source": [
        "places = 3\n",
        "number = 1.23456\n",
        "print(f'My number is {number:.{places}f}')"
      ],
      "metadata": {
        "id": "IoUzrvLI-1_q"
      },
      "execution_count": null,
      "outputs": []
    }
  ]
}