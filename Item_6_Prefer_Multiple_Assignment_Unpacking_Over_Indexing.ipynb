{
  "nbformat": 4,
  "nbformat_minor": 0,
  "metadata": {
    "colab": {
      "provenance": [],
      "authorship_tag": "ABX9TyMWLrFIaOjQzBj58kX/5imK",
      "include_colab_link": true
    },
    "kernelspec": {
      "name": "python3",
      "display_name": "Python 3"
    },
    "language_info": {
      "name": "python"
    }
  },
  "cells": [
    {
      "cell_type": "markdown",
      "metadata": {
        "id": "view-in-github",
        "colab_type": "text"
      },
      "source": [
        "<a href=\"https://colab.research.google.com/github/MaryamNourii/Python-Learning/blob/Clean_Code/Item_6_Prefer_Multiple_Assignment_Unpacking_Over_Indexing.ipynb\" target=\"_parent\"><img src=\"https://colab.research.google.com/assets/colab-badge.svg\" alt=\"Open In Colab\"/></a>"
      ]
    },
    {
      "cell_type": "code",
      "execution_count": null,
      "metadata": {
        "id": "AC9XewxRQcK2"
      },
      "outputs": [],
      "source": [
        "snack_calories = {\n",
        "\t'chips': 140,\n",
        "\t'popcorn': 80,\n",
        "\t'nuts': 190,\n",
        "}\n",
        "items = tuple(snack_calories.items())\n",
        "print(items)"
      ]
    },
    {
      "cell_type": "code",
      "source": [
        "item = ('Peanut butter', 'Jelly')\n",
        "first = item[0]\n",
        "second = item[1]\n",
        "print(first, 'and', second)"
      ],
      "metadata": {
        "id": "zYceekl-RNi3"
      },
      "execution_count": null,
      "outputs": []
    },
    {
      "cell_type": "code",
      "source": [
        "item = ('Peanut butter', 'Jelly')\n",
        "first, second = item  # Unpacking\n",
        "print(first, 'and', second)"
      ],
      "metadata": {
        "id": "AKddqao9gd1b"
      },
      "execution_count": null,
      "outputs": []
    },
    {
      "cell_type": "code",
      "source": [
        "favorite_snacks = {\n",
        "\t'salty': ('pretzels', 100),\n",
        "\t'sweet': ('cookies', 180),\n",
        "\t'veggie': ('carrots', 20),\n",
        "}\n",
        "\n",
        "((type1, (name1, cals1)),\n",
        " (type2, (name2, cals2)),\n",
        " (type3, (name3, cals3))) = favorite_snacks.items()\n",
        "\n",
        "print(f'Favorite {type1} is {name1} with {cals1} calories')\n",
        "print(f'Favorite {type2} is {name2} with {cals2} calories')\n",
        "print(f'Favorite {type3} is {name3} with {cals3} calories')"
      ],
      "metadata": {
        "id": "o6g09G9Agpg0"
      },
      "execution_count": null,
      "outputs": []
    },
    {
      "cell_type": "code",
      "source": [
        "def bubble_sort(a):\n",
        "\tfor _ in range(len(a)):\n",
        "\t\tfor i in range(1, len(a)):\n",
        "\t\t\tif a[i] < a[i-1]:\n",
        "\t\t\t\ttemp = a[i]\n",
        "\t\t\t\ta[i] = a[i-1]\n",
        "\t\t\t\ta[i-1] = temp\n",
        "\n",
        "names = ['pretzels', 'carrots', 'arugula', 'bacon']\n",
        "bubble_sort(names)\n",
        "print(names)"
      ],
      "metadata": {
        "id": "84fo8M5ngsOb"
      },
      "execution_count": null,
      "outputs": []
    },
    {
      "cell_type": "code",
      "source": [
        "def bubble_sort(a):\n",
        "\tfor _ in range(len(a)):\n",
        "\t\tfor i in range(1, len(a)):\n",
        "\t\t\tif a[i] < a[i-1]:\n",
        "\t\t\t\ta[i-1], a[i] = a[i], a[i-1]  # Swap\n",
        "\n",
        "names = ['pretzels', 'carrots', 'arugula', 'bacon']\n",
        "bubble_sort(names)\n",
        "print(names)"
      ],
      "metadata": {
        "id": "LgREcwwVgvR3"
      },
      "execution_count": null,
      "outputs": []
    },
    {
      "cell_type": "code",
      "source": [
        "snacks = [('bacon', 350), ('donut', 240), ('muffin', 190)]\n",
        "for i in range(len(snacks)):\n",
        "\titem = snacks[i]\n",
        "\tname = item[0]\n",
        "\tcalories = item[1]\n",
        "\tprint(f'#{i+1}: {name} has {calories} calories')\n"
      ],
      "metadata": {
        "id": "iGAbVyW6gxZR"
      },
      "execution_count": null,
      "outputs": []
    },
    {
      "cell_type": "code",
      "source": [
        "for rank, (name, calories) in enumerate(snacks, 1):\n",
        "\tprint(f'#{rank}: {name} has {calories} calories')"
      ],
      "metadata": {
        "id": "M8H6w2cDgzY6"
      },
      "execution_count": null,
      "outputs": []
    }
  ]
}