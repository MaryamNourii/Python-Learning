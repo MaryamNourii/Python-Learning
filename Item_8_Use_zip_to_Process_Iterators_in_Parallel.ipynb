{
  "nbformat": 4,
  "nbformat_minor": 0,
  "metadata": {
    "colab": {
      "provenance": [],
      "authorship_tag": "ABX9TyM+H0EMB3ssE4rcFNwe8B4f",
      "include_colab_link": true
    },
    "kernelspec": {
      "name": "python3",
      "display_name": "Python 3"
    },
    "language_info": {
      "name": "python"
    }
  },
  "cells": [
    {
      "cell_type": "markdown",
      "metadata": {
        "id": "view-in-github",
        "colab_type": "text"
      },
      "source": [
        "<a href=\"https://colab.research.google.com/github/MaryamNourii/Python-Learning/blob/Clean_Code/Item_8_Use_zip_to_Process_Iterators_in_Parallel.ipynb\" target=\"_parent\"><img src=\"https://colab.research.google.com/assets/colab-badge.svg\" alt=\"Open In Colab\"/></a>"
      ]
    },
    {
      "cell_type": "code",
      "execution_count": null,
      "metadata": {
        "colab": {
          "base_uri": "https://localhost:8080/"
        },
        "id": "tk6DfaeVW9sR",
        "outputId": "c274a607-42e8-4cb6-9e44-2bf0295d139f"
      },
      "outputs": [
        {
          "output_type": "stream",
          "name": "stdout",
          "text": [
            "[7, 4, 5]\n"
          ]
        }
      ],
      "source": [
        "names = ['Cecilia', 'Lise', 'Marie']\n",
        "counts = [len(n) for n in names]\n",
        "print(counts)"
      ]
    },
    {
      "cell_type": "code",
      "source": [
        "longest_name = None\n",
        "max_count = 0\n",
        "for i in range(len(names)):\n",
        " count = counts[i]\n",
        " if count > max_count:\n",
        "  longest_name = names[i]\n",
        "  max_count = count\n",
        "print(longest_name)"
      ],
      "metadata": {
        "colab": {
          "base_uri": "https://localhost:8080/"
        },
        "id": "CNrW1KALXCNl",
        "outputId": "0f4578c5-2cb2-4810-e56a-9872bf3dcc53"
      },
      "execution_count": null,
      "outputs": [
        {
          "output_type": "stream",
          "name": "stdout",
          "text": [
            "Cecilia\n"
          ]
        }
      ]
    },
    {
      "cell_type": "code",
      "source": [
        "for i, name in enumerate(names):\n",
        " count = counts[i]\n",
        " if count > max_count:\n",
        "  longest_name = name\n",
        "  max_count = count\n",
        "print(longest_name)"
      ],
      "metadata": {
        "colab": {
          "base_uri": "https://localhost:8080/"
        },
        "id": "tcNJPd3xXUEg",
        "outputId": "7d180db9-609c-476e-f8d8-be4be9f3a56b"
      },
      "execution_count": null,
      "outputs": [
        {
          "output_type": "stream",
          "name": "stdout",
          "text": [
            "Cecilia\n"
          ]
        }
      ]
    },
    {
      "cell_type": "code",
      "source": [
        "for name, count in zip(names, counts):\n",
        " if count > max_count:\n",
        "  longest_name = name\n",
        "  max_count = count\n",
        "print(longest_name)"
      ],
      "metadata": {
        "colab": {
          "base_uri": "https://localhost:8080/"
        },
        "id": "-yJOyW-lXkBD",
        "outputId": "01609e77-0527-4697-8fa2-422b5edba48b"
      },
      "execution_count": null,
      "outputs": [
        {
          "output_type": "stream",
          "name": "stdout",
          "text": [
            "Cecilia\n"
          ]
        }
      ]
    },
    {
      "cell_type": "code",
      "source": [
        "player_numbers = [7, 9, 10]\n",
        "player_names = ['Cristiano Ronaldo', 'Gareth Bale', 'Lionel Messi']\n",
        "teams = ['Juventus', 'Real Madrid', 'FC Barcelona']\n",
        "\n",
        "player_data = zip(player_numbers, player_names, teams)\n",
        "\n",
        "print(list(player_data))"
      ],
      "metadata": {
        "colab": {
          "base_uri": "https://localhost:8080/"
        },
        "id": "H9H_HoHxy7S_",
        "outputId": "458ca28f-c72c-4752-e4af-8bf3cc01efc0"
      },
      "execution_count": null,
      "outputs": [
        {
          "output_type": "stream",
          "name": "stdout",
          "text": [
            "[(7, 'Cristiano Ronaldo', 'Juventus'), (9, 'Gareth Bale', 'Real Madrid'), (10, 'Lionel Messi', 'FC Barcelona')]\n"
          ]
        }
      ]
    },
    {
      "cell_type": "code",
      "source": [
        "names.append('Rosalind')\n",
        "for name, count in zip(names, counts):\n",
        " print(name)"
      ],
      "metadata": {
        "colab": {
          "base_uri": "https://localhost:8080/"
        },
        "id": "NtmWv4LKXvMh",
        "outputId": "5eca1f04-5630-4f0b-a996-ce9f6c73ee35"
      },
      "execution_count": null,
      "outputs": [
        {
          "output_type": "stream",
          "name": "stdout",
          "text": [
            "Cecilia\n",
            "Lise\n",
            "Marie\n"
          ]
        }
      ]
    },
    {
      "cell_type": "code",
      "source": [
        "import itertools\n",
        "for name, count in itertools.zip_longest(names, counts):\n",
        " print(f'{name}: {count}')"
      ],
      "metadata": {
        "colab": {
          "base_uri": "https://localhost:8080/"
        },
        "id": "7r0FM-crX3Qh",
        "outputId": "7362331e-0a64-45c9-a848-10b3e788d29a"
      },
      "execution_count": null,
      "outputs": [
        {
          "output_type": "stream",
          "name": "stdout",
          "text": [
            "Cecilia: 7\n",
            "Lise: 4\n",
            "Marie: 5\n",
            "Rosalind: None\n"
          ]
        }
      ]
    },
    {
      "cell_type": "code",
      "source": [
        "languages = ['java', 'python', 'javascript']\n",
        "version = [14, 3 , 6]\n",
        "\n",
        "result = zip(languages, version)\n",
        "print(list(result))"
      ],
      "metadata": {
        "colab": {
          "base_uri": "https://localhost:8080/"
        },
        "id": "dpRm572o7F5H",
        "outputId": "a4886677-07ea-45bc-cab9-cbb2afcb1a80"
      },
      "execution_count": null,
      "outputs": [
        {
          "output_type": "stream",
          "name": "stdout",
          "text": [
            "[('java', 14), ('python', 3), ('javascript', 6)]\n"
          ]
        }
      ]
    }
  ]
}