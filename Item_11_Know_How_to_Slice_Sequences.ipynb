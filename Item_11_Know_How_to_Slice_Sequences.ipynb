{
  "nbformat": 4,
  "nbformat_minor": 0,
  "metadata": {
    "colab": {
      "provenance": [],
      "authorship_tag": "ABX9TyMDFowI+1AcZ0GRTQ3WrzaM",
      "include_colab_link": true
    },
    "kernelspec": {
      "name": "python3",
      "display_name": "Python 3"
    },
    "language_info": {
      "name": "python"
    }
  },
  "cells": [
    {
      "cell_type": "markdown",
      "metadata": {
        "id": "view-in-github",
        "colab_type": "text"
      },
      "source": [
        "<a href=\"https://colab.research.google.com/github/MaryamNourii/Python-Learning/blob/Clean_Code/Item_11_Know_How_to_Slice_Sequences.ipynb\" target=\"_parent\"><img src=\"https://colab.research.google.com/assets/colab-badge.svg\" alt=\"Open In Colab\"/></a>"
      ]
    },
    {
      "cell_type": "code",
      "execution_count": 16,
      "metadata": {
        "colab": {
          "base_uri": "https://localhost:8080/"
        },
        "id": "sVQJBIuljhvo",
        "outputId": "e4d98553-eb08-4dd3-dd00-a42edb580435"
      },
      "outputs": [
        {
          "output_type": "stream",
          "name": "stdout",
          "text": [
            "Middle two:   ['d', 'e']\n",
            "All but ends: ['b', 'c', 'd', 'e', 'f', 'g']\n"
          ]
        }
      ],
      "source": [
        "a = ['a', 'b', 'c', 'd', 'e', 'f', 'g', 'h']\n",
        "print('Middle two:  ', a[3:5])\n",
        "print('All but ends:', a[1:7])"
      ]
    },
    {
      "cell_type": "code",
      "source": [
        "assert a[:5] == a[0:5]"
      ],
      "metadata": {
        "id": "VR7n8MRVj1YT"
      },
      "execution_count": 3,
      "outputs": []
    },
    {
      "cell_type": "code",
      "source": [
        "assert a[5:] == a[5:len(a)]"
      ],
      "metadata": {
        "id": "WoBMP5rWj287"
      },
      "execution_count": 4,
      "outputs": []
    },
    {
      "cell_type": "code",
      "source": [
        "print(a[:])\n",
        "print(a[:5])\n",
        "print(a[:-1])\n",
        "print(a[4:])\n",
        "print(a[-3:])\n",
        "print(a[2:5])\n",
        "print(a[2:-1])\n",
        "print(a[-3:-1])\n",
        "print(a[-0:])\n"
      ],
      "metadata": {
        "colab": {
          "base_uri": "https://localhost:8080/"
        },
        "id": "AAxyomwCj6YH",
        "outputId": "27b92e88-2e9b-4c63-fe8d-365dbfffd302"
      },
      "execution_count": 17,
      "outputs": [
        {
          "output_type": "stream",
          "name": "stdout",
          "text": [
            "['a', 'b', 'c', 'd', 'e', 'f', 'g', 'h']\n",
            "['a', 'b', 'c', 'd', 'e']\n",
            "['a', 'b', 'c', 'd', 'e', 'f', 'g']\n",
            "['e', 'f', 'g', 'h']\n",
            "['f', 'g', 'h']\n",
            "['c', 'd', 'e']\n",
            "['c', 'd', 'e', 'f', 'g']\n",
            "['f', 'g']\n",
            "['a', 'b', 'c', 'd', 'e', 'f', 'g', 'h']\n"
          ]
        }
      ]
    },
    {
      "cell_type": "code",
      "source": [
        "first_twenty_items = a[:20]\n",
        "last_twenty_items = a[-20:]"
      ],
      "metadata": {
        "id": "T1XVHDTyjyN8"
      },
      "execution_count": 7,
      "outputs": []
    },
    {
      "cell_type": "code",
      "source": [
        "a[20]\n"
      ],
      "metadata": {
        "colab": {
          "base_uri": "https://localhost:8080/",
          "height": 176
        },
        "id": "K_jn-jFkkCxE",
        "outputId": "da753784-7a2e-4049-c85e-76921bb07620"
      },
      "execution_count": 10,
      "outputs": [
        {
          "output_type": "error",
          "ename": "IndexError",
          "evalue": "list index out of range",
          "traceback": [
            "\u001b[0;31m---------------------------------------------------------------------------\u001b[0m",
            "\u001b[0;31mIndexError\u001b[0m                                Traceback (most recent call last)",
            "\u001b[0;32m<ipython-input-10-2ba6acdce15e>\u001b[0m in \u001b[0;36m<cell line: 1>\u001b[0;34m()\u001b[0m\n\u001b[0;32m----> 1\u001b[0;31m \u001b[0ma\u001b[0m\u001b[0;34m[\u001b[0m\u001b[0;36m20\u001b[0m\u001b[0;34m]\u001b[0m\u001b[0;34m\u001b[0m\u001b[0;34m\u001b[0m\u001b[0m\n\u001b[0m",
            "\u001b[0;31mIndexError\u001b[0m: list index out of range"
          ]
        }
      ]
    },
    {
      "cell_type": "code",
      "source": [
        "b = a[3:]\n",
        "print('Before:   ', b)\n",
        "b[1] = 99\n",
        "print('After:    ', b)\n",
        "print('No change:', a)"
      ],
      "metadata": {
        "colab": {
          "base_uri": "https://localhost:8080/"
        },
        "id": "KacGanCdlRJ-",
        "outputId": "13656919-9c1b-4989-b07e-322a0b1168c1"
      },
      "execution_count": 9,
      "outputs": [
        {
          "output_type": "stream",
          "name": "stdout",
          "text": [
            "Before:    ['d', 'e', 'f', 'g', 'h']\n",
            "After:     ['d', 99, 'f', 'g', 'h']\n",
            "No change: ['a', 'b', 'c', 'd', 'e', 'f', 'g', 'h']\n"
          ]
        }
      ]
    },
    {
      "cell_type": "code",
      "source": [
        "print('Before ', a)\n",
        "a[2:7] = [99, 22, 14]#count = 5\n",
        "print('After  ', a)"
      ],
      "metadata": {
        "colab": {
          "base_uri": "https://localhost:8080/"
        },
        "id": "4fTrSuLvkGqD",
        "outputId": "7b9f08e6-b7d4-49d0-9a31-dbbaaddca69f"
      },
      "execution_count": 11,
      "outputs": [
        {
          "output_type": "stream",
          "name": "stdout",
          "text": [
            "Before  ['a', 'b', 'c', 'd', 'e', 'f', 'g', 'h']\n",
            "After   ['a', 'b', 99, 22, 14, 'h']\n"
          ]
        }
      ]
    },
    {
      "cell_type": "code",
      "source": [
        "print('Before ', a)\n",
        "a[2:3] = [47, 11]#count = 1\n",
        "print('After  ', a)"
      ],
      "metadata": {
        "colab": {
          "base_uri": "https://localhost:8080/"
        },
        "id": "bv5xTWOkkLXz",
        "outputId": "699bf356-7d48-4dec-ff8e-d8659ebe3099"
      },
      "execution_count": 12,
      "outputs": [
        {
          "output_type": "stream",
          "name": "stdout",
          "text": [
            "Before  ['a', 'b', 99, 22, 14, 'h']\n",
            "After   ['a', 'b', 47, 11, 22, 14, 'h']\n"
          ]
        }
      ]
    },
    {
      "cell_type": "code",
      "source": [
        "b = a[:]\n",
        "assert b == a and b is not a"
      ],
      "metadata": {
        "id": "nRQQgRDLkNjr"
      },
      "execution_count": 18,
      "outputs": []
    },
    {
      "cell_type": "code",
      "source": [
        "b = a\n",
        "print('Before a', a)\n",
        "print('Before b', b)\n",
        "a[:] = [101, 102, 103]\n",
        "assert a is b             # Still the same list object\n",
        "print('After a ', a)      # Now has different contents\n",
        "print('After b ', b)      # Same list, so same contents as a"
      ],
      "metadata": {
        "colab": {
          "base_uri": "https://localhost:8080/"
        },
        "id": "yJCmYl1RkPzQ",
        "outputId": "6e224d68-0b1e-497e-d933-76fa23d2ee94"
      },
      "execution_count": 19,
      "outputs": [
        {
          "output_type": "stream",
          "name": "stdout",
          "text": [
            "Before a ['a', 'b', 'c', 'd', 'e', 'f', 'g', 'h']\n",
            "Before b ['a', 'b', 'c', 'd', 'e', 'f', 'g', 'h']\n",
            "After a  [101, 102, 103]\n",
            "After b  [101, 102, 103]\n"
          ]
        }
      ]
    }
  ]
}