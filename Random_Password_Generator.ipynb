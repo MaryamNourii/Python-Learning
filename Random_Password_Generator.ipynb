{
  "nbformat": 4,
  "nbformat_minor": 0,
  "metadata": {
    "colab": {
      "provenance": [],
      "authorship_tag": "ABX9TyN67CCMIL8Call3u/bJFoev",
      "include_colab_link": true
    },
    "kernelspec": {
      "name": "python3",
      "display_name": "Python 3"
    },
    "language_info": {
      "name": "python"
    }
  },
  "cells": [
    {
      "cell_type": "markdown",
      "metadata": {
        "id": "view-in-github",
        "colab_type": "text"
      },
      "source": [
        "<a href=\"https://colab.research.google.com/github/MaryamNourii/Python-Learning/blob/Basic/Random_Password_Generator.ipynb\" target=\"_parent\"><img src=\"https://colab.research.google.com/assets/colab-badge.svg\" alt=\"Open In Colab\"/></a>"
      ]
    },
    {
      "cell_type": "markdown",
      "source": [
        "lenght = 8\n",
        "\n",
        "lower\n",
        "upper\n",
        "symbol\n",
        "number"
      ],
      "metadata": {
        "id": "eJ9EIMTrSHh1"
      }
    },
    {
      "cell_type": "code",
      "execution_count": null,
      "metadata": {
        "id": "bdrdOtuiJPMt"
      },
      "outputs": [],
      "source": [
        "# import random\n",
        "# import string\n",
        "\n",
        "# ascii_letters = string.ascii_letters\n",
        "# print(random.choice(ascii_letters))"
      ]
    },
    {
      "cell_type": "code",
      "source": [
        "# settings = {\n",
        "#     'lower'   : True,\n",
        "#     'upper'   : True,\n",
        "#     'symbol'  : True,\n",
        "#     'number'  : True,\n",
        "#     'space'   : False,\n",
        "#     'lenght'  : 8\n",
        "# }"
      ],
      "metadata": {
        "id": "-g_ILJl1SXiz"
      },
      "execution_count": null,
      "outputs": []
    },
    {
      "cell_type": "code",
      "source": [
        "# def get_user_settings():\n",
        "#   for option,defualt in settings.items():\n",
        "#     if option != 'lenght':\n",
        "#       while True:\n",
        "#         user_input = input(f'Option {option} defual value is {defualt}. \\nInclude ? y/n  ')\n",
        "#         if  user_input == 'y' or user_input == 'n':\n",
        "#           if user_input == 'y':\n",
        "#             settings[option] = True\n",
        "#           else:\n",
        "#             settings[option] = False\n",
        "#           break\n",
        "#         else:\n",
        "#           print('invalid input, try again.')\n",
        "\n",
        "#   print(settings)\n",
        "\n",
        "# get_user_settings()\n",
        "\n",
        "\n",
        "# settings"
      ],
      "metadata": {
        "id": "m3av10YgTJZC"
      },
      "execution_count": null,
      "outputs": []
    },
    {
      "cell_type": "code",
      "source": [
        "# def get_y_or_no(option, defualt):\n",
        "#         while True:\n",
        "#           user_input = input(f'Option {option} defual value is {defualt}. \\nInclude ? y/n  ')\n",
        "#           if  user_input == '':\n",
        "#             return defualt\n",
        "\n",
        "#           if  user_input in ['y', 'n']:\n",
        "#             return user_input == 'y'\n",
        "\n",
        "#           print('invalid input, try again.')\n",
        "\n",
        "\n",
        "# def get_user_settings():\n",
        "#   for option,defualt in settings.items():\n",
        "#       if option != 'lenght':\n",
        "#         settings[option] = get_y_or_no(option, defualt)\n",
        "\n",
        "#   print(settings)\n",
        "\n",
        "# get_user_settings()\n",
        "# settings"
      ],
      "metadata": {
        "id": "5yYC7oxpVNFf"
      },
      "execution_count": null,
      "outputs": []
    },
    {
      "cell_type": "code",
      "source": [
        "# def password_generator(settings):\n",
        "#   pass_len = settings['lenght']\n",
        "#   final_pass = ''\n",
        "#   user_choices = []\n",
        "\n",
        "#   for key, value in settings.items():\n",
        "#     if value == True: # == if value and value != 'lenght' . if value: don't worked\n",
        "#       user_choices.append(key)\n",
        "#   print(user_choices)\n",
        "\n",
        "#   for i in range(pass_len):\n",
        "#     final_pass += 'a'\n",
        "\n",
        "#   return final_pass"
      ],
      "metadata": {
        "id": "4JK-a0M_Vlty"
      },
      "execution_count": null,
      "outputs": []
    },
    {
      "cell_type": "code",
      "source": [
        "import random\n",
        "import string\n",
        "import os\n",
        "\n",
        "\n",
        "settings = {\n",
        "    'lower'   : True,\n",
        "    'upper'   : True,\n",
        "    'symbol'  : True,\n",
        "    'number'  : True,\n",
        "    'space'   : False,\n",
        "    'lenght'  : 8\n",
        "}\n",
        "\n",
        "PASSWORD_MIN_LEN = 4\n",
        "PASSWORD_MAX_LEN = 30\n",
        "\n",
        "def clear_screen():\n",
        "  os.system('cls')# for win\n",
        "\n",
        "\n",
        "def get_y_or_no(option, defualt):\n",
        "  while True:\n",
        "    user_input = input(f'Option {option} defual value is {defualt}. \\nInclude ? y/n  ')\n",
        "    if  user_input == '':\n",
        "      return defualt\n",
        "\n",
        "    if  user_input in ['y', 'n']:\n",
        "      return user_input == 'y'\n",
        "\n",
        "    print('invalid input, try again.')\n",
        "\n",
        "\n",
        "def user_set_pass_lengh(option, defualt, pw_min_len = PASSWORD_MIN_LEN, pw_max_len = PASSWORD_MAX_LEN):\n",
        "  while True:\n",
        "    user_input = input(f'Option {option} defual value is {defualt}. \\n Enter password lenght.  ')\n",
        "\n",
        "    if  user_input == '':\n",
        "      return defualt\n",
        "    if user_input.isdigit():\n",
        "      pass_lenght = int(user_input)\n",
        "      if pw_min_len <= pass_lenght <= pw_max_len:\n",
        "        return pass_lenght\n",
        "      print(f'Invalid input,you password should be between {pw_min_len} to {pw_max_len}.\\ntry again.')\n",
        "    else:\n",
        "      print('Invalid input,you should enter a number.\\ntry again.')\n",
        "\n",
        "\n",
        "def get_user_settings():\n",
        "  for option,defualt in settings.items():\n",
        "      if option != 'lenght':\n",
        "        settings[option] = get_y_or_no(option, defualt)\n",
        "      else:\n",
        "        settings[option]  = user_set_pass_lengh(option, defualt, 4 , 10)\n",
        "  return settings\n",
        "\n",
        "\n",
        "def password_generator(settings):\n",
        "  pass_len = settings['lenght']\n",
        "  final_pass = ''\n",
        "  user_choices = []\n",
        "  user_choices = list(filter(lambda x: settings[x], ['lower', 'upper', 'symbol', 'number', 'space']))\n",
        "\n",
        "  for i in range(pass_len):\n",
        "    final_pass += genrate_random_char(user_choices)\n",
        "\n",
        "  return final_pass\n",
        "\n",
        "\n",
        "def genrate_random_char(choices):\n",
        "  choice = random.choice(choices)\n",
        "\n",
        "  if choice == 'lower':\n",
        "    return get_random_lower_case()\n",
        "  elif choice == 'upper':\n",
        "    return get_random_upper_case()\n",
        "  elif choice == 'symbol':\n",
        "    return get_random_symbol()\n",
        "  elif choice == 'number':\n",
        "    return  get_random_number()\n",
        "  elif choice == 'space':\n",
        "    return ' '\n",
        "\n",
        "\n",
        "def get_random_lower_case():\n",
        "  return random.choice(string.ascii_lowercase)\n",
        "\n",
        "\n",
        "def get_random_upper_case():\n",
        "  return random.choice(string.ascii_uppercase)\n",
        "\n",
        "\n",
        "def get_random_symbol():\n",
        "  return random.choice('''+-*/%<>&|^~=!()[]{},:.'\";#\\@''')\n",
        "\n",
        "\n",
        "def get_random_number():\n",
        "  return random.choice(string.digits)"
      ],
      "metadata": {
        "id": "kyDuFn7gpSjs"
      },
      "execution_count": 46,
      "outputs": []
    },
    {
      "cell_type": "code",
      "source": [
        "def run():\n",
        "  clear_screen()\n",
        "  new_settings = {}\n",
        "  new_settings = get_user_settings()\n",
        "  print('*'*8)\n",
        "  pws_generated = password_generator(new_settings)\n",
        "  print(f'Generated password: {pws_generated}')\n",
        "\n",
        "run()"
      ],
      "metadata": {
        "colab": {
          "base_uri": "https://localhost:8080/"
        },
        "id": "giFRF5lTfmV2",
        "outputId": "6e4697bb-7d5d-47fa-e275-a3b1c6fbde14"
      },
      "execution_count": 50,
      "outputs": [
        {
          "output_type": "stream",
          "name": "stdout",
          "text": [
            "Option lower defual value is True. \n",
            "Include ? y/n  \n",
            "Option upper defual value is True. \n",
            "Include ? y/n  \n",
            "Option symbol defual value is True. \n",
            "Include ? y/n  \n",
            "Option number defual value is True. \n",
            "Include ? y/n  \n",
            "Option space defual value is False. \n",
            "Include ? y/n  \n",
            "Option lenght defual value is 8. \n",
            " Enter password lenght.  \n",
            "********\n",
            "Generated password: M8k5P6nS\n"
          ]
        }
      ]
    }
  ]
}