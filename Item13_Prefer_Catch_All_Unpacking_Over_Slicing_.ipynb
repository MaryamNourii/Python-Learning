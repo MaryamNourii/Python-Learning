{
  "nbformat": 4,
  "nbformat_minor": 0,
  "metadata": {
    "colab": {
      "provenance": [],
      "authorship_tag": "ABX9TyP+5SUCV/ubDP7syV61PqG0",
      "include_colab_link": true
    },
    "kernelspec": {
      "name": "python3",
      "display_name": "Python 3"
    },
    "language_info": {
      "name": "python"
    }
  },
  "cells": [
    {
      "cell_type": "markdown",
      "metadata": {
        "id": "view-in-github",
        "colab_type": "text"
      },
      "source": [
        "<a href=\"https://colab.research.google.com/github/MaryamNourii/Python-Learning/blob/Clean_Code/Item13_Prefer_Catch_All_Unpacking_Over_Slicing_.ipynb\" target=\"_parent\"><img src=\"https://colab.research.google.com/assets/colab-badge.svg\" alt=\"Open In Colab\"/></a>"
      ]
    },
    {
      "cell_type": "code",
      "source": [
        "car_ages = [0, 9, 4, 8, 7, 20, 19, 1, 6, 15]\n",
        "car_ages_descending = sorted(car_ages, reverse=True)\n",
        "print(car_ages_descending)\n",
        "oldest, second_oldest = car_ages_descending\n"
      ],
      "metadata": {
        "colab": {
          "base_uri": "https://localhost:8080/",
          "height": 228
        },
        "id": "yXAO3IYUqXGT",
        "outputId": "3ba3d134-bd10-4d87-f380-1b8d3f1c67e3"
      },
      "execution_count": 5,
      "outputs": [
        {
          "output_type": "stream",
          "name": "stdout",
          "text": [
            "[20, 19, 15, 9, 8, 7, 6, 4, 1, 0]\n"
          ]
        },
        {
          "output_type": "error",
          "ename": "ValueError",
          "evalue": "too many values to unpack (expected 2)",
          "traceback": [
            "\u001b[0;31m---------------------------------------------------------------------------\u001b[0m",
            "\u001b[0;31mValueError\u001b[0m                                Traceback (most recent call last)",
            "\u001b[0;32m<ipython-input-5-4595d127d314>\u001b[0m in \u001b[0;36m<cell line: 4>\u001b[0;34m()\u001b[0m\n\u001b[1;32m      2\u001b[0m \u001b[0mcar_ages_descending\u001b[0m \u001b[0;34m=\u001b[0m \u001b[0msorted\u001b[0m\u001b[0;34m(\u001b[0m\u001b[0mcar_ages\u001b[0m\u001b[0;34m,\u001b[0m \u001b[0mreverse\u001b[0m\u001b[0;34m=\u001b[0m\u001b[0;32mTrue\u001b[0m\u001b[0;34m)\u001b[0m\u001b[0;34m\u001b[0m\u001b[0;34m\u001b[0m\u001b[0m\n\u001b[1;32m      3\u001b[0m \u001b[0mprint\u001b[0m\u001b[0;34m(\u001b[0m\u001b[0mcar_ages_descending\u001b[0m\u001b[0;34m)\u001b[0m\u001b[0;34m\u001b[0m\u001b[0;34m\u001b[0m\u001b[0m\n\u001b[0;32m----> 4\u001b[0;31m \u001b[0moldest\u001b[0m\u001b[0;34m,\u001b[0m \u001b[0msecond_oldest\u001b[0m \u001b[0;34m=\u001b[0m \u001b[0mcar_ages_descending\u001b[0m\u001b[0;34m\u001b[0m\u001b[0;34m\u001b[0m\u001b[0m\n\u001b[0m",
            "\u001b[0;31mValueError\u001b[0m: too many values to unpack (expected 2)"
          ]
        }
      ]
    },
    {
      "cell_type": "code",
      "execution_count": 4,
      "metadata": {
        "colab": {
          "base_uri": "https://localhost:8080/"
        },
        "id": "hJ1Uv-Nwp5W_",
        "outputId": "654721b5-3eff-4ba8-b59c-a743eaf9b2bd"
      },
      "outputs": [
        {
          "output_type": "stream",
          "name": "stdout",
          "text": [
            "20 19 [15, 9, 8, 7, 6, 4, 1, 0]\n"
          ]
        }
      ],
      "source": [
        "oldest = car_ages_descending[0]\n",
        "second_oldest = car_ages_descending[1]\n",
        "others = car_ages_descending[2:]\n",
        "print(oldest, second_oldest, others)# not good"
      ]
    },
    {
      "cell_type": "code",
      "source": [
        "oldest, second_oldest, *others = car_ages_descending\n",
        "print(oldest, second_oldest, others)"
      ],
      "metadata": {
        "colab": {
          "base_uri": "https://localhost:8080/"
        },
        "id": "CEtQMDqbqT-0",
        "outputId": "88e623f6-3abf-4842-a2db-fd08308ce400"
      },
      "execution_count": 6,
      "outputs": [
        {
          "output_type": "stream",
          "name": "stdout",
          "text": [
            "20 19 [15, 9, 8, 7, 6, 4, 1, 0]\n"
          ]
        }
      ]
    },
    {
      "cell_type": "code",
      "source": [
        "\n",
        "oldest, *others, youngest = car_ages_descending\n",
        "print(oldest, youngest, others)\n",
        "\n",
        "*others, second_youngest, youngest = car_ages_descending\n",
        "print(youngest, second_youngest, others)\n"
      ],
      "metadata": {
        "colab": {
          "base_uri": "https://localhost:8080/"
        },
        "id": "51n0trILqRhG",
        "outputId": "202e4e1f-d19e-40c1-c406-ac062bbbfce5"
      },
      "execution_count": 7,
      "outputs": [
        {
          "output_type": "stream",
          "name": "stdout",
          "text": [
            "20 0 [19, 15, 9, 8, 7, 6, 4, 1]\n",
            "0 1 [20, 19, 15, 9, 8, 7, 6, 4]\n"
          ]
        }
      ]
    },
    {
      "cell_type": "code",
      "source": [
        "# This will not compile\n",
        "*others = car_ages_descending"
      ],
      "metadata": {
        "colab": {
          "base_uri": "https://localhost:8080/",
          "height": 141
        },
        "id": "XDuav3kHqOk0",
        "outputId": "745ccabb-2e76-4645-f506-c88ad7f8a315"
      },
      "execution_count": 10,
      "outputs": [
        {
          "output_type": "error",
          "ename": "SyntaxError",
          "evalue": "incomplete input (<ipython-input-10-68f76a16364c>, line 2)",
          "traceback": [
            "\u001b[0;36m  File \u001b[0;32m\"<ipython-input-10-68f76a16364c>\"\u001b[0;36m, line \u001b[0;32m2\u001b[0m\n\u001b[0;31m    *others = car_ages_descending\"\"\"\u001b[0m\n\u001b[0m                                 ^\u001b[0m\n\u001b[0;31mSyntaxError\u001b[0m\u001b[0;31m:\u001b[0m incomplete input\n"
          ]
        }
      ]
    },
    {
      "cell_type": "code",
      "source": [
        "# This will not compile\n",
        "first, *middle, *second_middle, last = [1, 2, 3, 4]"
      ],
      "metadata": {
        "colab": {
          "base_uri": "https://localhost:8080/",
          "height": 141
        },
        "id": "RcolRQaXqMTQ",
        "outputId": "7dd4a437-4cce-4f53-8a20-1ade3c804c2c"
      },
      "execution_count": 11,
      "outputs": [
        {
          "output_type": "error",
          "ename": "SyntaxError",
          "evalue": "multiple starred expressions in assignment (<ipython-input-11-9a47c9ece90f>, line 2)",
          "traceback": [
            "\u001b[0;36m  File \u001b[0;32m\"<ipython-input-11-9a47c9ece90f>\"\u001b[0;36m, line \u001b[0;32m2\u001b[0m\n\u001b[0;31m    first, *middle, *second_middle, last = [1, 2, 3, 4]\u001b[0m\n\u001b[0m    ^\u001b[0m\n\u001b[0;31mSyntaxError\u001b[0m\u001b[0;31m:\u001b[0m multiple starred expressions in assignment\n"
          ]
        }
      ]
    },
    {
      "cell_type": "code",
      "source": [
        "car_inventory = {\n",
        "\t'Downtown': ('Silver Shadow', 'Pinto', 'DMC'),\n",
        "\t'Airport': ('Skyline', 'Viper', 'Gremlin', 'Nova'),\n",
        "}\n",
        "\n",
        "((loc1, (best1, *rest1)),\n",
        " (loc2, (best2, *rest2))) = car_inventory.items()\n",
        "\n",
        "print(f'Best at {loc1} is {best1}, {len(rest1)} others')\n",
        "print(f'Best at {loc2} is {best2}, {len(rest2)} others')"
      ],
      "metadata": {
        "colab": {
          "base_uri": "https://localhost:8080/"
        },
        "id": "0Bi2gmfWqJJc",
        "outputId": "cb7b6014-1bc2-4e5b-f693-55704c99618e"
      },
      "execution_count": 12,
      "outputs": [
        {
          "output_type": "stream",
          "name": "stdout",
          "text": [
            "Best at Downtown is Silver Shadow, 2 others\n",
            "Best at Airport is Skyline, 3 others\n"
          ]
        }
      ]
    },
    {
      "cell_type": "code",
      "source": [
        "short_list = [1, 2]\n",
        "first, second, *rest = short_list\n",
        "print(first, second, rest)"
      ],
      "metadata": {
        "colab": {
          "base_uri": "https://localhost:8080/"
        },
        "id": "-2zRcbhIqGJk",
        "outputId": "ef961ae7-0cd7-419d-bfa2-e4d393affe3b"
      },
      "execution_count": 13,
      "outputs": [
        {
          "output_type": "stream",
          "name": "stdout",
          "text": [
            "1 2 []\n"
          ]
        }
      ]
    },
    {
      "cell_type": "code",
      "source": [
        "it = iter(range(1, 3))\n",
        "first, second = it\n",
        "print(f'{first} and {second}')"
      ],
      "metadata": {
        "colab": {
          "base_uri": "https://localhost:8080/"
        },
        "id": "ICKsvxOSqEi6",
        "outputId": "b47a17ab-2dd1-422b-cd41-0cdee7ecc6ac"
      },
      "execution_count": 14,
      "outputs": [
        {
          "output_type": "stream",
          "name": "stdout",
          "text": [
            "1 and 2\n"
          ]
        }
      ]
    }
  ]
}