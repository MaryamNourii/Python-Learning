{
  "cells": [
    {
      "cell_type": "markdown",
      "metadata": {
        "id": "view-in-github",
        "colab_type": "text"
      },
      "source": [
        "<a href=\"https://colab.research.google.com/github/MaryamNourii/Python-Learning/blob/Basic/Python_Basic.ipynb\" target=\"_parent\"><img src=\"https://colab.research.google.com/assets/colab-badge.svg\" alt=\"Open In Colab\"/></a>"
      ]
    },
    {
      "cell_type": "markdown",
      "metadata": {
        "id": "7KJg8v8gAntS"
      },
      "source": [
        "3-10"
      ]
    },
    {
      "cell_type": "code",
      "execution_count": null,
      "metadata": {
        "colab": {
          "base_uri": "https://localhost:8080/"
        },
        "id": "9ys5rrnn8Dtk",
        "outputId": "b97946db-c854-4246-d370-9d46064d5514"
      },
      "outputs": [
        {
          "name": "stdout",
          "output_type": "stream",
          "text": [
            "1 a\n",
            "2 a\n",
            "3 s\n",
            "4 H\n",
            "5 e\n",
            "6 n\n"
          ]
        }
      ],
      "source": [
        "my_str = \"Hello, my name is Dana\"\n",
        "\n",
        "print(1, my_str[-1])\n",
        "print(2, my_str[-3])\n",
        "print(3, my_str[-6])\n",
        "print(4, my_str[0])\n",
        "print(5, my_str[1])\n",
        "print(6, my_str[10])"
      ]
    },
    {
      "cell_type": "markdown",
      "metadata": {
        "id": "3Ge9xY2OAZqI"
      },
      "source": [
        "**[start:stop:step]**"
      ]
    },
    {
      "cell_type": "code",
      "execution_count": null,
      "metadata": {
        "colab": {
          "base_uri": "https://localhost:8080/"
        },
        "id": "DQ8v4veh_jAI",
        "outputId": "93d7bc3b-c179-4c0a-e46a-4ee1b74d953a"
      },
      "outputs": [
        {
          "name": "stdout",
          "output_type": "stream",
          "text": [
            "1 Hello, my \n",
            "2 Dana\n",
            "3 Hello, my name is Dana\n",
            "4 Hlo y\n",
            "5 Hlo ynm sDn\n",
            "6 Hello, my name is Dana\n",
            "7 anaD si eman ym ,olleH\n"
          ]
        }
      ],
      "source": [
        "my_str = \"Hello, my name is Dana\"\n",
        "\n",
        "print(1, my_str[:10])\n",
        "print(2, my_str[-4:])\n",
        "print(3, my_str[:])\n",
        "print(4, my_str[:10:2])\n",
        "print(5, my_str[::2])\n",
        "print(6, my_str[::])\n",
        "print(7, my_str[::-1])"
      ]
    },
    {
      "cell_type": "markdown",
      "metadata": {
        "id": "DFlGXxP4ArIC"
      },
      "source": [
        "3-11) Strings"
      ]
    },
    {
      "cell_type": "code",
      "execution_count": null,
      "metadata": {
        "colab": {
          "base_uri": "https://localhost:8080/"
        },
        "id": "AtyMeoiNAte0",
        "outputId": "aefbd246-1e7b-481c-c079-ffb4cfad08ed"
      },
      "outputs": [
        {
          "name": "stdout",
          "output_type": "stream",
          "text": [
            "DanaNouri\n"
          ]
        }
      ],
      "source": [
        "a = 'Dana'\n",
        "b = 'Nouri'\n",
        "c = a + b\n",
        "print(c)"
      ]
    },
    {
      "cell_type": "code",
      "execution_count": null,
      "metadata": {
        "colab": {
          "base_uri": "https://localhost:8080/"
        },
        "id": "0Qv388yjA4sT",
        "outputId": "15b3fe7e-c8da-4101-ab20-3fc8419dc49e"
      },
      "outputs": [
        {
          "name": "stdout",
          "output_type": "stream",
          "text": [
            "Dana . Dana . Dana . Dana . Dana . Dana\n"
          ]
        }
      ],
      "source": [
        "a = 'Dana'\n",
        "b = 5\n",
        "c = a + b * (' . ' + a)\n",
        "print(c)"
      ]
    },
    {
      "cell_type": "code",
      "execution_count": null,
      "metadata": {
        "colab": {
          "base_uri": "https://localhost:8080/"
        },
        "id": "6zUy6LgLBKXx",
        "outputId": "af1597bb-917b-4ed2-db2d-d28da298cc38"
      },
      "outputs": [
        {
          "name": "stdout",
          "output_type": "stream",
          "text": [
            "1 Hi, \n",
            "Dana Nouri\n",
            "2 Hi, 'Dana' \"Nouri\"\n",
            "3 Hi,\tDana Nouri\n",
            "3 Hi,\\nDana Nouri\n"
          ]
        }
      ],
      "source": [
        "a = 'Hi, \\nDana Nouri'\n",
        "print(1, a)\n",
        "\n",
        "a = 'Hi, \\'Dana\\' \\\"Nouri\\\"'\n",
        "print(2, a)\n",
        "\n",
        "a = 'Hi,\\tDana Nouri'\n",
        "print(3, a)\n",
        "\n",
        "a = 'Hi,\\\\nDana Nouri'\n",
        "print(3, a)"
      ]
    },
    {
      "cell_type": "code",
      "execution_count": null,
      "metadata": {
        "colab": {
          "base_uri": "https://localhost:8080/",
          "height": 194
        },
        "id": "CkTaF85yCEcR",
        "outputId": "7f873abd-14e1-4c68-d632-48040dd862ba"
      },
      "outputs": [
        {
          "ename": "TypeError",
          "evalue": "'str' object does not support item assignment",
          "output_type": "error",
          "traceback": [
            "\u001b[0;31m---------------------------------------------------------------------------\u001b[0m",
            "\u001b[0;31mTypeError\u001b[0m                                 Traceback (most recent call last)",
            "\u001b[0;32m<ipython-input-35-3adf9a63e2b8>\u001b[0m in \u001b[0;36m<cell line: 2>\u001b[0;34m()\u001b[0m\n\u001b[1;32m      1\u001b[0m \u001b[0mmy_str\u001b[0m \u001b[0;34m=\u001b[0m \u001b[0;34m\"Hello, my name is Dana\"\u001b[0m\u001b[0;34m\u001b[0m\u001b[0;34m\u001b[0m\u001b[0m\n\u001b[0;32m----> 2\u001b[0;31m \u001b[0mmy_str\u001b[0m\u001b[0;34m[\u001b[0m\u001b[0;36m4\u001b[0m\u001b[0;34m]\u001b[0m \u001b[0;34m=\u001b[0m \u001b[0;34m'T'\u001b[0m\u001b[0;34m\u001b[0m\u001b[0;34m\u001b[0m\u001b[0m\n\u001b[0m",
            "\u001b[0;31mTypeError\u001b[0m: 'str' object does not support item assignment"
          ]
        }
      ],
      "source": [
        "my_str = \"Hello, my name is Dana\"\n",
        "my_str[4] = 'T'"
      ]
    },
    {
      "cell_type": "code",
      "execution_count": null,
      "metadata": {
        "colab": {
          "base_uri": "https://localhost:8080/"
        },
        "id": "xrRqHOyxCS8F",
        "outputId": "9d85de38-464f-466f-dfbb-5f298fd4281d"
      },
      "outputs": [
        {
          "name": "stdout",
          "output_type": "stream",
          "text": [
            "HellT, my name is Dana\n"
          ]
        }
      ],
      "source": [
        "a = my_str[:4] + 'T' + my_str[5:]\n",
        "print(a)"
      ]
    },
    {
      "cell_type": "code",
      "execution_count": null,
      "metadata": {
        "colab": {
          "base_uri": "https://localhost:8080/"
        },
        "id": "0SQxFzZSCt25",
        "outputId": "5f92a492-cbfb-4ccf-9269-4da897a69456"
      },
      "outputs": [
        {
          "name": "stdout",
          "output_type": "stream",
          "text": [
            "1 HELLO, MY NAME IS DANA\n",
            "2 hello, my name is dana\n",
            "3 ['Hello,', 'my', 'name', 'is', 'Dana']\n",
            "4 ['H', 'llo, my nam', ' is Dana']\n"
          ]
        }
      ],
      "source": [
        "print(1, my_str.upper())\n",
        "print(2, my_str.lower())\n",
        "print(3, my_str.split(' '))\n",
        "print(4, my_str.split('e'))"
      ]
    },
    {
      "cell_type": "markdown",
      "metadata": {
        "id": "bDogXg9KEcGg"
      },
      "source": [
        "**3-14)LISTS**\n",
        " a data structure in Python that is a mutable, or changeable, ordered sequence of elements\n",
        "\n",
        "> Indented block\n",
        "\n"
      ]
    },
    {
      "cell_type": "code",
      "execution_count": null,
      "metadata": {
        "colab": {
          "background_save": true,
          "base_uri": "https://localhost:8080/"
        },
        "id": "Nv_d9F_hDRB1",
        "outputId": "fafefbfe-d6e8-4288-b654-d10e08645217"
      },
      "outputs": [
        {
          "data": {
            "text/plain": [
              "[13, 'Hello', 18.1, 'c', 1000000]"
            ]
          },
          "execution_count": 41,
          "metadata": {},
          "output_type": "execute_result"
        }
      ],
      "source": [
        "list1 = [13, 'Hello', 18.1, \"c\", 1000000]\n",
        "list1"
      ]
    },
    {
      "cell_type": "code",
      "execution_count": null,
      "metadata": {
        "id": "M01dmsgPFKjj",
        "colab": {
          "base_uri": "https://localhost:8080/"
        },
        "outputId": "5bcfcd4a-29c4-4c11-8177-723a37fc6dee"
      },
      "outputs": [
        {
          "output_type": "stream",
          "name": "stdout",
          "text": [
            "1 [13, 'Hello', 18.1, 'c', 1000000, 1, 2, 3, 4, 5]\n",
            "2 [13, 'Hello', 18.1]\n",
            "3 [18.1, 'c', 1000000]\n",
            "4 [13, 'Hello', 18.1, 'c', 1000000]\n",
            "5 5\n"
          ]
        }
      ],
      "source": [
        "list2 = [1, 2, 3, 4, 5]\n",
        "list3 = list1 + list2\n",
        "print(1, list3)\n",
        "print(2, list1[:3])\n",
        "print(3, list1[2:5])\n",
        "print(4, list1[:])\n",
        "print(5, len(list1[:]))"
      ]
    },
    {
      "cell_type": "code",
      "source": [
        "list2 = [1, 2, 3, 4, 5]\n",
        "list2[3] =  '1a'\n",
        "print(1, list2)"
      ],
      "metadata": {
        "colab": {
          "base_uri": "https://localhost:8080/"
        },
        "id": "qLolzAjxGE6Y",
        "outputId": "bb6d6a70-2a27-42e7-ebc7-8782aa1090af"
      },
      "execution_count": null,
      "outputs": [
        {
          "output_type": "stream",
          "name": "stdout",
          "text": [
            "1 [1, 2, 3, '1a', 5]\n"
          ]
        }
      ]
    },
    {
      "cell_type": "code",
      "source": [
        "list2.append(\"2b\")\n",
        "list2.append(\"3c\")\n",
        "\n",
        "print(list2)"
      ],
      "metadata": {
        "colab": {
          "base_uri": "https://localhost:8080/"
        },
        "id": "sJRqRCmyGNv4",
        "outputId": "2f79f6ee-7589-4b0d-e5be-5b851d4bc8b9"
      },
      "execution_count": null,
      "outputs": [
        {
          "output_type": "stream",
          "name": "stdout",
          "text": [
            "[1, 2, 3, '1a', 5, '2b', '2b', '3c', '2b', '3c']\n"
          ]
        }
      ]
    },
    {
      "cell_type": "code",
      "source": [
        "pop1 = list1.pop(0)\n",
        "print(pop1, list1)"
      ],
      "metadata": {
        "colab": {
          "base_uri": "https://localhost:8080/"
        },
        "id": "nlaDxp3vGaPu",
        "outputId": "190b4be5-e9cd-46a7-dc90-ca2d54046622"
      },
      "execution_count": null,
      "outputs": [
        {
          "output_type": "stream",
          "name": "stdout",
          "text": [
            "Hello [18.1, 'c', 1000000]\n"
          ]
        }
      ]
    },
    {
      "cell_type": "code",
      "source": [
        "list2 = [11, 1, 5 ,2, 3, 40, 4, 5]\n",
        "list2.sort()# inplace\n",
        "list2"
      ],
      "metadata": {
        "colab": {
          "base_uri": "https://localhost:8080/"
        },
        "id": "mnm_txGoQKOZ",
        "outputId": "9fe0d7ab-dca2-44aa-d1f0-2d6d5f35be4d"
      },
      "execution_count": null,
      "outputs": [
        {
          "output_type": "execute_result",
          "data": {
            "text/plain": [
              "[1, 2, 3, 4, 5, 5, 11, 40]"
            ]
          },
          "metadata": {},
          "execution_count": 62
        }
      ]
    },
    {
      "cell_type": "code",
      "source": [
        "list2.reverse()# inplace\n",
        "list2"
      ],
      "metadata": {
        "colab": {
          "base_uri": "https://localhost:8080/"
        },
        "id": "b9tlOtFsQYkR",
        "outputId": "0979f159-ba90-4d9a-800b-3e427d5b7d80"
      },
      "execution_count": null,
      "outputs": [
        {
          "output_type": "execute_result",
          "data": {
            "text/plain": [
              "[40, 11, 5, 5, 4, 3, 2, 1]"
            ]
          },
          "metadata": {},
          "execution_count": 65
        }
      ]
    },
    {
      "cell_type": "code",
      "source": [
        "max(list2), min(list2)"
      ],
      "metadata": {
        "colab": {
          "base_uri": "https://localhost:8080/"
        },
        "id": "xgvXKN85tjnw",
        "outputId": "c7ad7ec5-c86d-419b-e851-f2d18cb973b4"
      },
      "execution_count": null,
      "outputs": [
        {
          "output_type": "execute_result",
          "data": {
            "text/plain": [
              "(40, 1)"
            ]
          },
          "metadata": {},
          "execution_count": 142
        }
      ]
    },
    {
      "cell_type": "markdown",
      "source": [
        "**Dictionary** : a kind of data structure that stores items in key-value pairs,  unordered\n"
      ],
      "metadata": {
        "id": "7sEGTJOxQtaH"
      }
    },
    {
      "cell_type": "code",
      "source": [
        "my_dict = {'k1' : 'one', 'k2' : 2, 'k3' : [4, 5, 6]}\n",
        "my_dict1 = {'k1' : \"Hello\", \"k2\": [1,2,3], 'k3' : my_dict}\n",
        "\n",
        "my_dict1['k1'], my_dict1['k3']['k1'], my_dict1['k3']['k3'][2]"
      ],
      "metadata": {
        "colab": {
          "base_uri": "https://localhost:8080/"
        },
        "id": "-s6LZaKIQfM_",
        "outputId": "3d503974-8a14-4b9b-ae8d-d70756c2b9e3"
      },
      "execution_count": null,
      "outputs": [
        {
          "output_type": "execute_result",
          "data": {
            "text/plain": [
              "('Hello', 'one', 6)"
            ]
          },
          "metadata": {},
          "execution_count": 76
        }
      ]
    },
    {
      "cell_type": "code",
      "source": [
        "my_stud = {\n",
        "    'name' : \"Ali\",\n",
        "    'age' : 30,\n",
        "    'mark' : 19\n",
        "    }\n",
        "\n",
        "my_stud[\"name\"]"
      ],
      "metadata": {
        "colab": {
          "base_uri": "https://localhost:8080/",
          "height": 35
        },
        "id": "MLSZFvnTS7Jq",
        "outputId": "1ddef764-bcce-4970-adc5-9354bc42176c"
      },
      "execution_count": null,
      "outputs": [
        {
          "output_type": "execute_result",
          "data": {
            "text/plain": [
              "'Ali'"
            ],
            "application/vnd.google.colaboratory.intrinsic+json": {
              "type": "string"
            }
          },
          "metadata": {},
          "execution_count": 5
        }
      ]
    },
    {
      "cell_type": "code",
      "source": [
        "my_stud[\"gender\"] = 'Male'\n",
        "my_stud"
      ],
      "metadata": {
        "colab": {
          "base_uri": "https://localhost:8080/"
        },
        "id": "jk1io6CPUGZp",
        "outputId": "e88353c8-8b51-4155-de2a-70539191521a"
      },
      "execution_count": null,
      "outputs": [
        {
          "output_type": "execute_result",
          "data": {
            "text/plain": [
              "{'name': 'Ali', 'age': 30, 'mark': 19, 'gender': 'Male'}"
            ]
          },
          "metadata": {},
          "execution_count": 84
        }
      ]
    },
    {
      "cell_type": "code",
      "source": [
        "my_stud.keys(), my_stud.values()"
      ],
      "metadata": {
        "colab": {
          "base_uri": "https://localhost:8080/"
        },
        "id": "CakPnF5AUlww",
        "outputId": "fd9be7d7-8afa-4936-b7d8-295dc0cdab63"
      },
      "execution_count": null,
      "outputs": [
        {
          "output_type": "execute_result",
          "data": {
            "text/plain": [
              "(dict_keys(['name', 'age', 'mark', 'gender']),\n",
              " dict_values(['Ali', 30, 19, 'Male']))"
            ]
          },
          "metadata": {},
          "execution_count": 86
        }
      ]
    },
    {
      "cell_type": "code",
      "source": [
        "my_stud.items()"
      ],
      "metadata": {
        "colab": {
          "base_uri": "https://localhost:8080/"
        },
        "id": "K5ydLmTjUxNW",
        "outputId": "38f335bf-83a9-4251-fb49-a3418e1995b8"
      },
      "execution_count": null,
      "outputs": [
        {
          "output_type": "execute_result",
          "data": {
            "text/plain": [
              "dict_items([('name', 'Ali'), ('age', 30), ('mark', 19), ('gender', 'Male')])"
            ]
          },
          "metadata": {},
          "execution_count": 87
        }
      ]
    },
    {
      "cell_type": "markdown",
      "source": [
        "Tuple : a type of data structure that is very similar to lists but is immutable, or unchangeable, ordered sequence of elements"
      ],
      "metadata": {
        "id": "KEc6fzClYU7X"
      }
    },
    {
      "cell_type": "code",
      "source": [
        "my_tuple = (1, 2, 3, 'Hello')\n",
        "print(len(my_tuple))"
      ],
      "metadata": {
        "colab": {
          "base_uri": "https://localhost:8080/"
        },
        "id": "txQo09uyXrjh",
        "outputId": "0d561581-05d3-4b3a-9307-a4a15a236720"
      },
      "execution_count": null,
      "outputs": [
        {
          "output_type": "stream",
          "name": "stdout",
          "text": [
            "4\n"
          ]
        }
      ]
    },
    {
      "cell_type": "code",
      "source": [
        "print(my_tuple[0])\n",
        "print(my_tuple[1:3])\n",
        "print(my_tuple[:-2])\n",
        "\n",
        "my_tuple[1] = \"hi\""
      ],
      "metadata": {
        "colab": {
          "base_uri": "https://localhost:8080/",
          "height": 263
        },
        "id": "hjpuQt2lY29k",
        "outputId": "a32d4e70-6b31-47d8-856c-0e299ec4fca8"
      },
      "execution_count": null,
      "outputs": [
        {
          "output_type": "stream",
          "name": "stdout",
          "text": [
            "1\n",
            "(2, 3)\n",
            "(1, 2)\n"
          ]
        },
        {
          "output_type": "error",
          "ename": "TypeError",
          "evalue": "'tuple' object does not support item assignment",
          "traceback": [
            "\u001b[0;31m---------------------------------------------------------------------------\u001b[0m",
            "\u001b[0;31mTypeError\u001b[0m                                 Traceback (most recent call last)",
            "\u001b[0;32m<ipython-input-94-d77772181cc2>\u001b[0m in \u001b[0;36m<cell line: 5>\u001b[0;34m()\u001b[0m\n\u001b[1;32m      3\u001b[0m \u001b[0mprint\u001b[0m\u001b[0;34m(\u001b[0m\u001b[0mmy_tuple\u001b[0m\u001b[0;34m[\u001b[0m\u001b[0;34m:\u001b[0m\u001b[0;34m-\u001b[0m\u001b[0;36m2\u001b[0m\u001b[0;34m]\u001b[0m\u001b[0;34m)\u001b[0m\u001b[0;34m\u001b[0m\u001b[0;34m\u001b[0m\u001b[0m\n\u001b[1;32m      4\u001b[0m \u001b[0;34m\u001b[0m\u001b[0m\n\u001b[0;32m----> 5\u001b[0;31m \u001b[0mmy_tuple\u001b[0m\u001b[0;34m[\u001b[0m\u001b[0;36m1\u001b[0m\u001b[0;34m]\u001b[0m \u001b[0;34m=\u001b[0m \u001b[0;34m\"hi\"\u001b[0m\u001b[0;34m\u001b[0m\u001b[0;34m\u001b[0m\u001b[0m\n\u001b[0m",
            "\u001b[0;31mTypeError\u001b[0m: 'tuple' object does not support item assignment"
          ]
        }
      ]
    },
    {
      "cell_type": "code",
      "source": [
        "my_tuple1 = ()\n",
        "my_tuple2 =(12,)\n",
        "\n",
        "print(my_tuple1)\n",
        "print(my_tuple2)"
      ],
      "metadata": {
        "colab": {
          "base_uri": "https://localhost:8080/"
        },
        "id": "KULVMj5bZh1z",
        "outputId": "91bcd96d-e7eb-405b-f441-b7b282a6e910"
      },
      "execution_count": null,
      "outputs": [
        {
          "output_type": "stream",
          "name": "stdout",
          "text": [
            "()\n",
            "(12,)\n"
          ]
        }
      ]
    },
    {
      "cell_type": "markdown",
      "source": [
        "**Set : a data structure thst iterable, with unique elements, unordered**"
      ],
      "metadata": {
        "id": "oz6tHA0TZ5W6"
      }
    },
    {
      "cell_type": "code",
      "source": [
        "a = set()\n",
        "a.add(1)\n",
        "a.add(3)\n",
        "a.add(4)\n",
        "a.add(3)\n",
        "a.add(2)\n",
        "a.add(1)\n",
        "print(a)"
      ],
      "metadata": {
        "colab": {
          "base_uri": "https://localhost:8080/"
        },
        "id": "9snXb45daS1R",
        "outputId": "4c98b17e-17c7-4cb9-ecd3-247f4d793118"
      },
      "execution_count": null,
      "outputs": [
        {
          "output_type": "stream",
          "name": "stdout",
          "text": [
            "{1, 2, 3, 4}\n"
          ]
        }
      ]
    },
    {
      "cell_type": "code",
      "source": [
        "my_list = [1, 2, 3, 4, 5, 4, 4, 4, 4, 5, 7, 1]\n",
        "a = set (my_list)\n",
        "print(a)\n",
        "print(list(a))"
      ],
      "metadata": {
        "colab": {
          "base_uri": "https://localhost:8080/"
        },
        "id": "SeAfkQeaabTx",
        "outputId": "dd5ff26b-a485-4f6a-f6ce-8750539b3a76"
      },
      "execution_count": null,
      "outputs": [
        {
          "output_type": "stream",
          "name": "stdout",
          "text": [
            "{1, 2, 3, 4, 5, 7}\n",
            "[1, 2, 3, 4, 5, 7]\n"
          ]
        }
      ]
    },
    {
      "cell_type": "markdown",
      "source": [
        "3-19"
      ],
      "metadata": {
        "id": "A6c2skCymRrv"
      }
    },
    {
      "cell_type": "code",
      "source": [
        "my_int = 23\n",
        "my_float = 24.5\n",
        "my_string = \"Hello\"\n",
        "my_list = [1,2,3,\"hello\"]\n",
        "my_dict = {'k1' : 0, 'k2' : 1}\n",
        "my_tuple = (1,2,3,\"Hi\")\n",
        "my_tuple1 = (1)\n",
        "my_set = {1,2,3,4,5,6,7,\"Dana\"}\n",
        "my_boolean = True\n",
        "\n",
        "print(type(my_int))\n",
        "print(type(my_float))\n",
        "print((type(my_string)))\n",
        "print((type(my_list)))\n",
        "print((type(my_dict)))\n",
        "print((type(my_tuple)))\n",
        "print((type(my_tuple1)))\n",
        "print((type(my_set)))\n",
        "print((type(my_boolean)))\n"
      ],
      "metadata": {
        "colab": {
          "base_uri": "https://localhost:8080/"
        },
        "id": "wTQaTIITbR9y",
        "outputId": "40951403-ee97-4751-f2b7-e2c35cf4fe32"
      },
      "execution_count": null,
      "outputs": [
        {
          "output_type": "stream",
          "name": "stdout",
          "text": [
            "<class 'int'>\n",
            "<class 'float'>\n",
            "<class 'str'>\n",
            "<class 'list'>\n",
            "<class 'dict'>\n",
            "<class 'tuple'>\n",
            "<class 'int'>\n",
            "<class 'set'>\n",
            "<class 'bool'>\n"
          ]
        }
      ]
    },
    {
      "cell_type": "markdown",
      "source": [
        "3-20) String format"
      ],
      "metadata": {
        "id": "4JrH7-ldniGh"
      }
    },
    {
      "cell_type": "code",
      "source": [
        "print(\"My {} is {}, I'm {}\".format(\"name\", \"Dana\", 38))"
      ],
      "metadata": {
        "colab": {
          "base_uri": "https://localhost:8080/"
        },
        "id": "gizQI6EcnheK",
        "outputId": "16719466-30a0-4c9a-daad-ea0c2fce58da"
      },
      "execution_count": null,
      "outputs": [
        {
          "output_type": "stream",
          "name": "stdout",
          "text": [
            "My name is Dana, I'm 38\n"
          ]
        }
      ]
    },
    {
      "cell_type": "code",
      "source": [
        "print(\"My {0} is {2}, I'm {1}\".format(\"name\", 38, \"Dana\"))"
      ],
      "metadata": {
        "colab": {
          "base_uri": "https://localhost:8080/"
        },
        "id": "31og44I_oFpv",
        "outputId": "38280d6d-915b-4e99-8a24-a0f55052573f"
      },
      "execution_count": null,
      "outputs": [
        {
          "output_type": "stream",
          "name": "stdout",
          "text": [
            "My name is Dana, I'm 38\n"
          ]
        }
      ]
    },
    {
      "cell_type": "code",
      "source": [
        "print(\"My name is {name}, I'm {age}\".format(age = 38,name = \"Dana\"))"
      ],
      "metadata": {
        "colab": {
          "base_uri": "https://localhost:8080/"
        },
        "id": "wP6Ro4KJoecA",
        "outputId": "86ed1d2b-11b8-4ae0-b0b5-082072e653e6"
      },
      "execution_count": null,
      "outputs": [
        {
          "output_type": "stream",
          "name": "stdout",
          "text": [
            "My name is Dana, I'm 38\n"
          ]
        }
      ]
    },
    {
      "cell_type": "code",
      "source": [
        "print(\"{name}'s {obj} is {color}\".format(name = \"Dana\", obj = \"bag\", color = \"blue\" ))"
      ],
      "metadata": {
        "colab": {
          "base_uri": "https://localhost:8080/"
        },
        "id": "iG1aNghoo3xv",
        "outputId": "1d5b7ecc-1081-4801-ce80-5f2949a1c1af"
      },
      "execution_count": null,
      "outputs": [
        {
          "output_type": "stream",
          "name": "stdout",
          "text": [
            "Dana's bag is blue\n"
          ]
        }
      ]
    },
    {
      "cell_type": "code",
      "source": [
        "print(\"my score is {my_score:10.2f}\".format(my_score = 18.75))"
      ],
      "metadata": {
        "colab": {
          "base_uri": "https://localhost:8080/"
        },
        "id": "dMUXOUXIpkS9",
        "outputId": "fcb025b1-fa87-49d1-df38-f99c7980222c"
      },
      "execution_count": null,
      "outputs": [
        {
          "output_type": "stream",
          "name": "stdout",
          "text": [
            "my score is      18.75\n"
          ]
        }
      ]
    },
    {
      "cell_type": "markdown",
      "source": [
        "python 3.6 later"
      ],
      "metadata": {
        "id": "GR_q3KxeqpQs"
      }
    },
    {
      "cell_type": "code",
      "source": [
        "name = 'Dana'\n",
        "item = 'car'\n",
        "color = 'blue'\n",
        "\n",
        "print(f\"{name}'s {item} is {color}\")"
      ],
      "metadata": {
        "colab": {
          "base_uri": "https://localhost:8080/"
        },
        "id": "kSa-djCWqoOU",
        "outputId": "366c4055-015d-4950-aa2d-974cf10db89c"
      },
      "execution_count": null,
      "outputs": [
        {
          "output_type": "stream",
          "name": "stdout",
          "text": [
            "Dana's car is blue\n"
          ]
        }
      ]
    },
    {
      "cell_type": "markdown",
      "source": [
        "3-21) User Input\n"
      ],
      "metadata": {
        "id": "s2pcRYBirbdl"
      }
    },
    {
      "cell_type": "code",
      "source": [
        "user_name = input(\"please enter you'r name:\")\n",
        "user_age = input(\"please enter you'r age:\")\n",
        "\n",
        "print(f\"you'r name is {user_name} and you'r {user_age}\")\n",
        "print(type(user_age))\n",
        "print(user_age + 1)"
      ],
      "metadata": {
        "colab": {
          "base_uri": "https://localhost:8080/",
          "height": 280
        },
        "id": "3YMb5vFXp0hK",
        "outputId": "b3d7d113-5cca-4dd6-aa7e-57cac3a5a609"
      },
      "execution_count": null,
      "outputs": [
        {
          "output_type": "stream",
          "name": "stdout",
          "text": [
            "please enter you'r name:Dana\n",
            "please enter you'r age:37\n",
            "you'r name is Dana and you'r 37\n",
            "<class 'str'>\n"
          ]
        },
        {
          "output_type": "error",
          "ename": "TypeError",
          "evalue": "can only concatenate str (not \"int\") to str",
          "traceback": [
            "\u001b[0;31m---------------------------------------------------------------------------\u001b[0m",
            "\u001b[0;31mTypeError\u001b[0m                                 Traceback (most recent call last)",
            "\u001b[0;32m<ipython-input-140-a106ed1f15e7>\u001b[0m in \u001b[0;36m<cell line: 6>\u001b[0;34m()\u001b[0m\n\u001b[1;32m      4\u001b[0m \u001b[0mprint\u001b[0m\u001b[0;34m(\u001b[0m\u001b[0;34mf\"you'r name is {user_name} and you'r {user_age}\"\u001b[0m\u001b[0;34m)\u001b[0m\u001b[0;34m\u001b[0m\u001b[0;34m\u001b[0m\u001b[0m\n\u001b[1;32m      5\u001b[0m \u001b[0mprint\u001b[0m\u001b[0;34m(\u001b[0m\u001b[0mtype\u001b[0m\u001b[0;34m(\u001b[0m\u001b[0muser_age\u001b[0m\u001b[0;34m)\u001b[0m\u001b[0;34m)\u001b[0m\u001b[0;34m\u001b[0m\u001b[0;34m\u001b[0m\u001b[0m\n\u001b[0;32m----> 6\u001b[0;31m \u001b[0mprint\u001b[0m\u001b[0;34m(\u001b[0m\u001b[0muser_age\u001b[0m \u001b[0;34m+\u001b[0m \u001b[0;36m1\u001b[0m\u001b[0;34m)\u001b[0m\u001b[0;34m\u001b[0m\u001b[0;34m\u001b[0m\u001b[0m\n\u001b[0m",
            "\u001b[0;31mTypeError\u001b[0m: can only concatenate str (not \"int\") to str"
          ]
        }
      ]
    },
    {
      "cell_type": "code",
      "source": [
        "print(int(user_age)+1)"
      ],
      "metadata": {
        "colab": {
          "base_uri": "https://localhost:8080/"
        },
        "id": "jhFki3-Sr8e9",
        "outputId": "e9cc3c64-8e9e-4518-95f2-8e40ccce2748"
      },
      "execution_count": null,
      "outputs": [
        {
          "output_type": "stream",
          "name": "stdout",
          "text": [
            "38\n"
          ]
        }
      ]
    },
    {
      "cell_type": "code",
      "source": [
        "my_num = int(123.6)\n",
        "print(my_num, type(my_num))\n",
        "\n",
        "my_num = float(123)\n",
        "print(my_num, type(my_num))"
      ],
      "metadata": {
        "colab": {
          "base_uri": "https://localhost:8080/"
        },
        "id": "sg8V8cKdtwH6",
        "outputId": "f305eebf-7b07-4d49-ca08-0a9fce006ee4"
      },
      "execution_count": null,
      "outputs": [
        {
          "output_type": "stream",
          "name": "stdout",
          "text": [
            "123 <class 'int'>\n",
            "123.0 <class 'float'>\n"
          ]
        }
      ]
    },
    {
      "cell_type": "code",
      "source": [
        "my_dict = {'k1' : 'v1', 'k2' : 'v2'}\n",
        "print(my_dict.keys())\n",
        "print(my_dict.values())\n",
        "print(list(my_dict.keys()))\n",
        "print(list(my_dict.values()))"
      ],
      "metadata": {
        "colab": {
          "base_uri": "https://localhost:8080/"
        },
        "id": "xUeTaGwuuJwp",
        "outputId": "90050b2b-96be-470a-a6c7-4102e0d24748"
      },
      "execution_count": null,
      "outputs": [
        {
          "output_type": "stream",
          "name": "stdout",
          "text": [
            "dict_keys(['k1', 'k2'])\n",
            "dict_values(['v1', 'v2'])\n",
            "['k1', 'k2']\n",
            "['v1', 'v2']\n"
          ]
        }
      ]
    },
    {
      "cell_type": "code",
      "source": [
        "my_list=[2,1,4,6,3,8,5]\n",
        "new_list = my_list.sort()\n",
        "print(new_list, type(my_list), type(new_list))"
      ],
      "metadata": {
        "colab": {
          "base_uri": "https://localhost:8080/"
        },
        "id": "W3h3JTpWvHLD",
        "outputId": "e6093d1a-260a-4ead-8506-6709dcaf05c9"
      },
      "execution_count": null,
      "outputs": [
        {
          "output_type": "stream",
          "name": "stdout",
          "text": [
            "None <class 'list'> <class 'NoneType'>\n"
          ]
        }
      ]
    },
    {
      "cell_type": "code",
      "source": [
        "x = 123\n",
        "x += 10\n",
        "x *= 10\n",
        "x /= 10\n",
        "x -= 10\n",
        "\n",
        "print(x)"
      ],
      "metadata": {
        "colab": {
          "base_uri": "https://localhost:8080/"
        },
        "id": "VLTRI9gNviyX",
        "outputId": "78417578-5633-4551-e748-d5388c03cd6e"
      },
      "execution_count": null,
      "outputs": [
        {
          "output_type": "stream",
          "name": "stdout",
          "text": [
            "123.0\n"
          ]
        }
      ]
    },
    {
      "cell_type": "markdown",
      "source": [
        "**Conditions**"
      ],
      "metadata": {
        "id": "JHTcNphdDh1n"
      }
    },
    {
      "cell_type": "code",
      "source": [
        "my_score = 18\n",
        "\n",
        "if my_score == 20:\n",
        "  print(\"awsome\")\n",
        "elif my_score == 18:\n",
        "  print(\"good\")\n",
        "elif my_score == 15:\n",
        "  print(\"not bad\")\n",
        "else:\n",
        "  print(\"bad\")\n",
        "\n"
      ],
      "metadata": {
        "colab": {
          "base_uri": "https://localhost:8080/"
        },
        "id": "qvpoFbFADhMY",
        "outputId": "4087e362-1946-4db5-f9be-691e6b1d3643"
      },
      "execution_count": null,
      "outputs": [
        {
          "output_type": "stream",
          "name": "stdout",
          "text": [
            "good\n"
          ]
        }
      ]
    },
    {
      "cell_type": "markdown",
      "source": [
        "**In** operator"
      ],
      "metadata": {
        "id": "xgH3GA5DE6Fj"
      }
    },
    {
      "cell_type": "code",
      "source": [
        "str1 = input(\"Enter a word.\")\n",
        "str2 = \"this bag is very beuatiful.\"\n",
        "\n",
        "if str1 in str2:\n",
        "  print(\"yes, There is.\")\n",
        "else :\n",
        "  print(\"Noooo\")\n",
        "\n",
        "\n",
        "t1 = (1, 2, 3, 4, 100)\n",
        "a = 10\n",
        "if a in t1:\n",
        "  print(\"yes, There is.\")\n",
        "else :\n",
        "  print(\"Noooo\")\n",
        "\n",
        "\n",
        "l1 = [1, 2, 5, 3, 4, 100]\n",
        "a = 5\n",
        "if a not in l1:\n",
        "  print(\"Noooo\")\n",
        "else :\n",
        "  print(\"yes, There is.\")\n",
        "\n",
        "\n",
        "my_stud = {\n",
        "    'name' : \"Ali\",\n",
        "    'age' : 30,\n",
        "    'mark' : 19\n",
        "    }\n",
        "a = 'name'\n",
        "if a in my_stud.keys():\n",
        "  print(\"yes, There is.\")\n",
        "else :\n",
        "  print(\"Noooo\")"
      ],
      "metadata": {
        "colab": {
          "base_uri": "https://localhost:8080/"
        },
        "id": "M1f0rijmE5Jk",
        "outputId": "6ff93a92-82da-4176-cfbb-5c8b8371bf25"
      },
      "execution_count": null,
      "outputs": [
        {
          "output_type": "stream",
          "name": "stdout",
          "text": [
            "Enter a word.a\n",
            "yes, There is.\n",
            "Noooo\n",
            "yes, There is.\n",
            "yes, There is.\n"
          ]
        }
      ]
    },
    {
      "cell_type": "code",
      "source": [
        "#Rock, Paper, Scissors\n",
        "\n",
        "import random\n",
        "\n",
        "choices = ['r', 'p', 's']\n",
        "\n",
        "choice_meaning = {\n",
        "    'r': 'Rock',\n",
        "    's': 'Scissors',\n",
        "    'p': 'Paper'\n",
        "}\n",
        "\n",
        "user_choice = input('Select from Rock, Paper, Scissors: (r, p, s) ')\n",
        "\n",
        "ai_choice = random.choice(choices)\n",
        "\n",
        "if user_choice in choices:\n",
        "    print(f'Your choice is {choice_meaning[user_choice]}. AI choice is {choice_meaning[ai_choice]}.')\n",
        "    # r > s - p > r - s > p\n",
        "    if user_choice == ai_choice:\n",
        "        print('Tie')\n",
        "    elif user_choice == 'r' and ai_choice == 's':\n",
        "        print('You Won!')\n",
        "    elif user_choice == 'p' and ai_choice == 'r':\n",
        "        print('You Won!')\n",
        "    elif user_choice == 's' and ai_choice == 'p':\n",
        "        print('You Won!')\n",
        "    else:\n",
        "        print('You Lost!')\n",
        "else:\n",
        "    print('Invalid input')"
      ],
      "metadata": {
        "id": "gjdOtQFDHLKS"
      },
      "execution_count": null,
      "outputs": []
    },
    {
      "cell_type": "markdown",
      "source": [
        "**Loops**\n"
      ],
      "metadata": {
        "id": "f3XYCwnrlZvE"
      }
    },
    {
      "cell_type": "code",
      "source": [
        "l1 = [1, 2, 5, 3, 4, 100]\n",
        "for l in l1:\n",
        "  print(l)\n",
        "\n",
        "str = \"I love python\"\n",
        "for a in str:\n",
        "  print(a)\n",
        "\n",
        "t1 = (1, 2, 3, 4, 100)\n",
        "for t in t1:\n",
        "  print(t)\n",
        "\n",
        "\n",
        "my_stud = {\n",
        "    'name' : \"Ali\",\n",
        "    'age' : 30,\n",
        "    'mark' : 19\n",
        "    }\n",
        "for a in my_stud.items():\n",
        "  print(a)\n",
        "\n",
        "for a in my_stud.keys():\n",
        "  print(a)\n",
        "\n",
        "for a in my_stud.values():\n",
        "  print(a)\n"
      ],
      "metadata": {
        "colab": {
          "base_uri": "https://localhost:8080/"
        },
        "id": "0T7n4s7XEZn4",
        "outputId": "635937bb-6203-4305-9d0a-727e81bd94ce"
      },
      "execution_count": null,
      "outputs": [
        {
          "output_type": "stream",
          "name": "stdout",
          "text": [
            "1\n",
            "2\n",
            "5\n",
            "3\n",
            "4\n",
            "100\n",
            "I\n",
            " \n",
            "l\n",
            "o\n",
            "v\n",
            "e\n",
            " \n",
            "p\n",
            "y\n",
            "t\n",
            "h\n",
            "o\n",
            "n\n",
            "1\n",
            "2\n",
            "3\n",
            "4\n",
            "100\n",
            "('name', 'Ali')\n",
            "('age', 30)\n",
            "('mark', 19)\n",
            "name\n",
            "age\n",
            "mark\n",
            "Ali\n",
            "30\n",
            "19\n",
            "name Ali\n",
            "age 30\n",
            "mark 19\n"
          ]
        }
      ]
    },
    {
      "cell_type": "code",
      "source": [
        "#unpaking\n",
        "for (key, value) in my_stud.items():\n",
        "  print(key, value)"
      ],
      "metadata": {
        "colab": {
          "base_uri": "https://localhost:8080/"
        },
        "id": "2TPORamYDK-i",
        "outputId": "b821bd67-afab-472e-a2eb-cb18de09b842"
      },
      "execution_count": null,
      "outputs": [
        {
          "output_type": "stream",
          "name": "stdout",
          "text": [
            "name Ali\n",
            "age 30\n",
            "mark 19\n"
          ]
        }
      ]
    },
    {
      "cell_type": "code",
      "source": [
        "scores = [(\"Ali\", 10), (\"mohamad\", 15),(\"hassan\", 18)]\n",
        "for name, score in scores:\n",
        "  print(f\"{name}'s score is {score}\")"
      ],
      "metadata": {
        "colab": {
          "base_uri": "https://localhost:8080/"
        },
        "id": "4QD06WZ2DS7j",
        "outputId": "40135d81-0bf3-482f-e976-23eb5a897e6e"
      },
      "execution_count": null,
      "outputs": [
        {
          "output_type": "stream",
          "name": "stdout",
          "text": [
            "Ali's score is 10\n",
            "mohamad's score is 15\n",
            "hassan's score is 18\n"
          ]
        }
      ]
    },
    {
      "cell_type": "code",
      "source": [
        "#while : when condition is true do somthing else do somthing\n",
        "i = 0\n",
        "while i <= 5:\n",
        "  if i % 2 == 0:\n",
        "    print(i)\n",
        "  i += 1\n",
        "else:\n",
        "  print(\"i > 5\")\n"
      ],
      "metadata": {
        "colab": {
          "base_uri": "https://localhost:8080/"
        },
        "id": "QT-7BZHy90pj",
        "outputId": "305c8093-f255-4115-a441-27426b1a0ae3"
      },
      "execution_count": null,
      "outputs": [
        {
          "output_type": "stream",
          "name": "stdout",
          "text": [
            "0\n",
            "2\n",
            "4\n",
            "i > 5\n"
          ]
        }
      ]
    },
    {
      "cell_type": "code",
      "source": [
        "i = 0\n",
        "while i <= 5:\n",
        "  print(i)\n",
        "  if i == 3 :\n",
        "    break\n",
        "  i += 1\n",
        "else:\n",
        "  print(\"i > 5\")"
      ],
      "metadata": {
        "colab": {
          "base_uri": "https://localhost:8080/"
        },
        "id": "-P1QsfotFXzV",
        "outputId": "e80aa855-840c-4820-81b2-eaa4814ffd68"
      },
      "execution_count": null,
      "outputs": [
        {
          "output_type": "stream",
          "name": "stdout",
          "text": [
            "0\n",
            "1\n",
            "2\n",
            "3\n"
          ]
        }
      ]
    },
    {
      "cell_type": "code",
      "source": [
        "str = input(\"Enter here:\")\n",
        "while str != 'exit':\n",
        "  print(str)\n",
        "  str = input(\"Enter another one:\")\n"
      ],
      "metadata": {
        "colab": {
          "base_uri": "https://localhost:8080/"
        },
        "id": "E5_OCX2lGbih",
        "outputId": "3755f5f3-e4e7-4020-f72e-37521b16ccda"
      },
      "execution_count": null,
      "outputs": [
        {
          "name": "stdout",
          "output_type": "stream",
          "text": [
            "Enter here:s\n",
            "s\n",
            "Enter another one:exit\n"
          ]
        }
      ]
    },
    {
      "cell_type": "code",
      "source": [
        "for num in [1,2,3,4,5,6,7]:\n",
        "  if num == 4 :\n",
        "    continue\n",
        "  print(num)"
      ],
      "metadata": {
        "colab": {
          "base_uri": "https://localhost:8080/"
        },
        "id": "1FVM1N9mGtae",
        "outputId": "fc4df81c-f03e-4947-a6ec-d8b6dc59843f"
      },
      "execution_count": null,
      "outputs": [
        {
          "output_type": "stream",
          "name": "stdout",
          "text": [
            "1\n",
            "2\n",
            "3\n",
            "5\n",
            "6\n",
            "7\n"
          ]
        }
      ]
    },
    {
      "cell_type": "code",
      "source": [
        "print('Start')\n",
        "for num in [1,2,3,4,5,6,7]:\n",
        "  pass\n",
        "\n",
        "# i=0\n",
        "# while i==0:\n",
        "#   pass\n",
        "\n",
        "if i== 5:\n",
        "  pass\n",
        "\n",
        "\n",
        "if i== 5:\n",
        "  i += 1\n",
        "else:\n",
        "  pass\n",
        "\n",
        "print('End')"
      ],
      "metadata": {
        "colab": {
          "base_uri": "https://localhost:8080/"
        },
        "id": "Tk7wc8BOHkA9",
        "outputId": "16cdfa05-a8ab-448d-ce02-3818589fff88"
      },
      "execution_count": null,
      "outputs": [
        {
          "output_type": "stream",
          "name": "stdout",
          "text": [
            "Start\n",
            "End\n"
          ]
        }
      ]
    },
    {
      "cell_type": "code",
      "source": [
        "for _ in [1,2,3]:\n",
        "  print(\"hello\")"
      ],
      "metadata": {
        "colab": {
          "base_uri": "https://localhost:8080/"
        },
        "id": "jrXP3plmIzMF",
        "outputId": "55f0b8cc-7d51-4b89-d787-ca8ef99f0bf7"
      },
      "execution_count": null,
      "outputs": [
        {
          "output_type": "stream",
          "name": "stdout",
          "text": [
            "hello\n",
            "hello\n",
            "hello\n"
          ]
        }
      ]
    },
    {
      "cell_type": "code",
      "source": [
        "for i in range(5):\n",
        "  print(i)\n",
        "\n",
        "print(\"\\n\\n\")\n",
        "\n",
        "for i in range(1,10,2):# start, stop, step\n",
        "  print(i)\n",
        "\n",
        "\n",
        "print(range(1,6)) # range is a generator"
      ],
      "metadata": {
        "colab": {
          "base_uri": "https://localhost:8080/"
        },
        "id": "GxNeyxVEIWpX",
        "outputId": "da69e289-8a91-4a47-fcfa-0ea93567dd0f"
      },
      "execution_count": null,
      "outputs": [
        {
          "output_type": "stream",
          "name": "stdout",
          "text": [
            "0\n",
            "1\n",
            "2\n",
            "3\n",
            "4\n",
            "\n",
            "\n",
            "\n",
            "1\n",
            "3\n",
            "5\n",
            "7\n",
            "9\n",
            "range(1, 6)\n"
          ]
        }
      ]
    },
    {
      "cell_type": "code",
      "source": [
        "numbers = [13, 15 , 17, 20, 19, 10]\n",
        "result = 0\n",
        "for num in numbers:\n",
        "  result += num\n",
        "print(\"result\", result)\n",
        "avrage = result/len(numbers)\n",
        "print(\"avrage\", avrage)"
      ],
      "metadata": {
        "colab": {
          "base_uri": "https://localhost:8080/"
        },
        "id": "ngtwgmptJ_qv",
        "outputId": "a9c6a680-f573-4506-ab02-35c663b2ee78"
      },
      "execution_count": null,
      "outputs": [
        {
          "output_type": "stream",
          "name": "stdout",
          "text": [
            "sum_ 94\n",
            "avrage 15.666666666666666\n"
          ]
        }
      ]
    },
    {
      "cell_type": "code",
      "source": [
        "numbers = [13, 15 , 17, 20, 19, 10]\n",
        "avrage = sum(numbers)/len(numbers)\n",
        "print(\"avrage\", avrage)"
      ],
      "metadata": {
        "colab": {
          "base_uri": "https://localhost:8080/"
        },
        "id": "tA0m4ytuK4t6",
        "outputId": "97dfdd01-bfee-46af-d9a1-eb7b8c3cabfd"
      },
      "execution_count": null,
      "outputs": [
        {
          "output_type": "stream",
          "name": "stdout",
          "text": [
            "avrage 15.666666666666666\n"
          ]
        }
      ]
    },
    {
      "cell_type": "code",
      "source": [
        "num = int(input(\"Enter a number:\"))\n",
        "res = 0\n",
        "while num != 0:\n",
        "  res += num % 10\n",
        "  num //= 10\n",
        "print(res)\n",
        "\n",
        "print(\"\\n\\n\")\n",
        "\n",
        "user_input = input(\"Enter a number:\")\n",
        "res = 0\n",
        "for i in user_input:\n",
        "  res += (int(i))\n",
        "print(res)"
      ],
      "metadata": {
        "colab": {
          "base_uri": "https://localhost:8080/"
        },
        "id": "cmLdCFvvLF7t",
        "outputId": "c993c270-c49e-43e1-dd92-3eb478327112"
      },
      "execution_count": null,
      "outputs": [
        {
          "output_type": "stream",
          "name": "stdout",
          "text": [
            "Enter a number:1234\n",
            "10\n",
            "Enter a number:1234\n",
            "10\n"
          ]
        }
      ]
    },
    {
      "cell_type": "code",
      "source": [
        "names = [\"Ali\", \"mohamad\", \"hassan\"]\n",
        "scores = [ 10, 15, 18]\n",
        "\n",
        "for item in zip(names, scores):\n",
        "  print(item)\n",
        "\n",
        "print(\"\\n\\n\")\n",
        "\n",
        "for item in zip(names, scores):\n",
        "  print(item[0])\n",
        "\n",
        "print(\"\\n\\n\")\n",
        "\n",
        "for name,score in zip(names, scores):\n",
        "  print(name, score)\n",
        "\n",
        "print(\"\\n\\n\")\n",
        "\n",
        "ages = [ 16, 17, 18]\n",
        "for name,score, age in zip(names, scores, ages):\n",
        "  print(f'name = {name}, score = {score} , age = {age}')\n"
      ],
      "metadata": {
        "colab": {
          "base_uri": "https://localhost:8080/"
        },
        "id": "X6RIsSyHLGA0",
        "outputId": "001706cc-57f9-4fde-c1df-aafcbed5de0b"
      },
      "execution_count": null,
      "outputs": [
        {
          "output_type": "stream",
          "name": "stdout",
          "text": [
            "('Ali', 10)\n",
            "('mohamad', 15)\n",
            "('hassan', 18)\n",
            "\n",
            "\n",
            "\n",
            "Ali\n",
            "mohamad\n",
            "hassan\n",
            "\n",
            "\n",
            "\n",
            "Ali 10\n",
            "mohamad 15\n",
            "hassan 18\n",
            "name = Ali, score = 10 , age = 16\n",
            "name = mohamad, score = 15 , age = 17\n",
            "name = hassan, score = 18 , age = 18\n"
          ]
        }
      ]
    },
    {
      "cell_type": "code",
      "source": [
        "names = [\"Ali\", \"mohamad\", \"hassan\"]\n",
        "\n",
        "for item in enumerate(names):\n",
        "  print(item)\n",
        "print(\"\\n\\n\")\n",
        "\n",
        "\n",
        "for i, name in enumerate(names):\n",
        "  print(f'{i+1}, name = {name}')\n",
        "print(\"\\n\\n\")\n",
        "\n",
        "for i, name in enumerate(names):\n",
        "  print(f'name = {name}, score = {scores[i]} , age = {ages[i]}')\n"
      ],
      "metadata": {
        "colab": {
          "base_uri": "https://localhost:8080/"
        },
        "id": "9UVt6ajUO8l-",
        "outputId": "57fe68b6-9f52-4d4d-b7e3-7be189d8026e"
      },
      "execution_count": null,
      "outputs": [
        {
          "output_type": "stream",
          "name": "stdout",
          "text": [
            "(0, 'Ali')\n",
            "(1, 'mohamad')\n",
            "(2, 'hassan')\n",
            "\n",
            "\n",
            "\n",
            "1, name = Ali\n",
            "2, name = mohamad\n",
            "3, name = hassan\n",
            "\n",
            "\n",
            "\n",
            "name = Ali, score = 10 , age = 16\n",
            "name = mohamad, score = 15 , age = 17\n",
            "name = hassan, score = 18 , age = 18\n"
          ]
        }
      ]
    },
    {
      "cell_type": "code",
      "source": [
        "print(list(zip(names, scores, ages)))\n",
        "print(list(range(1,10,2)))"
      ],
      "metadata": {
        "colab": {
          "base_uri": "https://localhost:8080/"
        },
        "id": "qXXVvmvZP4W9",
        "outputId": "e9926ae3-137c-48ec-b78a-2f6dd8d34cd2"
      },
      "execution_count": null,
      "outputs": [
        {
          "output_type": "stream",
          "name": "stdout",
          "text": [
            "[('Ali', 10, 16), ('mohamad', 15, 17), ('hassan', 18, 18)]\n",
            "[1, 3, 5, 7, 9]\n"
          ]
        }
      ]
    },
    {
      "cell_type": "code",
      "source": [
        "list_of_num = []\n",
        "print(\"Enter student scores.\\n\")\n",
        "while True:\n",
        "  user_num = input(\"Enter a number: \")\n",
        "  if user_num == 'exit':\n",
        "    break\n",
        "  list_of_num.append(int(user_num))\n",
        "\n",
        "print(f'student avrage is : {sum(list_of_num)/len(list_of_num)}')"
      ],
      "metadata": {
        "colab": {
          "base_uri": "https://localhost:8080/"
        },
        "id": "8qoR1cybQFmo",
        "outputId": "0336ef1e-be4f-4678-9846-257912991afc"
      },
      "execution_count": null,
      "outputs": [
        {
          "output_type": "stream",
          "name": "stdout",
          "text": [
            "Enter student scores.\n",
            "\n",
            "Enter a number: 12\n",
            "Enter a number: 14\n",
            "Enter a number: 16\n",
            "Enter a number: 19\n",
            "Enter a number: 11\n",
            "Enter a number: exit\n",
            "student avrage is : 14.4\n"
          ]
        }
      ]
    },
    {
      "cell_type": "markdown",
      "source": [
        "5-practicessssssss I didn't them\n",
        "\n"
      ],
      "metadata": {
        "id": "sSSxz3UxTiWX"
      }
    },
    {
      "cell_type": "markdown",
      "source": [
        "**Functions**\n"
      ],
      "metadata": {
        "id": "QErMpy10mhhV"
      }
    },
    {
      "cell_type": "code",
      "source": [
        "def do_somthing():\n",
        "  pass"
      ],
      "metadata": {
        "id": "uGCSgGHXSeTo"
      },
      "execution_count": null,
      "outputs": []
    },
    {
      "cell_type": "code",
      "source": [
        "def check_even_in_List(list_of_nums):\n",
        "  for num in list_of_nums:\n",
        "    if num % 2 == 0:\n",
        "      return True\n",
        "  return False\n",
        "\n",
        "\n",
        "check_even_in_List([1,2,3,4,5,6])"
      ],
      "metadata": {
        "colab": {
          "base_uri": "https://localhost:8080/"
        },
        "id": "b9_Si0sqof3D",
        "outputId": "69b6f481-2b02-4ffd-aefc-a956051b34b7"
      },
      "execution_count": null,
      "outputs": [
        {
          "output_type": "execute_result",
          "data": {
            "text/plain": [
              "True"
            ]
          },
          "metadata": {},
          "execution_count": 76
        }
      ]
    },
    {
      "cell_type": "code",
      "source": [
        "def check_even_in_List(list_of_nums):\n",
        "  res = []\n",
        "  for num in list_of_nums:\n",
        "    if num % 2 == 0:\n",
        "      res.append(num)\n",
        "  return res\n",
        "\n",
        "\n",
        "check_even_in_List([1,2,3,4,5,6])"
      ],
      "metadata": {
        "colab": {
          "base_uri": "https://localhost:8080/"
        },
        "id": "hBFEyJNqpQUO",
        "outputId": "ff7b7122-5e49-4e8c-caa1-b262dcebd79c"
      },
      "execution_count": null,
      "outputs": [
        {
          "output_type": "execute_result",
          "data": {
            "text/plain": [
              "[2, 4, 6]"
            ]
          },
          "metadata": {},
          "execution_count": 77
        }
      ]
    },
    {
      "cell_type": "code",
      "source": [
        "def cala_sum_sub(num1, num2):\n",
        "  sum_res = num1 + num2\n",
        "  sub_res = num1 - num2\n",
        "  return (sum_res, sub_res)\n",
        "res_sum, res_sub =  cala_sum_sub(10, 4)\n",
        "print(res_sum, res_sub)\n",
        "\n",
        "print(\"\\n\\n\")\n",
        "\n",
        "\n",
        "def cala_sum_sub(num1, num2):\n",
        "  return ( num1 + num2, num1 - num2)\n",
        "(res_sum, res_sub ) =  cala_sum_sub(10, 4)\n",
        "print(res_sum, res_sub)\n",
        "\n",
        "\n",
        "print(\"\\n\\n\")\n",
        "\n",
        "\n",
        "def cala_sum_sub(num1, num2):\n",
        "  return num1 + num2, num1 - num2\n",
        "print(cala_sum_sub(10, 4))"
      ],
      "metadata": {
        "colab": {
          "base_uri": "https://localhost:8080/"
        },
        "id": "8UdzhdX1qJJ0",
        "outputId": "dee9b027-077d-4e3f-acd0-294e64efb614"
      },
      "execution_count": null,
      "outputs": [
        {
          "output_type": "stream",
          "name": "stdout",
          "text": [
            "14 6\n",
            "\n",
            "\n",
            "\n",
            "14 6\n",
            "\n",
            "\n",
            "\n",
            "(14, 6)\n"
          ]
        }
      ]
    },
    {
      "cell_type": "code",
      "source": [
        "def max_str_len(list_of_str):\n",
        "  final_res = ''\n",
        "  for str in list_of_str:\n",
        "    if len(str) >= len(final_res):\n",
        "      final_res = str\n",
        "\n",
        "  return final_res, len(final_res)\n",
        "\n",
        "list_of_str = ['hi', 'hello', 'somthing', 'how', 'me', 'nothing']\n",
        "str_res, len_str_res = max_str_len(list_of_str)\n",
        "print(str_res, len_str_res)\n",
        "\n",
        "\n",
        "\n",
        "str_res, len_str_res, str_index = max_str_len(list_of_str)"
      ],
      "metadata": {
        "colab": {
          "base_uri": "https://localhost:8080/",
          "height": 228
        },
        "id": "XcN-81D6rCwv",
        "outputId": "b70773be-02e7-436c-9ff3-d230e1500db4"
      },
      "execution_count": null,
      "outputs": [
        {
          "output_type": "stream",
          "name": "stdout",
          "text": [
            "somthing 8\n"
          ]
        },
        {
          "output_type": "error",
          "ename": "ValueError",
          "evalue": "not enough values to unpack (expected 3, got 2)",
          "traceback": [
            "\u001b[0;31m---------------------------------------------------------------------------\u001b[0m",
            "\u001b[0;31mValueError\u001b[0m                                Traceback (most recent call last)",
            "\u001b[0;32m<ipython-input-80-d2b7bfd95f67>\u001b[0m in \u001b[0;36m<cell line: 15>\u001b[0;34m()\u001b[0m\n\u001b[1;32m     13\u001b[0m \u001b[0;34m\u001b[0m\u001b[0m\n\u001b[1;32m     14\u001b[0m \u001b[0;34m\u001b[0m\u001b[0m\n\u001b[0;32m---> 15\u001b[0;31m \u001b[0mstr_res\u001b[0m\u001b[0;34m,\u001b[0m \u001b[0mlen_str_res\u001b[0m\u001b[0;34m,\u001b[0m \u001b[0mstr_index\u001b[0m \u001b[0;34m=\u001b[0m \u001b[0mmax_str_len\u001b[0m\u001b[0;34m(\u001b[0m\u001b[0mlist_of_str\u001b[0m\u001b[0;34m)\u001b[0m\u001b[0;34m\u001b[0m\u001b[0;34m\u001b[0m\u001b[0m\n\u001b[0m",
            "\u001b[0;31mValueError\u001b[0m: not enough values to unpack (expected 3, got 2)"
          ]
        }
      ]
    },
    {
      "cell_type": "code",
      "source": [
        "def is_even(num):\n",
        "  if num % 2 == 0:\n",
        "    return True\n",
        "  return False\n",
        "\n",
        "def return_all_even(list_of_nums):\n",
        "  res_even = []\n",
        "  res_odd = []\n",
        "  for num in list_of_nums:\n",
        "    if is_even(num):\n",
        "      res_even.append(num)\n",
        "    else:\n",
        "      res_odd.append(num)\n",
        "  return res_even, res_odd\n",
        "\n",
        "return_all_even([1,2,3,4,5,6])"
      ],
      "metadata": {
        "colab": {
          "base_uri": "https://localhost:8080/"
        },
        "id": "AwNtSp32tUyE",
        "outputId": "09ad7d6d-aef5-4d34-b8f6-37939a57c454"
      },
      "execution_count": null,
      "outputs": [
        {
          "output_type": "execute_result",
          "data": {
            "text/plain": [
              "([2, 4, 6], [1, 3, 5])"
            ]
          },
          "metadata": {},
          "execution_count": 82
        }
      ]
    },
    {
      "cell_type": "code",
      "source": [
        "def get_input():\n",
        "  list_of_inputs = []\n",
        "  print(\"Enter a word.\\n\")\n",
        "  while True:\n",
        "    user_input = input(\"Enter another word: \")\n",
        "    if user_input == 'done':\n",
        "      break\n",
        "    list_of_inputs.append(user_input)\n",
        "  return list_of_inputs\n",
        "\n",
        "def max_min_str(user_inputs):\n",
        "  max = ''\n",
        "  min = user_inputs[0]\n",
        "  for str in user_inputs:\n",
        "    if len(str) >= len(max):\n",
        "      max = str\n",
        "    elif len(str) < len(min):\n",
        "      min = str\n",
        "  return max, min\n",
        "\n",
        "\n",
        "user_inputs = get_input()\n",
        "max_min_str(user_inputs)"
      ],
      "metadata": {
        "colab": {
          "base_uri": "https://localhost:8080/"
        },
        "id": "QVQRFvHGwdYp",
        "outputId": "59a9080b-7982-46a5-d7f7-70c61528fcf1"
      },
      "execution_count": null,
      "outputs": [
        {
          "name": "stdout",
          "output_type": "stream",
          "text": [
            "Enter a word.\n",
            "\n",
            "Enter another word: hassan\n",
            "Enter another word: mamad\n",
            "Enter another word: ali\n",
            "Enter another word: mohamad reza\n",
            "Enter another word: mehdi\n",
            "Enter another word: reza\n",
            "Enter another word: done\n"
          ]
        },
        {
          "output_type": "execute_result",
          "data": {
            "text/plain": [
              "('mohamad reza', 'ali')"
            ]
          },
          "metadata": {},
          "execution_count": 87
        }
      ]
    },
    {
      "cell_type": "code",
      "source": [
        "def cala_sum_sub(name, eye_color, age):\n",
        "  return f\"{name}'s eye's color is {eye_color}.{name}'s {age}\"\n",
        "\n",
        "print(cala_sum_sub('ali','brown',14))\n",
        "print(cala_sum_sub(eye_color = 'brown', age = 14, name = 'ali'))\n",
        "print(cala_sum_sub('ali', eye_color = 'brown', age = 14))\n",
        "print(cala_sum_sub('ali', 'brown', age = 14))\n",
        "\n",
        "# print(cala_sum_sub( 'ali', eye_color = 'brown',  14))"
      ],
      "metadata": {
        "colab": {
          "base_uri": "https://localhost:8080/"
        },
        "id": "P5Jactb_z2yh",
        "outputId": "fd5bbc80-d5fa-4284-9184-d677634ef474"
      },
      "execution_count": null,
      "outputs": [
        {
          "output_type": "stream",
          "name": "stdout",
          "text": [
            "ali's eye's color is brown.ali's 14\n",
            "ali's eye's color is brown.ali's 14\n",
            "ali's eye's color is brown.ali's 14\n",
            "ali's eye's color is brown.ali's 14\n"
          ]
        }
      ]
    },
    {
      "cell_type": "markdown",
      "source": [
        "**#args, kwargs**"
      ],
      "metadata": {
        "id": "rYvCoSua3vZp"
      }
    },
    {
      "cell_type": "code",
      "source": [
        "#args\n",
        "def func(*args):\n",
        "  print(args, type(args))\n",
        "\n",
        "func(1,2,3,4,5,6,\"a\",'c')\n",
        "\n",
        "print(\"\\n\\n\")\n",
        "\n",
        "def sum_nums(*args):\n",
        "  res = 0\n",
        "  for n in args:\n",
        "    res += n\n",
        "  return res\n",
        "\n",
        "print(sum_nums(1,2,3,4,5,6))\n",
        "\n",
        "print(\"\\n\\n\")\n",
        "\n",
        "def sum_nums(*nums):\n",
        "  res = 0\n",
        "  for n in nums:\n",
        "    res += n\n",
        "  return res\n",
        "\n",
        "print(sum_nums(1,2,3,4,5,6))"
      ],
      "metadata": {
        "colab": {
          "base_uri": "https://localhost:8080/"
        },
        "id": "eL1zr0il2IcF",
        "outputId": "69c64381-9621-45ba-f638-50fd7e8a1bdc"
      },
      "execution_count": null,
      "outputs": [
        {
          "output_type": "stream",
          "name": "stdout",
          "text": [
            "(1, 2, 3, 4, 5, 6, 'a', 'c') <class 'tuple'>\n",
            "\n",
            "\n",
            "\n",
            "21\n",
            "\n",
            "\n",
            "\n",
            "21\n"
          ]
        }
      ]
    },
    {
      "cell_type": "code",
      "source": [
        "#kwargs\n",
        "def func(**kwargs):\n",
        "  print(kwargs, type(kwargs), kwargs['d'], kwargs.items)\n",
        "\n",
        "func(a=1,b=2,c=\"a\",d='50')\n",
        "\n",
        "def func(*args,**kwargs):\n",
        "  print(args, kwargs)\n",
        "\n",
        "func(10, 20, a=1,b=2,c=\"a\",d='50')\n",
        "# func(a=1,b=2,c=\"a\",d='50', 10, 20)"
      ],
      "metadata": {
        "colab": {
          "base_uri": "https://localhost:8080/"
        },
        "id": "UY9PS5M83vNM",
        "outputId": "f29199fa-22b2-4ee0-f74d-9a26a9d2dfaf"
      },
      "execution_count": null,
      "outputs": [
        {
          "output_type": "stream",
          "name": "stdout",
          "text": [
            "{'a': 1, 'b': 2, 'c': 'a', 'd': '50'} <class 'dict'> 50\n",
            "(10, 20) {'a': 1, 'b': 2, 'c': 'a', 'd': '50'}\n"
          ]
        }
      ]
    },
    {
      "cell_type": "code",
      "source": [
        "def calc_bank_rate(init_money, num_of_year, rate = 0.2):\n",
        "  res = init_money\n",
        "  for n in range(num_of_year):\n",
        "    res *= (1 + rate)\n",
        "  return res\n",
        "\n",
        "print(calc_bank_rate(10000, 1, 0.2))\n",
        "print(calc_bank_rate( num_of_year = 1, init_money= 10000))"
      ],
      "metadata": {
        "colab": {
          "base_uri": "https://localhost:8080/"
        },
        "id": "xf9oaZ-M25q-",
        "outputId": "8c94b492-6ad8-4dc6-d333-c60cdab2165f"
      },
      "execution_count": null,
      "outputs": [
        {
          "output_type": "stream",
          "name": "stdout",
          "text": [
            "12000.0\n",
            "12000.0\n"
          ]
        }
      ]
    },
    {
      "cell_type": "code",
      "source": [
        "type(calc_bank_rate)"
      ],
      "metadata": {
        "colab": {
          "base_uri": "https://localhost:8080/"
        },
        "id": "qpGOMZyr7kNb",
        "outputId": "51423c23-ad72-4f5e-f13a-b0c97a482719"
      },
      "execution_count": null,
      "outputs": [
        {
          "output_type": "execute_result",
          "data": {
            "text/plain": [
              "function"
            ]
          },
          "metadata": {},
          "execution_count": 114
        }
      ]
    },
    {
      "cell_type": "markdown",
      "source": [
        "built-in functions"
      ],
      "metadata": {
        "id": "5giHLn097CQR"
      }
    },
    {
      "cell_type": "code",
      "source": [
        "# print()\n",
        "# max()\n",
        "# min()\n",
        "# sum()\n",
        "# len()\n",
        "type(len)\n",
        "\n",
        "\n",
        "# print = \"1234\"  is not correct\n",
        "len = 10  # is not correct\n",
        "del len # remove len from memory\n",
        "my_list = [1,2,3,4,5]\n",
        "print(len(my_list))"
      ],
      "metadata": {
        "colab": {
          "base_uri": "https://localhost:8080/"
        },
        "id": "c_CuAPfU7Bss",
        "outputId": "42c35c9a-fde6-4bcf-e728-59cafb6acc40"
      },
      "execution_count": null,
      "outputs": [
        {
          "output_type": "stream",
          "name": "stdout",
          "text": [
            "5\n"
          ]
        }
      ]
    },
    {
      "cell_type": "markdown",
      "source": [
        "Triple quoted strings using for doc Strings\n"
      ],
      "metadata": {
        "id": "hDlHlPTE9H1J"
      }
    },
    {
      "cell_type": "code",
      "source": [
        "str1 = '1)hel\"looooolll'\n",
        "str2 = \"2)hel\\\"loo\"\n",
        "str3 = \"3)hel'looooolll\"\n",
        "\n",
        "str4 = \"\"\"4)hello'hel\"lo\n",
        "hiiiii\n",
        "I'm Reza\"\"\"\n",
        "\n",
        "str5 = '''5)hello'hel\"lo\n",
        "hiiiii\n",
        "I'm Reza'''\n",
        "\n",
        "print(str1)\n",
        "print(str2)\n",
        "print(str3)\n",
        "print(str4)\n",
        "print(str5)"
      ],
      "metadata": {
        "colab": {
          "base_uri": "https://localhost:8080/"
        },
        "id": "Dvwrq2_p9GKg",
        "outputId": "8272ae48-dc83-445d-d562-bb69aff6ce65"
      },
      "execution_count": null,
      "outputs": [
        {
          "output_type": "stream",
          "name": "stdout",
          "text": [
            "1)hel\"looooolll\n",
            "2)hel\"loo\n",
            "3)hel'looooolll\n",
            "4)hello'hel\"lo\n",
            "hiiiii \n",
            "I'm Reza\n",
            "5)hello'hel\"lo\n",
            "hiiiii \n",
            "I'm Reza\n"
          ]
        }
      ]
    },
    {
      "cell_type": "code",
      "source": [
        "def custom_function(my_tuple):\n",
        "  return my_tuple[1]\n",
        "\n",
        "my_list = [('Ali', 90), ('hassan', 20), ('reza', 79)]\n",
        "my_list.sort(key=custom_function)\n",
        "my_list"
      ],
      "metadata": {
        "colab": {
          "base_uri": "https://localhost:8080/"
        },
        "id": "jHQbq_TgW69l",
        "outputId": "c7113de9-8a98-4796-ce5b-c8cfaa1c53ac"
      },
      "execution_count": null,
      "outputs": [
        {
          "output_type": "execute_result",
          "data": {
            "text/plain": [
              "[('hassan', 20), ('reza', 79), ('Ali', 90)]"
            ]
          },
          "metadata": {},
          "execution_count": 125
        }
      ]
    },
    {
      "cell_type": "code",
      "source": [],
      "metadata": {
        "id": "1qpmzB3IXgDO"
      },
      "execution_count": null,
      "outputs": []
    }
  ],
  "metadata": {
    "colab": {
      "provenance": [],
      "authorship_tag": "ABX9TyMYYonGi1NBrZeIGJnKN7gz",
      "include_colab_link": true
    },
    "kernelspec": {
      "display_name": "Python 3",
      "name": "python3"
    },
    "language_info": {
      "name": "python"
    }
  },
  "nbformat": 4,
  "nbformat_minor": 0
}