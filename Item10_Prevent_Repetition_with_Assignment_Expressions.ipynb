{
  "nbformat": 4,
  "nbformat_minor": 0,
  "metadata": {
    "colab": {
      "provenance": [],
      "authorship_tag": "ABX9TyM9n0ohJvBpECXB7OnDjHEM",
      "include_colab_link": true
    },
    "kernelspec": {
      "name": "python3",
      "display_name": "Python 3"
    },
    "language_info": {
      "name": "python"
    }
  },
  "cells": [
    {
      "cell_type": "markdown",
      "metadata": {
        "id": "view-in-github",
        "colab_type": "text"
      },
      "source": [
        "<a href=\"https://colab.research.google.com/github/MaryamNourii/Python-Learning/blob/Clean_Code/Item10_Prevent_Repetition_with_Assignment_Expressions.ipynb\" target=\"_parent\"><img src=\"https://colab.research.google.com/assets/colab-badge.svg\" alt=\"Open In Colab\"/></a>"
      ]
    },
    {
      "cell_type": "code",
      "execution_count": 3,
      "metadata": {
        "id": "9hFZfwZ-d4Sv"
      },
      "outputs": [],
      "source": [
        "fresh_fruit = {\n",
        "    'apple': 10,\n",
        "    'banana': 8,\n",
        "    'lemon': 5,\n",
        "}"
      ]
    },
    {
      "cell_type": "code",
      "source": [
        "def make_lemonade(count):\n",
        "    print(f'Making {count} lemons into lemonade')\n",
        "\n",
        "def out_of_stock():\n",
        "    print('Out of stock!')\n",
        "\n",
        "\n",
        "count = fresh_fruit.get('lemon', 0)\n",
        "if count:\n",
        "    make_lemonade(count)\n",
        "else:\n",
        "    out_of_stock()\n"
      ],
      "metadata": {
        "colab": {
          "base_uri": "https://localhost:8080/"
        },
        "id": "wRD9zYFcfB_j",
        "outputId": "2796836c-25f4-4b93-c624-226ec6bc1937"
      },
      "execution_count": 4,
      "outputs": [
        {
          "output_type": "stream",
          "name": "stdout",
          "text": [
            "Making 5 lemons into lemonade\n"
          ]
        }
      ]
    },
    {
      "cell_type": "code",
      "source": [
        "if count := fresh_fruit.get('lemon', 0):#walrus oprator - Assignment operator\n",
        "    make_lemonade(count)\n",
        "else:\n",
        "    out_of_stock()"
      ],
      "metadata": {
        "colab": {
          "base_uri": "https://localhost:8080/"
        },
        "id": "roTif0soe93Z",
        "outputId": "6406851e-c21f-4aaa-d1f2-27838451a4f8"
      },
      "execution_count": 5,
      "outputs": [
        {
          "output_type": "stream",
          "name": "stdout",
          "text": [
            "Making 5 lemons into lemonade\n"
          ]
        }
      ]
    },
    {
      "cell_type": "code",
      "source": [
        "def make_cider(count):\n",
        "    print(f'Making cider with {count} apples')\n",
        "\n",
        "count = fresh_fruit.get('apple', 0)\n",
        "if count >= 4:\n",
        "    make_cider(count)\n",
        "else:\n",
        "    out_of_stock()"
      ],
      "metadata": {
        "id": "KL0aKncke8HY"
      },
      "execution_count": null,
      "outputs": []
    },
    {
      "cell_type": "code",
      "source": [
        "if (count := fresh_fruit.get('apple', 0)) >= 4:# must use ()\n",
        "    make_cider(count)\n",
        "else:\n",
        "    out_of_stock()"
      ],
      "metadata": {
        "id": "xI596hm4e5G8"
      },
      "execution_count": null,
      "outputs": []
    },
    {
      "cell_type": "code",
      "source": [
        "def slice_bananas(count):\n",
        "    print(f'Slicing {count} bananas')\n",
        "    return count * 4\n",
        "\n",
        "class OutOfBananas(Exception):\n",
        "    pass\n",
        "\n",
        "def make_smoothies(count):\n",
        "    print(f'Making a smoothies with {count} banana slices')\n",
        "\n",
        "pieces = 0\n",
        "count = fresh_fruit.get('banana', 0)\n",
        "if count >= 2:\n",
        "    pieces = slice_bananas(count)\n",
        "\n",
        "try:\n",
        "    smoothies = make_smoothies(pieces)\n",
        "except OutOfBananas:\n",
        "    out_of_stock()\n",
        "\n",
        "\n"
      ],
      "metadata": {
        "id": "WGMHPDuwewsQ"
      },
      "execution_count": null,
      "outputs": []
    },
    {
      "cell_type": "code",
      "source": [
        "count = fresh_fruit.get('banana', 0)\n",
        "if count >= 2:\n",
        "    pieces = slice_bananas(count)\n",
        "else:\n",
        "    pieces = 0\n",
        "\n",
        "try:\n",
        "    smoothies = make_smoothies(pieces)\n",
        "except OutOfBananas:\n",
        "    out_of_stock()\n"
      ],
      "metadata": {
        "id": "E-HH18bbeysV"
      },
      "execution_count": null,
      "outputs": []
    },
    {
      "cell_type": "code",
      "source": [
        "pieces = 0\n",
        "if (count := fresh_fruit.get('banana', 0)) >= 2:\n",
        "    pieces = slice_bananas(count)\n",
        "\n",
        "try:\n",
        "    smoothies = make_smoothies(pieces)\n",
        "except OutOfBananas:\n",
        "    out_of_stock()\n"
      ],
      "metadata": {
        "id": "zYc_AGWfhyVJ"
      },
      "execution_count": null,
      "outputs": []
    },
    {
      "cell_type": "code",
      "source": [
        "if (count := fresh_fruit.get('banana', 0)) >= 2:\n",
        "    pieces = slice_bananas(count)\n",
        "else:\n",
        "    pieces = 0\n",
        "\n",
        "try:\n",
        "    smoothies = make_smoothies(pieces)\n",
        "except OutOfBananas:\n",
        "    out_of_stock()\n"
      ],
      "metadata": {
        "id": "OzuMoxb7er22"
      },
      "execution_count": null,
      "outputs": []
    },
    {
      "cell_type": "code",
      "source": [
        "count = fresh_fruit.get('banana', 0)\n",
        "if count >= 2:\n",
        "    pieces = slice_bananas(count)\n",
        "    to_enjoy = make_smoothies(pieces)\n",
        "else:\n",
        "    count = fresh_fruit.get('apple', 0)\n",
        "    if count >= 4:\n",
        "        to_enjoy = make_cider(count)\n",
        "    else:\n",
        "        count = fresh_fruit.get('lemon', 0)\n",
        "        if count:\n",
        "            to_enjoy = make_lemonade(count)\n",
        "        else:\n",
        "            to_enjoy = 'Nothing'\n"
      ],
      "metadata": {
        "id": "8oNwR8vseogV"
      },
      "execution_count": null,
      "outputs": []
    },
    {
      "cell_type": "code",
      "source": [
        "if (count := fresh_fruit.get('banana', 0)) >= 2:\n",
        "    pieces = slice_bananas(count)\n",
        "    to_enjoy = make_smoothies(pieces)\n",
        "elif (count := fresh_fruit.get('apple', 0)) >= 4:\n",
        "    to_enjoy = make_cider(count)\n",
        "elif count := fresh_fruit.get('lemon', 0):\n",
        "    to_enjoy = make_lemonade(count)\n",
        "else:\n",
        "    to_enjoy = 'Nothing'\n"
      ],
      "metadata": {
        "id": "k50MjmYxehvw"
      },
      "execution_count": null,
      "outputs": []
    },
    {
      "cell_type": "code",
      "source": [
        "FRUIT_TO_PICK = [\n",
        "    {'apple': 1, 'banana': 3},\n",
        "    {'lemon': 2, 'lime': 5},\n",
        "    {'orange': 3, 'melon': 2},\n",
        "]\n",
        "\n",
        "def pick_fruit():\n",
        "    if FRUIT_TO_PICK:\n",
        "        return FRUIT_TO_PICK.pop(0)\n",
        "    else:\n",
        "        return []\n",
        "\n",
        "def make_juice(fruit, count):\n",
        "    return [(fruit, count)]\n",
        "\n",
        "bottles = []\n",
        "fresh_fruit = pick_fruit()\n",
        "while fresh_fruit:\n",
        "    for fruit, count in fresh_fruit.items():\n",
        "        batch = make_juice(fruit, count)\n",
        "        bottles.extend(batch)\n",
        "    fresh_fruit = pick_fruit()\n",
        "\n",
        "print(bottles)"
      ],
      "metadata": {
        "id": "f9NaVElGeb4P"
      },
      "execution_count": null,
      "outputs": []
    },
    {
      "cell_type": "code",
      "source": [
        "FRUIT_TO_PICK = [\n",
        "    {'apple': 1, 'banana': 3},\n",
        "    {'lemon': 2, 'lime': 5},\n",
        "    {'orange': 3, 'melon': 2},\n",
        "]\n",
        "\n",
        "bottles = []\n",
        "while True:                     # Loop\n",
        "    fresh_fruit = pick_fruit()\n",
        "    if not fresh_fruit:         # And a half\n",
        "        break\n",
        "    for fruit, count in fresh_fruit.items():\n",
        "        batch = make_juice(fruit, count)\n",
        "        bottles.extend(batch)\n",
        "\n",
        "print(bottles)\n",
        "\n"
      ],
      "metadata": {
        "id": "Cv0L0NUneUy3"
      },
      "execution_count": null,
      "outputs": []
    },
    {
      "cell_type": "code",
      "source": [
        "FRUIT_TO_PICK = [\n",
        "    {'apple': 1, 'banana': 3},\n",
        "    {'lemon': 2, 'lime': 5},\n",
        "    {'orange': 3, 'melon': 2},\n",
        "]\n",
        "\n",
        "bottles = []\n",
        "while fresh_fruit := pick_fruit():\n",
        "    for fruit, count in fresh_fruit.items():\n",
        "        batch = make_juice(fruit, count)\n",
        "        bottles.extend(batch)\n",
        "\n",
        "print(bottles)"
      ],
      "metadata": {
        "id": "h37ZQrJceScU"
      },
      "execution_count": null,
      "outputs": []
    }
  ]
}