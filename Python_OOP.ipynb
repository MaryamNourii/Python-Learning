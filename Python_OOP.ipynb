{
  "nbformat": 4,
  "nbformat_minor": 0,
  "metadata": {
    "colab": {
      "provenance": [],
      "authorship_tag": "ABX9TyPC6IYLUIkTtMNOxRbBQzjE",
      "include_colab_link": true
    },
    "kernelspec": {
      "name": "python3",
      "display_name": "Python 3"
    },
    "language_info": {
      "name": "python"
    }
  },
  "cells": [
    {
      "cell_type": "markdown",
      "metadata": {
        "id": "view-in-github",
        "colab_type": "text"
      },
      "source": [
        "<a href=\"https://colab.research.google.com/github/MaryamNourii/Python-Learning/blob/OOP/Python_OOP.ipynb\" target=\"_parent\"><img src=\"https://colab.research.google.com/assets/colab-badge.svg\" alt=\"Open In Colab\"/></a>"
      ]
    },
    {
      "cell_type": "code",
      "execution_count": 3,
      "metadata": {
        "colab": {
          "base_uri": "https://localhost:8080/"
        },
        "id": "HPfpqUMcJ5pV",
        "outputId": "c915fdb0-3f8b-471f-d758-fc21b07b4d8a"
      },
      "outputs": [
        {
          "output_type": "stream",
          "name": "stdout",
          "text": [
            "my car's color isBlue, its color is BMW\n",
            "lights on\n",
            "right is on.\n"
          ]
        }
      ],
      "source": [
        "class car:\n",
        "  def __init__(self, car_color, model):\n",
        "    self.color = car_color\n",
        "    self.model = model\n",
        "\n",
        "  def turn_on_lights(self):\n",
        "    print('lights on')\n",
        "\n",
        "  def rahnam_zadan(self, right_or_left):\n",
        "    return f'{right_or_left} is on.'\n",
        "\n",
        "\n",
        "my_car = car('Blue', 'BMW')\n",
        "print(f\"my car's color is{my_car.color}, its color is {my_car.model}\")\n",
        "my_car.turn_on_lights()\n",
        "print(my_car.rahnam_zadan('right'))\n"
      ]
    }
  ]
}