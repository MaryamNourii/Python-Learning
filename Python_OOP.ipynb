{
  "nbformat": 4,
  "nbformat_minor": 0,
  "metadata": {
    "colab": {
      "provenance": [],
      "authorship_tag": "ABX9TyNE6XOZwS7B4X0X1YFMO6Bi",
      "include_colab_link": true
    },
    "kernelspec": {
      "name": "python3",
      "display_name": "Python 3"
    },
    "language_info": {
      "name": "python"
    }
  },
  "cells": [
    {
      "cell_type": "markdown",
      "metadata": {
        "id": "view-in-github",
        "colab_type": "text"
      },
      "source": [
        "<a href=\"https://colab.research.google.com/github/MaryamNourii/Python-Learning/blob/main/Python_OOP.ipynb\" target=\"_parent\"><img src=\"https://colab.research.google.com/assets/colab-badge.svg\" alt=\"Open In Colab\"/></a>"
      ]
    },
    {
      "cell_type": "code",
      "source": [
        "class Car:\n",
        "  pass\n",
        "\n",
        "car1 = Car()\n",
        "print(car1)\n",
        "\n",
        "car2 = Car()\n",
        "print(car2)\n",
        "\n",
        "car3 = car1\n",
        "print(car1 == car2)\n",
        "print(car1 == car3)"
      ],
      "metadata": {
        "colab": {
          "base_uri": "https://localhost:8080/"
        },
        "id": "VC5V4-QCS8Us",
        "outputId": "b1e3a481-7016-485f-c342-2cd54968ca76"
      },
      "execution_count": null,
      "outputs": [
        {
          "output_type": "stream",
          "name": "stdout",
          "text": [
            "<__main__.Car object at 0x7bf9be8f37f0>\n",
            "<__main__.Car object at 0x7bf9be8f3370>\n",
            "False\n",
            "True\n"
          ]
        }
      ]
    },
    {
      "cell_type": "code",
      "execution_count": null,
      "metadata": {
        "colab": {
          "base_uri": "https://localhost:8080/"
        },
        "id": "HPfpqUMcJ5pV",
        "outputId": "48fb7eef-0646-40cd-f52d-957544045b51"
      },
      "outputs": [
        {
          "output_type": "stream",
          "name": "stdout",
          "text": [
            "my car's color is Blue, its model is BMW\n",
            "lights on\n",
            "right is on.\n"
          ]
        }
      ],
      "source": [
        "class Car: # Encapsulation\n",
        "  def __init__(self, car_color, model): # constractor\n",
        "    self.color = car_color # instance attribute\n",
        "    self.model = model\n",
        "\n",
        "  def print_details(self): #method\n",
        "    return f\"my car's color is {self.color}, its model is {self.model}\"\n",
        "\n",
        "  def turn_on_lights(self):\n",
        "    print('lights on')\n",
        "\n",
        "  def rahnam_zadan(self, right_or_left):\n",
        "    return f'{right_or_left} is on.'\n",
        "\n",
        "\n",
        "my_car = Car('Blue', 'BMW')# instance\n",
        "print(my_car.print_details())\n",
        "my_car.turn_on_lights()\n",
        "print(my_car.rahnam_zadan('right'))"
      ]
    },
    {
      "cell_type": "code",
      "source": [
        "my_car2 = Car('Blue', 'BMW')\n",
        "print(my_car == my_car2)\n",
        "\n",
        "print('\\n')\n",
        "\n",
        "my_car3 = my_car\n",
        "print(my_car == my_car3)"
      ],
      "metadata": {
        "colab": {
          "base_uri": "https://localhost:8080/"
        },
        "id": "x8RLQ6h5NFZl",
        "outputId": "d2f33c2d-6441-4544-84c0-13062682bb35"
      },
      "execution_count": null,
      "outputs": [
        {
          "output_type": "stream",
          "name": "stdout",
          "text": [
            "False\n",
            "\n",
            "\n",
            "True\n"
          ]
        }
      ]
    },
    {
      "cell_type": "code",
      "source": [
        "car1 = Car('red', 'Benz')  # self\n",
        "print(car1.print_details())\n",
        "print(Car.print_details(car1))"
      ],
      "metadata": {
        "colab": {
          "base_uri": "https://localhost:8080/"
        },
        "id": "HjHtVd80j7iT",
        "outputId": "37351b1a-47bf-4f08-c741-e9594c74e5d5"
      },
      "execution_count": null,
      "outputs": [
        {
          "output_type": "stream",
          "name": "stdout",
          "text": [
            "my car's color is red, its model is Benz\n",
            "my car's color is red, its model is Benz\n"
          ]
        }
      ]
    },
    {
      "cell_type": "code",
      "source": [],
      "metadata": {
        "id": "EA28WsqMNcEn"
      },
      "execution_count": null,
      "outputs": []
    },
    {
      "cell_type": "code",
      "source": [
        "class House:\n",
        "  country = 'Iran' #class attribute\n",
        "\n",
        "  def __init__(self,num_of_room, num_of_floor):\n",
        "    self.num_of_room = num_of_room\n",
        "    self.num_of_floor = num_of_floor\n",
        "\n",
        "  def House_description(self):\n",
        "    return (self.num_of_room, self.num_of_floor)\n",
        "\n",
        "my_house = House(2, 3)\n",
        "print(my_house.House_description(), my_house.country)\n",
        "\n",
        "john_house = House(4, 2)\n",
        "print(john_house.House_description(), john_house.country)\n",
        "\n",
        "my_house.meterage = 150  # change class attributs in runtime\n",
        "print(my_house.meterage)\n",
        "\n"
      ],
      "metadata": {
        "colab": {
          "base_uri": "https://localhost:8080/"
        },
        "id": "P-dRizeskiFJ",
        "outputId": "ae0ca8d7-e49a-4a10-da71-a1f509fdbe61"
      },
      "execution_count": null,
      "outputs": [
        {
          "output_type": "stream",
          "name": "stdout",
          "text": [
            "(2, 3) Iran\n",
            "(4, 2) Iran\n",
            "150\n"
          ]
        }
      ]
    },
    {
      "cell_type": "code",
      "source": [
        "a = 12\n",
        "del a\n",
        "print(a)"
      ],
      "metadata": {
        "id": "G9U4mmuL1t7t"
      },
      "execution_count": null,
      "outputs": []
    },
    {
      "cell_type": "code",
      "source": [
        "#priority with instance attribute\n",
        "my_house.country = 'USA'\n",
        "my_house.num_of_floor = 5\n",
        "print(my_house.House_description(), my_house.country)"
      ],
      "metadata": {
        "colab": {
          "base_uri": "https://localhost:8080/"
        },
        "id": "8cwV05CY2bE_",
        "outputId": "f43557e4-3dd6-4d5a-ad27-bc40fa9fb9bb"
      },
      "execution_count": null,
      "outputs": [
        {
          "output_type": "stream",
          "name": "stdout",
          "text": [
            "(2, 5) USA\n"
          ]
        }
      ]
    },
    {
      "cell_type": "code",
      "source": [
        "my_house.num_of_floor = 5\n",
        "print(my_house.House_description(), my_house.country)\n",
        "del my_house.num_of_floor\n",
        "print(my_house.House_description(), my_house.country)"
      ],
      "metadata": {
        "colab": {
          "base_uri": "https://localhost:8080/",
          "height": 350
        },
        "id": "1zseE8qs13gT",
        "outputId": "f7d7b50e-a6b8-41af-cc67-dbb61af8e119"
      },
      "execution_count": null,
      "outputs": [
        {
          "output_type": "stream",
          "name": "stdout",
          "text": [
            "(2, 5) USA\n"
          ]
        },
        {
          "output_type": "error",
          "ename": "AttributeError",
          "evalue": "'House' object has no attribute 'num_of_floor'",
          "traceback": [
            "\u001b[0;31m---------------------------------------------------------------------------\u001b[0m",
            "\u001b[0;31mAttributeError\u001b[0m                            Traceback (most recent call last)",
            "\u001b[0;32m<ipython-input-31-ea6bbe7eb474>\u001b[0m in \u001b[0;36m<cell line: 5>\u001b[0;34m()\u001b[0m\n\u001b[1;32m      3\u001b[0m \u001b[0mprint\u001b[0m\u001b[0;34m(\u001b[0m\u001b[0mmy_house\u001b[0m\u001b[0;34m.\u001b[0m\u001b[0mHouse_description\u001b[0m\u001b[0;34m(\u001b[0m\u001b[0;34m)\u001b[0m\u001b[0;34m,\u001b[0m \u001b[0mmy_house\u001b[0m\u001b[0;34m.\u001b[0m\u001b[0mcountry\u001b[0m\u001b[0;34m)\u001b[0m\u001b[0;34m\u001b[0m\u001b[0;34m\u001b[0m\u001b[0m\n\u001b[1;32m      4\u001b[0m \u001b[0;32mdel\u001b[0m \u001b[0mmy_house\u001b[0m\u001b[0;34m.\u001b[0m\u001b[0mnum_of_floor\u001b[0m\u001b[0;34m\u001b[0m\u001b[0;34m\u001b[0m\u001b[0m\n\u001b[0;32m----> 5\u001b[0;31m \u001b[0mprint\u001b[0m\u001b[0;34m(\u001b[0m\u001b[0mmy_house\u001b[0m\u001b[0;34m.\u001b[0m\u001b[0mHouse_description\u001b[0m\u001b[0;34m(\u001b[0m\u001b[0;34m)\u001b[0m\u001b[0;34m,\u001b[0m \u001b[0mmy_house\u001b[0m\u001b[0;34m.\u001b[0m\u001b[0mcountry\u001b[0m\u001b[0;34m)\u001b[0m\u001b[0;34m\u001b[0m\u001b[0;34m\u001b[0m\u001b[0m\n\u001b[0m",
            "\u001b[0;32m<ipython-input-25-1562e3d9316f>\u001b[0m in \u001b[0;36mHouse_description\u001b[0;34m(self)\u001b[0m\n\u001b[1;32m      7\u001b[0m \u001b[0;34m\u001b[0m\u001b[0m\n\u001b[1;32m      8\u001b[0m   \u001b[0;32mdef\u001b[0m \u001b[0mHouse_description\u001b[0m\u001b[0;34m(\u001b[0m\u001b[0mself\u001b[0m\u001b[0;34m)\u001b[0m\u001b[0;34m:\u001b[0m\u001b[0;34m\u001b[0m\u001b[0;34m\u001b[0m\u001b[0m\n\u001b[0;32m----> 9\u001b[0;31m     \u001b[0;32mreturn\u001b[0m \u001b[0;34m(\u001b[0m\u001b[0mself\u001b[0m\u001b[0;34m.\u001b[0m\u001b[0mnum_of_room\u001b[0m\u001b[0;34m,\u001b[0m \u001b[0mself\u001b[0m\u001b[0;34m.\u001b[0m\u001b[0mnum_of_floor\u001b[0m\u001b[0;34m)\u001b[0m\u001b[0;34m\u001b[0m\u001b[0;34m\u001b[0m\u001b[0m\n\u001b[0m\u001b[1;32m     10\u001b[0m \u001b[0;34m\u001b[0m\u001b[0m\n\u001b[1;32m     11\u001b[0m \u001b[0mmy_house\u001b[0m \u001b[0;34m=\u001b[0m \u001b[0mHouse\u001b[0m\u001b[0;34m(\u001b[0m\u001b[0;36m2\u001b[0m\u001b[0;34m,\u001b[0m \u001b[0;36m3\u001b[0m\u001b[0;34m)\u001b[0m\u001b[0;34m\u001b[0m\u001b[0;34m\u001b[0m\u001b[0m\n",
            "\u001b[0;31mAttributeError\u001b[0m: 'House' object has no attribute 'num_of_floor'"
          ]
        }
      ]
    },
    {
      "cell_type": "code",
      "source": [
        "print( my_house.country)\n",
        "my_house.country = 'GER'\n",
        "print( my_house.country)\n",
        "del my_house.country\n",
        "print( my_house.country)"
      ],
      "metadata": {
        "colab": {
          "base_uri": "https://localhost:8080/"
        },
        "id": "uVUFS2bO2Ev4",
        "outputId": "7ecb1b33-2c62-4248-9875-c67b5ec2d0d5"
      },
      "execution_count": null,
      "outputs": [
        {
          "output_type": "stream",
          "name": "stdout",
          "text": [
            "USA\n",
            "GER\n",
            "Iran\n"
          ]
        }
      ]
    },
    {
      "cell_type": "code",
      "source": [
        "#circle class\n",
        "class Circle:\n",
        "  pi = 3.14\n",
        "\n",
        "  def __init__(self, r):\n",
        "    self.r = r\n",
        "\n",
        "  def calc_diameter(self):\n",
        "    return self.r * 2\n",
        "\n",
        "  def calc_area(self):\n",
        "    return (self.r ** 2) * self.pi\n",
        "\n",
        "  def calc_circumferece(self):\n",
        "    return 2 * self.pi * self.r\n",
        "\n",
        "circle1 = Circle(10)\n",
        "print(circle1.r,circle1.pi, circle1.calc_diameter(), circle1.calc_area(), circle1.calc_circumferece())\n"
      ],
      "metadata": {
        "colab": {
          "base_uri": "https://localhost:8080/"
        },
        "id": "xCuUkHwr37li",
        "outputId": "410631f5-d836-493d-8587-6c297bff5e6a"
      },
      "execution_count": null,
      "outputs": [
        {
          "output_type": "stream",
          "name": "stdout",
          "text": [
            "10 3.14 20 314.0 62.800000000000004\n"
          ]
        }
      ]
    },
    {
      "cell_type": "code",
      "source": [
        "#self.pi reference to class attribute and can use Circle insted of self\n",
        "class Circle:\n",
        "  pi = 3.14\n",
        "\n",
        "  def __init__(self, r):\n",
        "    self.r = r\n",
        "\n",
        "  def calc_diameter(self):\n",
        "    return self.r * 2\n",
        "\n",
        "  def calc_area(self):\n",
        "    return (self.r ** 2) * Circle.pi #self.pi reference to class attribute and can use Circle insted of self\n",
        "\n",
        "  def calc_circumferece(self):\n",
        "    return 2 * Circle.pi * self.r\n",
        "\n",
        "\n",
        "circle2 = Circle(10)\n",
        "print(circle2.r, circle2.pi, circle2.calc_diameter(), circle2.calc_area(), circle2.calc_circumferece())\n",
        "circle2.pi = 3.1415\n",
        "print(circle2.r, circle2.pi, circle2.calc_diameter(), circle2.calc_area(), circle2.calc_circumferece())\n",
        "\n",
        "\n",
        "print(circle1.r,circle1.pi, circle1.calc_diameter(), circle1.calc_area(), circle1.calc_circumferece())\n",
        "circle1.pi = 3.1415\n",
        "print(circle1.r,circle1.pi, circle1.calc_diameter(), circle1.calc_area(), circle1.calc_circumferece())"
      ],
      "metadata": {
        "colab": {
          "base_uri": "https://localhost:8080/"
        },
        "id": "7oMcOXPK7akm",
        "outputId": "4e01957d-33d2-4f48-dc91-0ebc01cfef55"
      },
      "execution_count": null,
      "outputs": [
        {
          "output_type": "stream",
          "name": "stdout",
          "text": [
            "10 3.14 20 314.0 62.800000000000004\n",
            "10 3.1415 20 314.0 62.800000000000004\n",
            "10 3.14 20 314.0 62.800000000000004\n",
            "10 3.1415 20 314.15000000000003 62.830000000000005\n"
          ]
        }
      ]
    },
    {
      "cell_type": "markdown",
      "source": [
        "Inheritance"
      ],
      "metadata": {
        "id": "Fhii3MpZ8VSE"
      }
    },
    {
      "cell_type": "code",
      "source": [
        "class Person:\n",
        "  def __init__(self, firstname, lastname):\n",
        "    self.firstname = firstname\n",
        "    self.lastname = lastname\n",
        "\n",
        "  def fullname(self):\n",
        "    return self.firstname.title() + ' ' + self.lastname.title()\n",
        "\n",
        "\n",
        "class Student(Person):\n",
        "  pass\n",
        "\n",
        "\n",
        "stud1 = Student('ali', 'alavi', 'Tehran')\n",
        "print(stud1.fullname())"
      ],
      "metadata": {
        "colab": {
          "base_uri": "https://localhost:8080/"
        },
        "id": "Sx-kJb9J8Uiv",
        "outputId": "75e3ba79-0945-459b-fd21-e8a1960dd43e"
      },
      "execution_count": null,
      "outputs": [
        {
          "output_type": "stream",
          "name": "stdout",
          "text": [
            "Ali Alavi Tehran\n"
          ]
        }
      ]
    },
    {
      "cell_type": "code",
      "source": [
        "class Person:\n",
        "  def __init__(self, firstname, lastname):\n",
        "    self.firstname = firstname\n",
        "    self.lastname = lastname\n",
        "\n",
        "\n",
        "  def fullname(self):\n",
        "    return self.firstname.title() + ' ' + self.lastname.title()\n",
        "\n",
        "\n",
        "class Student(Person):\n",
        "   def __init__(self, firstname, lastname, university, major):\n",
        "     Person.__init__(self, firstname, lastname, university) # it's not usuall\n",
        "     self.major = major\n",
        "     self.university = university\n",
        "\n",
        "stud1 = Student('ali', 'alavi', 'Tehran', 'computer')\n",
        "print(stud1.fullname())"
      ],
      "metadata": {
        "colab": {
          "base_uri": "https://localhost:8080/"
        },
        "id": "FVfE6-fmBine",
        "outputId": "f8f15262-28a3-40d8-aff6-bb41f079f4fe"
      },
      "execution_count": null,
      "outputs": [
        {
          "output_type": "stream",
          "name": "stdout",
          "text": [
            "Ali Alavi Tehran\n"
          ]
        }
      ]
    },
    {
      "cell_type": "code",
      "source": [
        "class Person:\n",
        "  def __init__(self, firstname, lastname):\n",
        "    self.firstname = firstname\n",
        "    self.lastname = lastname\n",
        "\n",
        "  def fullname(self):\n",
        "    return self.firstname.title() + ' ' + self.lastname.title()\n",
        "\n",
        "\n",
        "class Student(Person):\n",
        "   def __init__(self, firstname, lastname, university, major):\n",
        "     super().__init__(firstname, lastname)#### super\n",
        "     self.major = major\n",
        "     self.university = university\n",
        "\n",
        "   def fullname(self):\n",
        "     return f\"{self.firstname.title()} {self.lastname.title()}. I'm studying  {self.university.title()}\"\n",
        "\n",
        "   def education_info(self):\n",
        "     return f'{self.major.title()} in {self.university.title()}'\n",
        "\n",
        "\n",
        "class Teacher(Person):\n",
        "   def __init__(self, firstname, lastname, university, department):\n",
        "     super().__init__(firstname, lastname)\n",
        "     self.dept = department\n",
        "     self.uni = university\n",
        "\n",
        "   def working_info(self):\n",
        "      return f'{self.dept} in {self.uni}'\n",
        "\n",
        "\n",
        "stud1 = Student('ali', 'alavi', 'Tehran', 'computer Engineering')\n",
        "print(stud1.fullname(), stud1.education_info())\n",
        "\n",
        "teacher1 = Teacher('Reza', 'Ahmadi', 'Isfahan', 'Computer')\n",
        "print(teacher1.fullname(), teacher1.working_info())"
      ],
      "metadata": {
        "colab": {
          "base_uri": "https://localhost:8080/"
        },
        "id": "qU1Ott3m_4FT",
        "outputId": "c5c459f7-f630-4294-b1c7-470ffd0523c9"
      },
      "execution_count": 6,
      "outputs": [
        {
          "output_type": "stream",
          "name": "stdout",
          "text": [
            "Ali Alavi. I'm studying  Tehran Computer Engineering in Tehran\n",
            "Reza Ahmadi Computer in Isfahan\n"
          ]
        }
      ]
    },
    {
      "cell_type": "code",
      "source": [
        "help(Teacher)#Method  resolution"
      ],
      "metadata": {
        "id": "qzN2Xi7iBX4o",
        "colab": {
          "base_uri": "https://localhost:8080/"
        },
        "outputId": "51a97b9d-8936-491c-e4f0-e77f36d99204"
      },
      "execution_count": 8,
      "outputs": [
        {
          "output_type": "stream",
          "name": "stdout",
          "text": [
            "Help on class Teacher in module __main__:\n",
            "\n",
            "class Teacher(Person)\n",
            " |  Teacher(firstname, lastname, university, department)\n",
            " |  \n",
            " |  Method resolution order:\n",
            " |      Teacher\n",
            " |      Person\n",
            " |      builtins.object\n",
            " |  \n",
            " |  Methods defined here:\n",
            " |  \n",
            " |  __init__(self, firstname, lastname, university, department)\n",
            " |      Initialize self.  See help(type(self)) for accurate signature.\n",
            " |  \n",
            " |  working_info(self)\n",
            " |  \n",
            " |  ----------------------------------------------------------------------\n",
            " |  Methods inherited from Person:\n",
            " |  \n",
            " |  fullname(self)\n",
            " |  \n",
            " |  ----------------------------------------------------------------------\n",
            " |  Data descriptors inherited from Person:\n",
            " |  \n",
            " |  __dict__\n",
            " |      dictionary for instance variables (if defined)\n",
            " |  \n",
            " |  __weakref__\n",
            " |      list of weak references to the object (if defined)\n",
            "\n"
          ]
        }
      ]
    },
    {
      "cell_type": "markdown",
      "source": [
        "Polymorphism"
      ],
      "metadata": {
        "id": "b4yw6WYspeuL"
      }
    },
    {
      "cell_type": "code",
      "source": [
        "class Shape: # abstract class yhat can't create instance of it\n",
        "  def __init__(self, kind, name):\n",
        "    self.kind = kind\n",
        "    self.name = name\n",
        "\n",
        "  def area(self): # have to overwrite method in children\n",
        "    raise NotImplementedError('All Children of shape class should redefine this area. ')\n",
        "\n",
        "\n",
        "class Circle(Shape):\n",
        "   pi = 3.14\n",
        "   def __init__(self, name, r):\n",
        "     super().__init__('square', name)\n",
        "     self.r = r\n",
        "\n",
        "   def area(self):\n",
        "      return (self.r ** 2) * self.pi\n",
        "\n",
        "\n",
        "class Square(Shape):\n",
        "   def __init__(self, name, side_len):\n",
        "     super().__init__('circle', name)\n",
        "     self.side_len = side_len\n",
        "\n",
        "   def area(self):\n",
        "      return self.side_len * 4\n",
        "\n",
        "\n",
        "\n",
        "square = Square('sqr', 10)\n",
        "circle = Circle('crcl', 10)\n",
        "\n",
        "print(square.area())\n",
        "print(circle.area())"
      ],
      "metadata": {
        "colab": {
          "base_uri": "https://localhost:8080/"
        },
        "id": "4QV8-CaYnTsJ",
        "outputId": "1169c702-775e-4e29-8783-0387382ec086"
      },
      "execution_count": 12,
      "outputs": [
        {
          "output_type": "stream",
          "name": "stdout",
          "text": [
            "40\n",
            "314.0\n"
          ]
        }
      ]
    },
    {
      "cell_type": "markdown",
      "source": [
        "Magic methods, Dunder methods"
      ],
      "metadata": {
        "id": "vOtRWS28s-Rf"
      }
    },
    {
      "cell_type": "code",
      "source": [
        "class Square():\n",
        "   def __init__(self, side_len):# magic or dunder method\n",
        "     self.side_len = side_len\n",
        "\n",
        "   def area(self):\n",
        "      return self.side_len * 4\n",
        "\n",
        "   def __str__(self):\n",
        "     return f'Square with side lengh : {self.side_len}'\n",
        "\n",
        "   def __len__(self):\n",
        "     return self.side_len\n",
        "\n",
        "   def __del__(self):\n",
        "     print(f'Square with {self.side_len} side lenght deleted.')\n",
        "\n",
        "sqr = Square(10)\n",
        "\n",
        "print(sqr)\n",
        "print(f'Side lengh is {len(sqr)}')\n",
        "del sqr"
      ],
      "metadata": {
        "colab": {
          "base_uri": "https://localhost:8080/"
        },
        "id": "igsKWoR6sDQe",
        "outputId": "47438214-9b83-47e1-a13c-b48d1514a639"
      },
      "execution_count": 20,
      "outputs": [
        {
          "output_type": "stream",
          "name": "stdout",
          "text": [
            "Square with side lengh : 10\n",
            "side lengh is 10\n",
            "Square with 10 side lenght deleted.\n"
          ]
        }
      ]
    },
    {
      "cell_type": "code",
      "source": [
        "class Line:\n",
        "  def __init__(self, a, b):\n",
        "    self.a = a\n",
        "    self.b = b\n",
        "\n",
        "  def __str__(self):\n",
        "     return f'line with a=({self.a[0], self.a[1]}, b={self.b[0], self.b[1]})'\n",
        "\n",
        "  def lenght(self):\n",
        "    return ((self.a[0]+ self.a[1]) ** 2 + (self.b[0]+ self.b[1]) ** 2) ** 0.5\n",
        "\n",
        "  def shib(self)  :\n",
        "    return (self.b[1]-self.a[1])/(self.b[0]-self.a[0])\n",
        "\n",
        "l1 = Line((1, 1), (3, 3))\n",
        "print(l1)\n",
        "print(l1.lenght())\n",
        "print(l1.shib())"
      ],
      "metadata": {
        "colab": {
          "base_uri": "https://localhost:8080/"
        },
        "id": "8bLHohzeuMqo",
        "outputId": "4415fad8-af85-41ba-c055-84d7a7f24ee4"
      },
      "execution_count": 26,
      "outputs": [
        {
          "output_type": "stream",
          "name": "stdout",
          "text": [
            "line with a=((1, 1), b=(3, 3))\n",
            "6.324555320336759\n",
            "1.0\n"
          ]
        }
      ]
    },
    {
      "cell_type": "code",
      "source": [
        "class Line:\n",
        "  def __init__(self, a, b):\n",
        "    self.a = {'x' : a[0], 'y' : a[1]}\n",
        "    self.b = {'x' : b[0], 'y' : b[1]}\n",
        "\n",
        "  def __str__(self):\n",
        "     return f\"line with a=(({self.a['x']}, {self.a['y']}), b=({self.b['x']}, {self.b['y']}))\"\n",
        "\n",
        "  def lenght(self):\n",
        "    return ((self.a['x']+ self.a['y']) ** 2 + (self.b['x']+ self.b['y']) ** 2) ** 0.5\n",
        "\n",
        "  def shib(self)  :\n",
        "    return (self.b['y']-self.a['y'])/(self.b['x']-self.a['x'])\n",
        "\n",
        "l1 = Line((1, 1), (3, 3))\n",
        "print(l1)\n",
        "print(l1.lenght())\n",
        "print(l1.shib())"
      ],
      "metadata": {
        "colab": {
          "base_uri": "https://localhost:8080/"
        },
        "id": "wu6xbtdiDYZ1",
        "outputId": "666b69c5-fbba-470d-8479-a0a7896327fd"
      },
      "execution_count": 33,
      "outputs": [
        {
          "output_type": "stream",
          "name": "stdout",
          "text": [
            "line with a=((1, 1), b=(3, 3))\n",
            "6.324555320336759\n",
            "1.0\n"
          ]
        }
      ]
    },
    {
      "cell_type": "markdown",
      "source": [
        "Dunder methods"
      ],
      "metadata": {
        "id": "r9j9Qek0Mkk6"
      }
    },
    {
      "cell_type": "code",
      "source": [
        "print(dir(t1))"
      ],
      "metadata": {
        "colab": {
          "base_uri": "https://localhost:8080/"
        },
        "id": "uN2h1Wc9L7lm",
        "outputId": "d9a1d03d-7b49-43d6-fc81-f81e566d0f16"
      },
      "execution_count": 44,
      "outputs": [
        {
          "output_type": "stream",
          "name": "stdout",
          "text": [
            "['__add__', '__class__', '__delattr__', '__dict__', '__dir__', '__doc__', '__eq__', '__format__', '__ge__', '__getattribute__', '__gt__', '__hash__', '__init__', '__init_subclass__', '__le__', '__lt__', '__module__', '__ne__', '__new__', '__reduce__', '__reduce_ex__', '__repr__', '__setattr__', '__sizeof__', '__str__', '__subclasshook__', '__weakref__', 'hour', 'minute', 'second']\n"
          ]
        }
      ]
    },
    {
      "cell_type": "code",
      "source": [
        "print(dir(0))"
      ],
      "metadata": {
        "colab": {
          "base_uri": "https://localhost:8080/"
        },
        "id": "0oyirX6tHoRz",
        "outputId": "721cae24-f14c-40a9-930b-240a6a4445f4"
      },
      "execution_count": 43,
      "outputs": [
        {
          "output_type": "stream",
          "name": "stdout",
          "text": [
            "['__abs__', '__add__', '__and__', '__bool__', '__ceil__', '__class__', '__delattr__', '__dir__', '__divmod__', '__doc__', '__eq__', '__float__', '__floor__', '__floordiv__', '__format__', '__ge__', '__getattribute__', '__getnewargs__', '__gt__', '__hash__', '__index__', '__init__', '__init_subclass__', '__int__', '__invert__', '__le__', '__lshift__', '__lt__', '__mod__', '__mul__', '__ne__', '__neg__', '__new__', '__or__', '__pos__', '__pow__', '__radd__', '__rand__', '__rdivmod__', '__reduce__', '__reduce_ex__', '__repr__', '__rfloordiv__', '__rlshift__', '__rmod__', '__rmul__', '__ror__', '__round__', '__rpow__', '__rrshift__', '__rshift__', '__rsub__', '__rtruediv__', '__rxor__', '__setattr__', '__sizeof__', '__str__', '__sub__', '__subclasshook__', '__truediv__', '__trunc__', '__xor__', 'as_integer_ratio', 'bit_count', 'bit_length', 'conjugate', 'denominator', 'from_bytes', 'imag', 'numerator', 'real', 'to_bytes']\n"
          ]
        }
      ]
    },
    {
      "cell_type": "markdown",
      "source": [
        "Operator Overloading"
      ],
      "metadata": {
        "id": "cTCF-EFyJfn7"
      }
    },
    {
      "cell_type": "code",
      "source": [
        "class Time:\n",
        "  def __init__(self, h, m, s):\n",
        "    if h >= 24 :\n",
        "      raise ValueError(\"Hours number should be less than 23.\")\n",
        "    if m >= 60 :\n",
        "      raise ValueError(\"Minutes number should be less than 60.\")\n",
        "    if s >= 60 :\n",
        "      raise ValueError(\"Seconds number should be less than 60.\")\n",
        "\n",
        "    self.hour = h\n",
        "    self.minute = m\n",
        "    self.second = s\n",
        "\n",
        "  def __str__(self):\n",
        "    return f'{self.hour:02}:{self.minute:02}:{self.second:02}'\n",
        "\n",
        "  def __add__(self, other):\n",
        "    return f'{self.hour + other.hour:02}:{self.minute + other.minute:02}:{self.second + other.second:02}'\n",
        "\n",
        "  def __sub__(self, other):\n",
        "    return f'{self.hour - other.hour:02}:{self.minute - other.minute:02}:{self.second - other.second:02}'\n",
        "\n",
        "\n",
        "t1 = Time(10,10,2)\n",
        "t2 = Time(11,11,2)\n",
        "t3 = t1 + t2\n",
        "t4 = t1 - t2\n",
        "print(t3)\n",
        "print(t4)\n",
        "\n"
      ],
      "metadata": {
        "colab": {
          "base_uri": "https://localhost:8080/"
        },
        "id": "AjzvI9SPHBsk",
        "outputId": "928e6b6a-7033-4652-81a6-0773f7aabe9c"
      },
      "execution_count": 41,
      "outputs": [
        {
          "output_type": "stream",
          "name": "stdout",
          "text": [
            "21:21:04\n"
          ]
        }
      ]
    },
    {
      "cell_type": "code",
      "source": [],
      "metadata": {
        "id": "q2w4NMT3LzwE"
      },
      "execution_count": null,
      "outputs": []
    }
  ]
}