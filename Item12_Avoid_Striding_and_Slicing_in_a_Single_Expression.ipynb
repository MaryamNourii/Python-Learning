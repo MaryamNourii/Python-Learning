{
  "nbformat": 4,
  "nbformat_minor": 0,
  "metadata": {
    "colab": {
      "provenance": [],
      "authorship_tag": "ABX9TyOQWUPZ+CT88BcxYrW0AhjS",
      "include_colab_link": true
    },
    "kernelspec": {
      "name": "python3",
      "display_name": "Python 3"
    },
    "language_info": {
      "name": "python"
    }
  },
  "cells": [
    {
      "cell_type": "markdown",
      "metadata": {
        "id": "view-in-github",
        "colab_type": "text"
      },
      "source": [
        "<a href=\"https://colab.research.google.com/github/MaryamNourii/Python-Learning/blob/Clean_Code/Item12_Avoid_Striding_and_Slicing_in_a_Single_Expression.ipynb\" target=\"_parent\"><img src=\"https://colab.research.google.com/assets/colab-badge.svg\" alt=\"Open In Colab\"/></a>"
      ]
    },
    {
      "cell_type": "code",
      "execution_count": 1,
      "metadata": {
        "colab": {
          "base_uri": "https://localhost:8080/"
        },
        "id": "2V6r3JX5nJYt",
        "outputId": "3880073a-8da4-4554-a92c-2110edee7796"
      },
      "outputs": [
        {
          "output_type": "stream",
          "name": "stdout",
          "text": [
            "['red', 'yellow', 'blue']\n",
            "['orange', 'green', 'purple']\n"
          ]
        }
      ],
      "source": [
        "x = ['red', 'orange', 'yellow', 'green', 'blue', 'purple']\n",
        "odds = x[::2]\n",
        "evens = x[1::2]\n",
        "print(odds)\n",
        "print(evens)"
      ]
    },
    {
      "cell_type": "code",
      "source": [
        "x = b'mongoose'\n",
        "y = x[::-1]\n",
        "print(y)\n"
      ],
      "metadata": {
        "colab": {
          "base_uri": "https://localhost:8080/"
        },
        "id": "iA1ZDcVtnm6h",
        "outputId": "412b3361-3d53-4b98-edae-121c94ebd121"
      },
      "execution_count": 2,
      "outputs": [
        {
          "output_type": "stream",
          "name": "stdout",
          "text": [
            "b'esoognom'\n"
          ]
        }
      ]
    },
    {
      "cell_type": "code",
      "source": [
        "x = ['a', 'b', 'c', 'd', 'e', 'f', 'g', 'h']\n",
        "print(x[::2] )  # ['a', 'c', 'e', 'g']\n",
        "print(x[::-2])  # ['h', 'f', 'd', 'b']\n"
      ],
      "metadata": {
        "colab": {
          "base_uri": "https://localhost:8080/"
        },
        "id": "zm9SoSxLnfno",
        "outputId": "0ee0565c-8e9a-476c-865a-c8f63de3d711"
      },
      "execution_count": 7,
      "outputs": [
        {
          "output_type": "stream",
          "name": "stdout",
          "text": [
            "['a', 'c', 'e', 'g']\n",
            "['h', 'f', 'd', 'b']\n"
          ]
        }
      ]
    },
    {
      "cell_type": "code",
      "source": [
        "print(x[2::2]     )# ['c', 'e', 'g']\n",
        "print(x[-2::-2])   # ['g', 'e', 'c', 'a']\n",
        "print(x[-2:2:-2])  # ['g', 'e']\n",
        "print(x[2:2:-2])   # []\n"
      ],
      "metadata": {
        "colab": {
          "base_uri": "https://localhost:8080/"
        },
        "id": "nfQFSnaQneHK",
        "outputId": "91bea933-2088-4ac3-c226-62f274b9aee8"
      },
      "execution_count": 8,
      "outputs": [
        {
          "output_type": "stream",
          "name": "stdout",
          "text": [
            "['c', 'e', 'g']\n",
            "['g', 'e', 'c', 'a']\n",
            "['g', 'e']\n",
            "[]\n"
          ]
        }
      ]
    },
    {
      "cell_type": "code",
      "source": [
        "y = x[::2]   # ['a', 'c', 'e', 'g']\n",
        "z = y[1:-1]  # ['c', 'e']\n",
        "print(x)\n",
        "print(y)\n",
        "print(z)"
      ],
      "metadata": {
        "colab": {
          "base_uri": "https://localhost:8080/"
        },
        "id": "kofpAHVOnbuK",
        "outputId": "11b9bd8c-2a0f-462d-aad5-b140674b007c"
      },
      "execution_count": 9,
      "outputs": [
        {
          "output_type": "stream",
          "name": "stdout",
          "text": [
            "['a', 'b', 'c', 'd', 'e', 'f', 'g', 'h']\n",
            "['a', 'c', 'e', 'g']\n",
            "['c', 'e']\n"
          ]
        }
      ]
    }
  ]
}